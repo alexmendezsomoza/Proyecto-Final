{
 "cells": [
  {
   "cell_type": "code",
   "execution_count": null,
   "id": "b0f71370",
   "metadata": {},
   "outputs": [],
   "source": []
  },
  {
   "cell_type": "code",
   "execution_count": null,
   "id": "f40eaf41",
   "metadata": {},
   "outputs": [],
   "source": [
    "crea_db=conn.connect(host='localhost', user='root', passwd='123456')\n",
    "cursor=crea_db.cursor()\n",
    "cursor.execute('drop database if exists proyecto_final')\n",
    "cursor.execute('create database proyecto_final')"
   ]
  }
 ],
 "metadata": {
  "kernelspec": {
   "display_name": "clase",
   "language": "python",
   "name": "clase"
  },
  "language_info": {
   "codemirror_mode": {
    "name": "ipython",
    "version": 3
   },
   "file_extension": ".py",
   "mimetype": "text/x-python",
   "name": "python",
   "nbconvert_exporter": "python",
   "pygments_lexer": "ipython3",
   "version": "3.8.8"
  }
 },
 "nbformat": 4,
 "nbformat_minor": 5
}
