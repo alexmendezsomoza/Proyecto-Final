{
 "cells": [
  {
   "cell_type": "markdown",
   "id": "e38bebac",
   "metadata": {},
   "source": [
    "# Modelo NLP - Twitter"
   ]
  },
  {
   "cell_type": "code",
   "execution_count": null,
   "id": "25f40ef2",
   "metadata": {},
   "outputs": [],
   "source": [
    "# Installs\n",
    "#!pip3 install scikit-learn\n",
    "#!pip3 install -U spacy\n",
    "#!python3 -m spacy download es\n",
    "#!python3 -m spacy download es_core_news_sm"
   ]
  },
  {
   "cell_type": "code",
   "execution_count": null,
   "id": "0fb4bcff",
   "metadata": {},
   "outputs": [],
   "source": [
    "#!pip install spacy"
   ]
  },
  {
   "cell_type": "code",
   "execution_count": null,
   "id": "3ebfb9b2",
   "metadata": {},
   "outputs": [],
   "source": [
    "#!pip install -U pip setuptools wheel\n",
    "#!pip install -U spacy\n",
    "#!python -m spacy download es_core_news_sm"
   ]
  },
  {
   "cell_type": "code",
   "execution_count": 1,
   "id": "980d9312",
   "metadata": {},
   "outputs": [],
   "source": [
    "import pandas as pd\n",
    "from spacy import displacy\n",
    "import spacy\n",
    "import re\n",
    "import mysql.connector as conn"
   ]
  },
  {
   "cell_type": "code",
   "execution_count": 2,
   "id": "ae8b0f16",
   "metadata": {},
   "outputs": [],
   "source": [
    "from spacy.lang.es.stop_words import STOP_WORDS\n",
    "\n",
    "#Crear pdf report\n",
    "\n",
    "from io import BytesIO\n",
    "from reportlab.pdfgen import canvas\n",
    "from django.http import HttpResponse\n",
    "\n",
    "#Automatizar email\n",
    "\n",
    "import email, smtplib, ssl\n",
    "from email import encoders\n",
    "from email.mime.base import MIMEBase\n",
    "from email.mime.multipart import MIMEMultipart\n",
    "from email.mime.text import MIMEText"
   ]
  },
  {
   "cell_type": "code",
   "execution_count": 20,
   "id": "f6e51006",
   "metadata": {},
   "outputs": [],
   "source": [
    "import spacy\n",
    "from spacy import displacy"
   ]
  },
  {
   "cell_type": "code",
   "execution_count": 23,
   "id": "f1250549",
   "metadata": {},
   "outputs": [
    {
     "name": "stdout",
     "output_type": "stream",
     "text": [
      "['en', 'podeis', 'hoy', 'ultimo', 'vosotras', 'emplean', 'nunca', 'intento', 'estado', 'tarde', 'soy', 'sí', 'tuyos', 'tenemos', 'haya', 'vais', 'todos', 'encuentra', 'mediante', 'podrá', 'van', 'dice', 'del', 'con', 'delante', 'peor', 'trabajas', 'cuánto', 'poco', 'arribaabajo', 'cuenta', 'hacerlo', 'ya', 'es', 'grandes', 'muchos', 'ejemplo', 'hacia', 'éstas', 'tuyas', 'actualmente', 'será', 'ésa', 'casi', 'realizó', 'gran', 'quizás', 'consigue', 'tiempo', 'realizar', 'haceis', 'nadie', 'apenas', 'incluso', 'quien', 'siguiente', 'igual', 'segun', 'despues', 'dos', 'intentais', 'suyo', 'ambos', 'vuestra', 'no', 'bueno', 'puede', 'breve', 'temprano', 'usais', 'valor', 'pocas', 'buena', 'total', 'ampleamos', 'siete', 'antaño', 'siendo', 'despacio', 'mal', 'una', 'por', 'pais', 'tenía', 'él', 'diferentes', 'mencionó', 'sé', 'podrán', 'raras', 'trabajo', 'ninguno', 'quedó', 'aproximadamente', 'final', 'había', 'lado', 'algo', 'el', 'aquellas', 'estoy', 'tal', 'tus', 'de', 'vez', 'propia', 'sera', 'esta', 'paìs', 'estamos', 'habla', 'gueno', 'aquélla', 'repente', 'sois', 'ayer', 'horas', 'dias', 'partir', 'consigues', 'podemos', 'quién', 'dia', 'vosotros', 'hacen', 'voy', 'cierta', 'aquello', 'nuevos', 'seis', 'cuánta', 'va', 'segundo', 'ciertas', 'día', 'están', 'mismos', 'trata', 'primera', 'nos', 'para', 'principalmente', 'fuera', 'mejor', 'sabe', 'vuestras', 'éstos', 'sus', 'últimas', 'intenta', 'debe', 'dieron', 'un', 'ahí', 'aquéllos', 'uso', 'aquella', 'también', 'estados', 'sabeis', 'puedo', 'salvo', 'porque', 'hago', 'os', 'mis', 'otros', 'dijo', 'primeros', 'los', 'muy', 'yo', 'así', 'era', 'su', 'nueva', 'aseguró', 'cuanto', 'tuya', 'le', 'empleo', 'indicó', 'usted', 'claro', 'durante', 'hacemos', 'qeu', 'eramos', 'proximo', 'consideró', 'pueda', 'vaya', 'usa', 'pasado', 'último', 'señaló', 'dicho', 'aquí', 'supuesto', 'fin', 'aquél', 'agregó', 'fuimos', 'llegó', 'saber', 'luego', 'alguno', 'buen', 'esas', 'tener', 'general', 'estaba', 'unos', 'podrían', 'estará', 'explicó', 'mía', 'mías', 'somos', 'mío', 'podría', 'quiere', 'sólo', 'modo', 'entre', 'ése', 'usan', 'posible', 'usamos', 'estas', 'intentamos', 'aquel', 'desde', 'poder', 'informó', 'estos', 'intentan', 'algún', 'trabajar', 'mia', 'cuales', 'fui', 'anterior', 'dicen', 'parte', 'lo', 'hace', 'otro', 'informo', 'lugar', 'empleas', 'ninguna', 'arriba', 'estuvo', 'solos', 'trabaja', 'antes', 'solamente', 'muchas', 'menudo', 'soyos', 'veces', 'cual', 'eran', 'momento', 'nuestros', 'adelante', 'sigue', 'existe', 'sean', 'ésos', 'mí', 'las', 'dado', 'aquellos', 'donde', 'manifestó', 'expresó', 'tenido', 'enseguida', 'sería', 'podrias', 'ésta', 'aun', 'sin', 'encima', 'esto', 'intentar', 'da', 'trabajan', 'algunas', 'la', 'queremos', 'tendrán', 'usar', 'solas', 'pues', 'míos', 'cuantas', 'tambien', 'diferente', 'se', 'cinco', 'pronto', 'ello', 'pasada', 'sobre', 'verdad', 'he', 'intentas', 'cuatro', 'hasta', 'poca', 'deben', 'hablan', 'vuestros', 'fue', 'ningunas', 'me', 'algunos', 'hicieron', 'tres', 'detrás', 'aqui', 'éste', 'antano', 'últimos', 'mucha', 'estaban', 'ocho', 'tienen', 'otra', 'nuestro', 'buenas', 'tampoco', 'nuevo', 'ellos', 'dan', 'través', 'aún', 'unas', 'demasiado', 'pero', 'ahi', 'quizá', 'cierto', 'ciertos', 'estar', 'hemos', 'mi', 'pocos', 'solo', 'habia', 'al', 'cuando', 'esos', 'propios', 'ésas', 'vuestro', 'tendrá', 'hecho', 'hubo', 'ese', 'estais', 'conseguir', 'otras', 'cada', 'empleais', 'verdadero', 'habrá', 'días', 'hizo', 'cerca', 'mismo', 'respecto', 'debajo', 'tengo', 'todas', 'aquéllas', 'tenga', 'trabajais', 'han', 'segunda', 'ahora', 'mucho', 'manera', 'nosotras', 'hacer', 'podriais', 'conseguimos', 'conocer', 'les', 'mismas', 'tiene', 'próximo', 'ser', 'lejos', 'dónde', 'sea', 'consigo', 'dijeron', 'toda', 'alli', 'conmigo', 'aunque', 'nuevas', 'usas', 'ex', 'suyas', 'sino', 'si', 'sabes', 'consiguen', 'propio', 'ante', 'cuál', 'cuántos', 'contigo', 'más', 'quiénes', 'tu', 'suya', 'eres', 'cualquier', 'sabemos', 'nosotros', 'saben', 'sola', 'vamos', 'cosas', 'está', 'esa', 'mayor', 'mios', 'cuándo', 'pesar', 'tercera', 'cuántas', 'dejó', 'comentó', 'debido', 'hay', 'tú', 'pudo', 'eso', 'estan', 'buenos', 'parece', 'considera', 'pueden', 'además', 'nuestras', 'todo', 'este', 'llevar', 'quiza', 'realizado', 'varias', 'nada', 'verdadera', 'última', 'detras', 'deprisa', 'allí', 'adrede', 'serán', 'podriamos', 'podria', 'uno', 'son', 'dar', 'lleva', 'bajo', 'mias', 'medio', 'bien', 'quienes', 'alrededor', 'ver', 'ha', 'excepto', 'bastante', 'propias', 'ellas', 'mas', 'atras', 'dentro', 'demás', 'decir', 'como', 'ustedes', 'haces', 'junto', 'largo', 'teneis', 'ningún', 'eras', 'siempre', 'creo', 'próximos', 'emplear', 'existen', 'dio', 'enfrente', 'haciendo', 'ningunos', 'te', 'acuerdo', 'ir', 'tanto', 'podrian', 'cómo', 'tuvo', 'qué', 'cuáles', 'asi', 'ni', 'mientras', 'ademas', 'quizas', 'contra', 'añadió', 'fueron', 'afirmó', 'nuestra', 'menos', 'misma', 'tan', 'todavia', 'ti', 'según', 'todavía', 'cuantos', 'primero', 'mio', 'después', 'ella', 'entonces', 'habían', 'cuanta', 'que', 'trabajamos', 'primer', 'tuyo', 'varios', 'sido', 'haber', 'alguna', 'embargo', 'poner', 'tras']\n"
     ]
    },
    {
     "data": {
      "text/plain": [
       "551"
      ]
     },
     "execution_count": 23,
     "metadata": {},
     "output_type": "execute_result"
    }
   ],
   "source": [
    "#Stop Words de es_core_news_sm\n",
    "from spacy.lang.es.stop_words import STOP_WORDS\n",
    "stopwords_spacy = list(STOP_WORDS)\n",
    "print(stopwords_spacy)\n",
    "len(stopwords_spacy)"
   ]
  },
  {
   "cell_type": "code",
   "execution_count": 24,
   "id": "ff815667",
   "metadata": {},
   "outputs": [],
   "source": [
    "nlp = spacy.load('es_core_news_sm')"
   ]
  },
  {
   "cell_type": "code",
   "execution_count": null,
   "id": "b2f76675",
   "metadata": {},
   "outputs": [],
   "source": []
  },
  {
   "cell_type": "code",
   "execution_count": null,
   "id": "24fd2a62",
   "metadata": {},
   "outputs": [],
   "source": []
  },
  {
   "cell_type": "code",
   "execution_count": null,
   "id": "054df17e",
   "metadata": {},
   "outputs": [],
   "source": []
  },
  {
   "cell_type": "code",
   "execution_count": null,
   "id": "af1f258f",
   "metadata": {},
   "outputs": [],
   "source": []
  },
  {
   "cell_type": "code",
   "execution_count": null,
   "id": "3d39ea2a",
   "metadata": {},
   "outputs": [],
   "source": []
  },
  {
   "cell_type": "code",
   "execution_count": null,
   "id": "9948a977",
   "metadata": {},
   "outputs": [],
   "source": []
  },
  {
   "cell_type": "code",
   "execution_count": null,
   "id": "7b815619",
   "metadata": {},
   "outputs": [],
   "source": []
  },
  {
   "cell_type": "code",
   "execution_count": null,
   "id": "e1d96591",
   "metadata": {},
   "outputs": [],
   "source": []
  },
  {
   "cell_type": "markdown",
   "id": "c787aabd",
   "metadata": {},
   "source": [
    "## Test Final"
   ]
  },
  {
   "cell_type": "code",
   "execution_count": 25,
   "id": "ce35aaa8",
   "metadata": {},
   "outputs": [],
   "source": [
    "final_final_final_resultado = pd.read_csv('final_final_resultado.csv')\n",
    "\n",
    "for line in final_final_final_resultado:\n",
    "\t#Reemplazar los caracteres unicode, no se dejaron tildes porque causan error\n",
    "    strtmp1 = line.replace('\\\\u00f1', 'ñ')\n",
    "    strtmp1 = strtmp1.replace('\\\\u00e1', 'a')\n",
    "    strtmp1 = strtmp1.replace('\\\\u00e9', 'e')\n",
    "    strtmp1 = strtmp1.replace('\\\\u00ed', 'i')\n",
    "    strtmp1 = strtmp1.replace('\\\\u00f3', 'o')\n",
    "    strtmp1 = strtmp1.replace('\\\\u00fa', 'u')\n",
    "    strtmp1 = strtmp1.replace('\\\\u00bf', '¿')\n",
    "    strtmp1 = strtmp1.replace('\\\\u00a1', '¡')\n",
    "    strtmp1 = strtmp1.replace('\\\\u00d1', 'Ñ')\n",
    "    strtmp1 = strtmp1.replace('\\\\u00c1', 'A')\n",
    "    strtmp1 = strtmp1.replace('\\\\u00c9', 'E')\n",
    "    strtmp1 = strtmp1.replace('\\\\u00cd', 'I')\n",
    "    strtmp1 = strtmp1.replace('\\\\u00d3', 'O')\n",
    "    strtmp1 = strtmp1.replace('\\\\u00da', 'U')\n",
    "    strtmp1 = strtmp1.replace('\\\\u00fc', 'ü')\n",
    "    strtmp1 = strtmp1.replace('\\\\u00b0', '')\n",
    "    #Quitar el inicio y el fin del json para dejar solo los tweets\n",
    "    strtmp1 = strtmp1.replace('{\"tweets\": {\"tweet\": ', '')\n",
    "    strtmp1 = strtmp1.replace(']}}', ']')\n",
    "    #Quitar el diccionario que contiene la polaridad y dejarla solo con su valor de sentimiento\n",
    "    strtmp1 = strtmp1.replace('\"sentiment\": {\"polarity\": {\"value\": ', '\"sentiment\": ')\n",
    "    strtmp1 = strtmp1.replace('\"NONE\"}}', '\"NONE\"')\n",
    "    #Asignamos al sentimiento positivo el valor de 1\n",
    "    strtmp1 = strtmp1.replace('\"P\"}}', '1')\n",
    "    strtmp1 = strtmp1.replace('\"NEU\"}}', '\"NEU\"')\n",
    "    #Asignamos al sentimiento negativo el valor de 0\n",
    "    strtmp1 = strtmp1.replace('\"N\"}}', '0')\n",
    "    #eliminación de puntuaciones\n",
    "    strtmp1 = re.sub('[¡!#$).;¿?&°]', '', strtmp1.lower())\n"
   ]
  },
  {
   "cell_type": "code",
   "execution_count": 26,
   "id": "e3b880ca",
   "metadata": {},
   "outputs": [
    {
     "data": {
      "text/html": [
       "<div>\n",
       "<style scoped>\n",
       "    .dataframe tbody tr th:only-of-type {\n",
       "        vertical-align: middle;\n",
       "    }\n",
       "\n",
       "    .dataframe tbody tr th {\n",
       "        vertical-align: top;\n",
       "    }\n",
       "\n",
       "    .dataframe thead th {\n",
       "        text-align: right;\n",
       "    }\n",
       "</style>\n",
       "<table border=\"1\" class=\"dataframe\">\n",
       "  <thead>\n",
       "    <tr style=\"text-align: right;\">\n",
       "      <th></th>\n",
       "      <th>tweetid</th>\n",
       "      <th>user</th>\n",
       "      <th>content</th>\n",
       "      <th>date</th>\n",
       "      <th>lang</th>\n",
       "      <th>sentiment</th>\n",
       "    </tr>\n",
       "  </thead>\n",
       "  <tbody>\n",
       "    <tr>\n",
       "      <th>0</th>\n",
       "      <td>768213567418036224</td>\n",
       "      <td>3429794128</td>\n",
       "      <td>@myendlesshazza a que puto mal escribo b me si...</td>\n",
       "      <td>2016-08-23 22:29:21+00:00</td>\n",
       "      <td>es</td>\n",
       "      <td>0</td>\n",
       "    </tr>\n",
       "    <tr>\n",
       "      <th>1</th>\n",
       "      <td>768221670255493120</td>\n",
       "      <td>396616007</td>\n",
       "      <td>quiero mogollon a @albabenito99 pero sobretodo...</td>\n",
       "      <td>2016-08-23 23:01:33+00:00</td>\n",
       "      <td>es</td>\n",
       "      <td>1</td>\n",
       "    </tr>\n",
       "    <tr>\n",
       "      <th>2</th>\n",
       "      <td>768221021300264960</td>\n",
       "      <td>2845050061</td>\n",
       "      <td>vale he visto la tia bebiendose su regla y me ...</td>\n",
       "      <td>2016-08-23 22:58:58+00:00</td>\n",
       "      <td>es</td>\n",
       "      <td>0</td>\n",
       "    </tr>\n",
       "    <tr>\n",
       "      <th>3</th>\n",
       "      <td>768220253730009088</td>\n",
       "      <td>442100979</td>\n",
       "      <td>@yulian_poe @guillermoterry1 ah mucho mas por ...</td>\n",
       "      <td>2016-08-23 22:55:55+00:00</td>\n",
       "      <td>es</td>\n",
       "      <td>1</td>\n",
       "    </tr>\n",
       "    <tr>\n",
       "      <th>4</th>\n",
       "      <td>768231229439311872</td>\n",
       "      <td>529648312</td>\n",
       "      <td>@toni_end seria mejor que dejasen de emitir es...</td>\n",
       "      <td>2016-08-23 23:39:32+00:00</td>\n",
       "      <td>es</td>\n",
       "      <td>0</td>\n",
       "    </tr>\n",
       "  </tbody>\n",
       "</table>\n",
       "</div>"
      ],
      "text/plain": [
       "              tweetid        user  \\\n",
       "0  768213567418036224  3429794128   \n",
       "1  768221670255493120   396616007   \n",
       "2  768221021300264960  2845050061   \n",
       "3  768220253730009088   442100979   \n",
       "4  768231229439311872   529648312   \n",
       "\n",
       "                                             content  \\\n",
       "0  @myendlesshazza a que puto mal escribo b me si...   \n",
       "1  quiero mogollon a @albabenito99 pero sobretodo...   \n",
       "2  vale he visto la tia bebiendose su regla y me ...   \n",
       "3  @yulian_poe @guillermoterry1 ah mucho mas por ...   \n",
       "4  @toni_end seria mejor que dejasen de emitir es...   \n",
       "\n",
       "                        date lang sentiment  \n",
       "0  2016-08-23 22:29:21+00:00   es         0  \n",
       "1  2016-08-23 23:01:33+00:00   es         1  \n",
       "2  2016-08-23 22:58:58+00:00   es         0  \n",
       "3  2016-08-23 22:55:55+00:00   es         1  \n",
       "4  2016-08-23 23:39:32+00:00   es         0  "
      ]
     },
     "execution_count": 26,
     "metadata": {},
     "output_type": "execute_result"
    }
   ],
   "source": [
    "#Quitar columnas sin clasificación de sentimiento \n",
    "indexNames = final_final_final_resultado[(final_final_final_resultado['sentiment'] == 'none') | (final_final_final_resultado['sentiment'] == 'neu')].index\n",
    "final_final_final_resultado.drop(indexNames , inplace=True)\n",
    "final_final_final_resultado.head()"
   ]
  },
  {
   "cell_type": "code",
   "execution_count": 27,
   "id": "7c62927d",
   "metadata": {},
   "outputs": [],
   "source": [
    "#Importar librerías de aprendizaje\n",
    "from sklearn.feature_extraction.text import TfidfVectorizer\n",
    "from sklearn.pipeline import Pipeline\n",
    "from sklearn.model_selection import train_test_split\n",
    "from sklearn.metrics import accuracy_score, classification_report, confusion_matrix"
   ]
  },
  {
   "cell_type": "code",
   "execution_count": 28,
   "id": "20390c21",
   "metadata": {},
   "outputs": [
    {
     "data": {
      "text/plain": [
       "0    2854\n",
       "1    1896\n",
       "Name: sentiment, dtype: int64"
      ]
     },
     "execution_count": 28,
     "metadata": {},
     "output_type": "execute_result"
    }
   ],
   "source": [
    "#Verificar frecuencias de cada categoría\n",
    "final_final_final_resultado['sentiment'].value_counts()"
   ]
  },
  {
   "cell_type": "code",
   "execution_count": 29,
   "id": "3f123234",
   "metadata": {},
   "outputs": [
    {
     "data": {
      "text/plain": [
       "tweetid      0\n",
       "user         0\n",
       "content      0\n",
       "date         0\n",
       "lang         0\n",
       "sentiment    0\n",
       "dtype: int64"
      ]
     },
     "execution_count": 29,
     "metadata": {},
     "output_type": "execute_result"
    }
   ],
   "source": [
    "#Verificar si hay datos nulos\n",
    "final_final_final_resultado.isnull().sum()"
   ]
  },
  {
   "cell_type": "markdown",
   "id": "801e219b",
   "metadata": {},
   "source": [
    "# Tokenización"
   ]
  },
  {
   "cell_type": "code",
   "execution_count": 30,
   "id": "13823587",
   "metadata": {},
   "outputs": [
    {
     "data": {
      "text/plain": [
       "'!\"#$%&\\'()*+,-./:;<=>?@[\\\\]^_`{|}~¡¿'"
      ]
     },
     "execution_count": 30,
     "metadata": {},
     "output_type": "execute_result"
    }
   ],
   "source": [
    "import string #Quita todos los simbolos\n",
    "puntua = string.punctuation + \"¡¿\"\n",
    "puntua"
   ]
  },
  {
   "cell_type": "code",
   "execution_count": 31,
   "id": "6de0d292",
   "metadata": {},
   "outputs": [],
   "source": [
    "#Función para limpieza de datos\n",
    "def text_data_cleaning(sentence):\n",
    "    doc = nlp(sentence)\n",
    "    \n",
    "    tokens = []\n",
    "    for token in doc:\n",
    "        if token.lemma_ != \"-PRON-\":\n",
    "            temp = token.lemma_.strip()\n",
    "        else:\n",
    "            temp = token\n",
    "        tokens.append(temp)\n",
    "    \n",
    "    clean_tokens = []\n",
    "    for token in tokens:\n",
    "        if token not in stopwords_spacy and token not in puntua:\n",
    "            clean_tokens.append(token)\n",
    "    \n",
    "    return clean_tokens"
   ]
  },
  {
   "cell_type": "code",
   "execution_count": 32,
   "id": "f7faaeea",
   "metadata": {},
   "outputs": [
    {
     "data": {
      "text/plain": [
       "['Hola', 'Te', 'gustar', 'meetup']"
      ]
     },
     "execution_count": 32,
     "metadata": {},
     "output_type": "execute_result"
    }
   ],
   "source": [
    "text_data_cleaning(\"¡Hola cómo estás!. ¿Te gusta el meetup?\")"
   ]
  },
  {
   "cell_type": "markdown",
   "id": "caa7da3d",
   "metadata": {},
   "source": [
    "# Vectorization Feature Engineering (TF-IDF)"
   ]
  },
  {
   "cell_type": "code",
   "execution_count": 33,
   "id": "bf79c925",
   "metadata": {},
   "outputs": [],
   "source": [
    "#importar librería de vectorización\n",
    "from sklearn.svm import LinearSVC"
   ]
  },
  {
   "cell_type": "code",
   "execution_count": 34,
   "id": "9c18f0f2",
   "metadata": {},
   "outputs": [],
   "source": [
    "#Definir la función de tokenizado y crear el clasificador lineal\n",
    "tfidf = TfidfVectorizer(tokenizer = text_data_cleaning)\n",
    "classifier = LinearSVC()"
   ]
  },
  {
   "cell_type": "code",
   "execution_count": 35,
   "id": "8c319f00",
   "metadata": {},
   "outputs": [],
   "source": [
    "#Crear los vectores de datos\n",
    "X = final_final_final_resultado['content']\n",
    "y = final_final_final_resultado['sentiment']"
   ]
  },
  {
   "cell_type": "code",
   "execution_count": 36,
   "id": "3f21f2ef",
   "metadata": {},
   "outputs": [
    {
     "data": {
      "text/plain": [
       "((3800,), (950,), (3800,), (950,))"
      ]
     },
     "execution_count": 36,
     "metadata": {},
     "output_type": "execute_result"
    }
   ],
   "source": [
    "#Crear el vector de entrenamiento como una porción de los datos y dejar el resto para pruebas\n",
    "X_train, X_test, y_train, y_test = train_test_split(X, y, test_size=0.2, random_state=42)\n",
    "X_train.shape, X_test.shape, y_train.shape, y_test.shape"
   ]
  },
  {
   "cell_type": "code",
   "execution_count": 37,
   "id": "4c9f140a",
   "metadata": {},
   "outputs": [],
   "source": [
    "#Crear un pipeline\n",
    "clf = Pipeline([('tfidf', tfidf), ('clf', classifier)])"
   ]
  },
  {
   "cell_type": "code",
   "execution_count": 38,
   "id": "389bf039",
   "metadata": {},
   "outputs": [],
   "source": [
    "#evitar que el formato se tome como unknown\n",
    "y_train = y_train.astype('int')\n",
    "y_test = y_test.astype('int')"
   ]
  },
  {
   "cell_type": "code",
   "execution_count": 39,
   "id": "c509811f",
   "metadata": {},
   "outputs": [
    {
     "data": {
      "text/plain": [
       "Pipeline(steps=[('tfidf',\n",
       "                 TfidfVectorizer(tokenizer=<function text_data_cleaning at 0x7fa7082aaf70>)),\n",
       "                ('clf', LinearSVC())])"
      ]
     },
     "execution_count": 39,
     "metadata": {},
     "output_type": "execute_result"
    }
   ],
   "source": [
    "#Entrenar el clasificador\n",
    "clf.fit(X_train, y_train)"
   ]
  },
  {
   "cell_type": "code",
   "execution_count": 40,
   "id": "16315ddd",
   "metadata": {},
   "outputs": [],
   "source": [
    "#Crear el vectos de valores predichos a partir del clasificador\n",
    "y_pred = clf.predict(X_test)"
   ]
  },
  {
   "cell_type": "code",
   "execution_count": 41,
   "id": "0164c76a",
   "metadata": {},
   "outputs": [
    {
     "name": "stdout",
     "output_type": "stream",
     "text": [
      "              precision    recall  f1-score   support\n",
      "\n",
      "           0       0.87      0.90      0.88       578\n",
      "           1       0.84      0.78      0.81       372\n",
      "\n",
      "    accuracy                           0.86       950\n",
      "   macro avg       0.85      0.84      0.85       950\n",
      "weighted avg       0.86      0.86      0.85       950\n",
      "\n"
     ]
    }
   ],
   "source": [
    "#Ver la precisión obtenida\n",
    "print(classification_report(y_test, y_pred))"
   ]
  },
  {
   "cell_type": "code",
   "execution_count": 42,
   "id": "67e41ee6",
   "metadata": {},
   "outputs": [],
   "source": [
    "# 86% de 'efectividad'"
   ]
  },
  {
   "cell_type": "code",
   "execution_count": 43,
   "id": "94849b8e",
   "metadata": {},
   "outputs": [
    {
     "data": {
      "text/plain": [
       "array([[522,  56],\n",
       "       [ 81, 291]])"
      ]
     },
     "execution_count": 43,
     "metadata": {},
     "output_type": "execute_result"
    }
   ],
   "source": [
    "#Crear la matriz de confusión\n",
    "confusion_matrix(y_test, y_pred)"
   ]
  },
  {
   "cell_type": "markdown",
   "id": "863cc624",
   "metadata": {},
   "source": [
    "Me dan 82 falsos negativos"
   ]
  },
  {
   "cell_type": "code",
   "execution_count": 44,
   "id": "0bba5182",
   "metadata": {},
   "outputs": [
    {
     "data": {
      "text/plain": [
       "array([0])"
      ]
     },
     "execution_count": 44,
     "metadata": {},
     "output_type": "execute_result"
    }
   ],
   "source": [
    "#Predecir algunas frases de prueba\n",
    "clf.predict(['Eres una calamidad'])"
   ]
  },
  {
   "cell_type": "markdown",
   "id": "39ad9148",
   "metadata": {},
   "source": [
    "# Guardar Modelo"
   ]
  },
  {
   "cell_type": "code",
   "execution_count": 49,
   "id": "a0b37f69",
   "metadata": {},
   "outputs": [],
   "source": [
    "import pickle"
   ]
  },
  {
   "cell_type": "code",
   "execution_count": 51,
   "id": "53e9106c",
   "metadata": {},
   "outputs": [],
   "source": [
    "filename = 'modeloNLP_Twitter.pkl'\n",
    "pickle.dump(clf, open(filename, 'wb'))"
   ]
  },
  {
   "cell_type": "code",
   "execution_count": null,
   "id": "a9672197",
   "metadata": {},
   "outputs": [],
   "source": [
    "loaded_model = pickle.load(open(filename, 'rb'))\n",
    "result = loaded_model.score(X_test, Y_test)\n",
    "print(result)"
   ]
  }
 ],
 "metadata": {
  "kernelspec": {
   "display_name": "clase",
   "language": "python",
   "name": "clase"
  },
  "language_info": {
   "codemirror_mode": {
    "name": "ipython",
    "version": 3
   },
   "file_extension": ".py",
   "mimetype": "text/x-python",
   "name": "python",
   "nbconvert_exporter": "python",
   "pygments_lexer": "ipython3",
   "version": "3.8.8"
  }
 },
 "nbformat": 4,
 "nbformat_minor": 5
}
