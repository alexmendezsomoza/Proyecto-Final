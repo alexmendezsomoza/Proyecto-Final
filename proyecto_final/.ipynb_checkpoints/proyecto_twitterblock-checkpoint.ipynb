{
 "cells": [
  {
   "cell_type": "markdown",
   "id": "d44cc502",
   "metadata": {},
   "source": [
    "# Twitter PainBlock"
   ]
  },
  {
   "cell_type": "markdown",
   "id": "bffda25d",
   "metadata": {},
   "source": [
    "## Instalaciones y Librerias "
   ]
  },
  {
   "cell_type": "code",
   "execution_count": null,
   "id": "2a85512e",
   "metadata": {},
   "outputs": [],
   "source": [
    "#!pip install tweepy"
   ]
  },
  {
   "cell_type": "code",
   "execution_count": 1,
   "id": "1028334b",
   "metadata": {},
   "outputs": [],
   "source": [
    "import json\n",
    "from pandas.io.json import json_normalize\n",
    "import pandas as pd\n",
    "import requests\n",
    "import tweepy\n",
    "import csv\n",
    "import mysql.connector as conn"
   ]
  },
  {
   "cell_type": "markdown",
   "id": "ed4fa705",
   "metadata": {},
   "source": [
    "## API Authentication"
   ]
  },
  {
   "cell_type": "code",
   "execution_count": null,
   "id": "6b0c7c3b",
   "metadata": {},
   "outputs": [],
   "source": [
    "# 4 authentication chains\n",
    "\n",
    "consumer_key='jQTzrkE7vlZbg2ntJu4LESCZs'\n",
    "consumer_secret='AS4B8YLOWXMcrHjJyZ8stWcm9Cp2qh0rCdIjiWaPBaTTc22tnO'\n",
    "access_key='902474996-b1ltSFx5Y2EdJfi2s63pghsULdjLTF1lkW6oHBvj'\n",
    "access_secret='TrZr5nGmi2Q4RcAJJ3UHbwuWkAqjcNXOTfCHLm1eOzpnn'"
   ]
  },
  {
   "cell_type": "code",
   "execution_count": null,
   "id": "707d733b",
   "metadata": {},
   "outputs": [],
   "source": [
    "# authorize twitter, initialize tweepy\n",
    "\n",
    "auth = tweepy.OAuthHandler(consumer_key, consumer_secret)\n",
    "auth.set_access_token(access_key, access_secret)\n",
    "api = tweepy.API(auth, wait_on_rate_limit = True, wait_on_rate_limit_notify = True)"
   ]
  },
  {
   "cell_type": "markdown",
   "id": "1c1c2639",
   "metadata": {},
   "source": [
    "## Find tweets - Pablo Iglesias"
   ]
  },
  {
   "cell_type": "code",
   "execution_count": 9,
   "id": "cb9345bc",
   "metadata": {},
   "outputs": [],
   "source": [
    "import sys\n",
    "sys.path.append('../')\n",
    "\n",
    "from src.track_function import track"
   ]
  },
  {
   "cell_type": "code",
   "execution_count": 10,
   "id": "56498906",
   "metadata": {},
   "outputs": [],
   "source": [
    "df_piglesias = track ('@PabloIglesias', 300)"
   ]
  },
  {
   "cell_type": "code",
   "execution_count": 11,
   "id": "210fa21a",
   "metadata": {},
   "outputs": [
    {
     "name": "stdout",
     "output_type": "stream",
     "text": [
      "<class 'pandas.core.frame.DataFrame'>\n",
      "RangeIndex: 300 entries, 0 to 299\n",
      "Data columns (total 11 columns):\n",
      " #   Column                   Non-Null Count  Dtype         \n",
      "---  ------                   --------------  -----         \n",
      " 0   date                     300 non-null    datetime64[ns]\n",
      " 1   tweet_id                 300 non-null    int64         \n",
      " 2   tweet_text               300 non-null    object        \n",
      " 3   source                   300 non-null    object        \n",
      " 4   in_reply_to_screen_name  242 non-null    object        \n",
      " 5   user_name                300 non-null    object        \n",
      " 6   user_screen_name         300 non-null    object        \n",
      " 7   location                 300 non-null    object        \n",
      " 8   user_url                 300 non-null    object        \n",
      " 9   n_followers              300 non-null    int64         \n",
      " 10  verified                 300 non-null    bool          \n",
      "dtypes: bool(1), datetime64[ns](1), int64(2), object(7)\n",
      "memory usage: 23.9+ KB\n"
     ]
    }
   ],
   "source": [
    "df_piglesias.info()"
   ]
  },
  {
   "cell_type": "code",
   "execution_count": 15,
   "id": "7e8f95be",
   "metadata": {},
   "outputs": [
    {
     "data": {
      "text/html": [
       "<div>\n",
       "<style scoped>\n",
       "    .dataframe tbody tr th:only-of-type {\n",
       "        vertical-align: middle;\n",
       "    }\n",
       "\n",
       "    .dataframe tbody tr th {\n",
       "        vertical-align: top;\n",
       "    }\n",
       "\n",
       "    .dataframe thead th {\n",
       "        text-align: right;\n",
       "    }\n",
       "</style>\n",
       "<table border=\"1\" class=\"dataframe\">\n",
       "  <thead>\n",
       "    <tr style=\"text-align: right;\">\n",
       "      <th></th>\n",
       "      <th>date</th>\n",
       "      <th>tweet_id</th>\n",
       "      <th>tweet_text</th>\n",
       "      <th>source</th>\n",
       "      <th>in_reply_to_screen_name</th>\n",
       "      <th>user_name</th>\n",
       "      <th>user_screen_name</th>\n",
       "      <th>location</th>\n",
       "      <th>user_url</th>\n",
       "      <th>n_followers</th>\n",
       "      <th>verified</th>\n",
       "    </tr>\n",
       "  </thead>\n",
       "  <tbody>\n",
       "    <tr>\n",
       "      <th>0</th>\n",
       "      <td>2021-06-18 09:32:31</td>\n",
       "      <td>1405820713387311105</td>\n",
       "      <td>@juan_reboso @lozomarti @anaalonsogonza1 @AnaJ...</td>\n",
       "      <td>Twitter Web App</td>\n",
       "      <td>juan_reboso</td>\n",
       "      <td>María Seijo</td>\n",
       "      <td>MariaSeijo9</td>\n",
       "      <td></td>\n",
       "      <td>https://twitter.com/MariaSeijo9</td>\n",
       "      <td>326</td>\n",
       "      <td>False</td>\n",
       "    </tr>\n",
       "    <tr>\n",
       "      <th>1</th>\n",
       "      <td>2021-06-18 09:31:09</td>\n",
       "      <td>1405820370050035713</td>\n",
       "      <td>@JEcheverriZ Vista la mafia del PP y de sus ju...</td>\n",
       "      <td>Twitter Web App</td>\n",
       "      <td>JEcheverriZ</td>\n",
       "      <td>Carmen Alonso</td>\n",
       "      <td>CarmenMarsella</td>\n",
       "      <td>España</td>\n",
       "      <td>https://twitter.com/CarmenMarsella</td>\n",
       "      <td>75</td>\n",
       "      <td>False</td>\n",
       "    </tr>\n",
       "    <tr>\n",
       "      <th>2</th>\n",
       "      <td>2021-06-18 09:28:22</td>\n",
       "      <td>1405819667629981699</td>\n",
       "      <td>@PabloIglesias ese</td>\n",
       "      <td>Twitter for Android</td>\n",
       "      <td>PabloIglesias</td>\n",
       "      <td>Esqueje (lo de la rama)</td>\n",
       "      <td>xinxinricardo</td>\n",
       "      <td>madrid</td>\n",
       "      <td>https://twitter.com/xinxinricardo</td>\n",
       "      <td>30</td>\n",
       "      <td>False</td>\n",
       "    </tr>\n",
       "    <tr>\n",
       "      <th>3</th>\n",
       "      <td>2021-06-18 09:26:57</td>\n",
       "      <td>1405819314083614724</td>\n",
       "      <td>@Jorgebuxade @PabloIglesias @vox_es Yo echo de...</td>\n",
       "      <td>Twitter for iPhone</td>\n",
       "      <td>Jorgebuxade</td>\n",
       "      <td>🇪🇸 Pablo Díaz-Aller 🇩🇪🇲🇽</td>\n",
       "      <td>pablodaller</td>\n",
       "      <td>Dresden</td>\n",
       "      <td>https://twitter.com/pablodaller</td>\n",
       "      <td>183</td>\n",
       "      <td>False</td>\n",
       "    </tr>\n",
       "    <tr>\n",
       "      <th>4</th>\n",
       "      <td>2021-06-18 09:25:55</td>\n",
       "      <td>1405819051755163648</td>\n",
       "      <td>@Cazatalentos Cabría preguntarse también por l...</td>\n",
       "      <td>Twitter Web App</td>\n",
       "      <td>Cazatalentos</td>\n",
       "      <td>Carmen Alonso</td>\n",
       "      <td>CarmenMarsella</td>\n",
       "      <td>España</td>\n",
       "      <td>https://twitter.com/CarmenMarsella</td>\n",
       "      <td>75</td>\n",
       "      <td>False</td>\n",
       "    </tr>\n",
       "  </tbody>\n",
       "</table>\n",
       "</div>"
      ],
      "text/plain": [
       "                 date             tweet_id  \\\n",
       "0 2021-06-18 09:32:31  1405820713387311105   \n",
       "1 2021-06-18 09:31:09  1405820370050035713   \n",
       "2 2021-06-18 09:28:22  1405819667629981699   \n",
       "3 2021-06-18 09:26:57  1405819314083614724   \n",
       "4 2021-06-18 09:25:55  1405819051755163648   \n",
       "\n",
       "                                          tweet_text               source  \\\n",
       "0  @juan_reboso @lozomarti @anaalonsogonza1 @AnaJ...      Twitter Web App   \n",
       "1  @JEcheverriZ Vista la mafia del PP y de sus ju...      Twitter Web App   \n",
       "2                                 @PabloIglesias ese  Twitter for Android   \n",
       "3  @Jorgebuxade @PabloIglesias @vox_es Yo echo de...   Twitter for iPhone   \n",
       "4  @Cazatalentos Cabría preguntarse también por l...      Twitter Web App   \n",
       "\n",
       "  in_reply_to_screen_name                 user_name user_screen_name location  \\\n",
       "0             juan_reboso               María Seijo      MariaSeijo9            \n",
       "1             JEcheverriZ             Carmen Alonso   CarmenMarsella   España   \n",
       "2           PabloIglesias   Esqueje (lo de la rama)    xinxinricardo   madrid   \n",
       "3             Jorgebuxade  🇪🇸 Pablo Díaz-Aller 🇩🇪🇲🇽      pablodaller  Dresden   \n",
       "4            Cazatalentos             Carmen Alonso   CarmenMarsella   España   \n",
       "\n",
       "                             user_url  n_followers  verified  \n",
       "0     https://twitter.com/MariaSeijo9          326     False  \n",
       "1  https://twitter.com/CarmenMarsella           75     False  \n",
       "2   https://twitter.com/xinxinricardo           30     False  \n",
       "3     https://twitter.com/pablodaller          183     False  \n",
       "4  https://twitter.com/CarmenMarsella           75     False  "
      ]
     },
     "execution_count": 15,
     "metadata": {},
     "output_type": "execute_result"
    }
   ],
   "source": [
    "df_piglesias.head()"
   ]
  },
  {
   "cell_type": "markdown",
   "id": "85c481b5",
   "metadata": {},
   "source": [
    "## Stream Tweet"
   ]
  },
  {
   "cell_type": "code",
   "execution_count": 2,
   "id": "63abd879",
   "metadata": {},
   "outputs": [],
   "source": [
    "# 4 authentication chains\n",
    "\n",
    "consumer_key='jQTzrkE7vlZbg2ntJu4LESCZs'\n",
    "consumer_secret='AS4B8YLOWXMcrHjJyZ8stWcm9Cp2qh0rCdIjiWaPBaTTc22tnO'\n",
    "access_key='902474996-b1ltSFx5Y2EdJfi2s63pghsULdjLTF1lkW6oHBvj'\n",
    "access_secret='TrZr5nGmi2Q4RcAJJ3UHbwuWkAqjcNXOTfCHLm1eOzpnn'\n",
    "\n",
    "# authorize twitter, initialize tweepy\n",
    "\n",
    "auth = tweepy.OAuthHandler(consumer_key, consumer_secret)\n",
    "auth.set_access_token(access_key, access_secret)\n",
    "api = tweepy.API(auth, wait_on_rate_limit = True, wait_on_rate_limit_notify = True)"
   ]
  },
  {
   "cell_type": "code",
   "execution_count": null,
   "id": "48dbb8fc",
   "metadata": {},
   "outputs": [],
   "source": [
    "## Creating SQL Database"
   ]
  },
  {
   "cell_type": "code",
   "execution_count": 3,
   "id": "fbdd5ac2",
   "metadata": {},
   "outputs": [],
   "source": [
    "crea_db=conn.connect(host='localhost', user='root', passwd='123456')\n",
    "cursor=crea_db.cursor()\n",
    "cursor.execute('drop database if exists proyecto_final')\n",
    "cursor.execute('create database proyecto_final')"
   ]
  },
  {
   "cell_type": "code",
   "execution_count": 4,
   "id": "0cc2ab58",
   "metadata": {},
   "outputs": [],
   "source": [
    "db=conn.connect(host='localhost', user='root', passwd='123456', database='proyecto_final')\n",
    "\n",
    "cursor=db.cursor()"
   ]
  },
  {
   "cell_type": "code",
   "execution_count": 5,
   "id": "79f530a7",
   "metadata": {},
   "outputs": [],
   "source": [
    "cursor.execute('drop table if exists pabloiglesias_tweets')   # borrar la tabla si existe"
   ]
  },
  {
   "cell_type": "code",
   "execution_count": 6,
   "id": "990fd13f",
   "metadata": {},
   "outputs": [],
   "source": [
    "tabla= '''\n",
    "        create table pabloiglesias_tweets(\n",
    "            \n",
    "           tweet_id bigint ,      \n",
    "           date varchar(500),\n",
    "           tweet_text varchar(500),\n",
    "           source varchar(500),\n",
    "           in_reply_to_screen_name varchar(500),\n",
    "           user_name varchar(500),\n",
    "           user_screen_name varchar(500),\n",
    "           location varchar(500),\n",
    "           user_url varchar(500),\n",
    "           n_followers int,\n",
    "           verified bool \n",
    "            \n",
    "        );\n",
    "'''\n",
    "\n",
    "cursor.execute (tabla)"
   ]
  },
  {
   "cell_type": "code",
   "execution_count": null,
   "id": "f4f4d7a0",
   "metadata": {},
   "outputs": [],
   "source": [
    "class TweetsListener(tweepy.StreamListener):\n",
    "    \n",
    "    \n",
    "    def __init__(self):\n",
    "        super(TweetsListener, self).__init__()\n",
    "\n",
    "\n",
    "    def on_connect(self):\n",
    "        print(\"Estoy conectado!\")\n",
    "\n",
    "    def on_status(self, status): # aquí es donde tiene que ir la base de datos si queremos guardarlo\n",
    "        \n",
    "        #print (json.dumps(status._json,indent=2)) \n",
    "        \n",
    "        \n",
    "        created_at = [] #esta\n",
    "        id_tweet = [] #esta\n",
    "        full_text = [] # text\n",
    "        source = [] #esta\n",
    "        in_reply_to_screen_name = [] #esta\n",
    "        user_name = [] #esta\n",
    "        user_screen_name = [] #esta\n",
    "        user_location = [] #esta\n",
    "        user_url = [] #esta\n",
    "        user_followers_count = [] #esta\n",
    "        user_verified = [] #esta\n",
    "        user = [] # single-use\n",
    "        \n",
    "        # List Append\n",
    "        \n",
    "        date = str(status.created_at)\n",
    "        tweet_id = int(status.id_str)\n",
    "        tweet_text = status.text\n",
    "        source = status.source\n",
    "        in_reply_to_screen_name = status.in_reply_to_screen_name if status.in_reply_to_screen_name else 'opinion'\n",
    "        user.append(status.user)\n",
    "        \n",
    "        for i in user:\n",
    "        \n",
    "            name = i.name\n",
    "            screen_name = i.screen_name\n",
    "            location = i.location if i.location else ''\n",
    "            url = 'https://twitter.com/' + i.screen_name\n",
    "            followers_count = i.followers_count\n",
    "            verified = i.verified\n",
    "        \n",
    "        insert_query=\"insert into {} ({}) values {};\"\\\n",
    "                    .format('pabloiglesias_tweets', ','.join(['tweet_id','date',\n",
    "           'tweet_text','source','in_reply_to_screen_name','user_name',\n",
    "           'user_screen_name','location','user_url','n_followers','verified']), tuple([tweet_id,date,tweet_text,\n",
    "                                                                                      source, in_reply_to_screen_name,name,\n",
    "                                                                                      screen_name,location,url,followers_count,verified]))\n",
    "        #print (insert_query)\n",
    "        cursor.execute(insert_query)\n",
    "    \n",
    "        db.commit()\n",
    "        \n",
    "\n",
    "    def on_error(self, status_code):\n",
    "        print(\"Error\", status_code)"
   ]
  },
  {
   "cell_type": "markdown",
   "id": "6227359d",
   "metadata": {},
   "source": [
    "stream = TweetsListener()\n",
    "streamingApi = tweepy.Stream(auth=api.auth, listener=stream)\n",
    "streamingApi.filter(track=[\"@PabloIglesias\"])"
   ]
  },
  {
   "cell_type": "code",
   "execution_count": null,
   "id": "561cb4a2",
   "metadata": {},
   "outputs": [],
   "source": [
    "while 1:\n",
    "    \n",
    "    try:\n",
    "        stream = TweetsListener()\n",
    "        streamingApi = tweepy.Stream(auth=api.auth, listener=stream)\n",
    "        streamingApi.filter(track=[\"@PabloIglesias\"])\n",
    "\n",
    "    except:\n",
    "        print ('Error')"
   ]
  },
  {
   "cell_type": "code",
   "execution_count": null,
   "id": "6dd57230",
   "metadata": {},
   "outputs": [],
   "source": [
    "cursor.execute('SELECT * FROM pabloiglesias_tweets').fetchall()"
   ]
  },
  {
   "cell_type": "code",
   "execution_count": null,
   "id": "f1455384",
   "metadata": {},
   "outputs": [],
   "source": []
  }
 ],
 "metadata": {
  "kernelspec": {
   "display_name": "clase",
   "language": "python",
   "name": "clase"
  },
  "language_info": {
   "codemirror_mode": {
    "name": "ipython",
    "version": 3
   },
   "file_extension": ".py",
   "mimetype": "text/x-python",
   "name": "python",
   "nbconvert_exporter": "python",
   "pygments_lexer": "ipython3",
   "version": "3.8.8"
  }
 },
 "nbformat": 4,
 "nbformat_minor": 5
}
