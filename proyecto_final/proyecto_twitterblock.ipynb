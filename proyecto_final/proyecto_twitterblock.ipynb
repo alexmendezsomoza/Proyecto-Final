{
 "cells": [
  {
   "cell_type": "markdown",
   "id": "d44cc502",
   "metadata": {},
   "source": [
    "# Twitter PainBlock"
   ]
  },
  {
   "cell_type": "markdown",
   "id": "bffda25d",
   "metadata": {},
   "source": [
    "## Instalaciones y Librerias "
   ]
  },
  {
   "cell_type": "code",
   "execution_count": null,
   "id": "2a85512e",
   "metadata": {},
   "outputs": [],
   "source": [
    "#!pip install tweepy"
   ]
  },
  {
   "cell_type": "code",
   "execution_count": 1,
   "id": "1028334b",
   "metadata": {},
   "outputs": [],
   "source": [
    "import json\n",
    "from pandas.io.json import json_normalize\n",
    "import pandas as pd\n",
    "import requests\n",
    "import tweepy\n",
    "import csv\n",
    "import mysql.connector as conn"
   ]
  },
  {
   "cell_type": "markdown",
   "id": "ed4fa705",
   "metadata": {},
   "source": [
    "## API Authentication"
   ]
  },
  {
   "cell_type": "code",
   "execution_count": 2,
   "id": "6b0c7c3b",
   "metadata": {},
   "outputs": [],
   "source": [
    "# 4 authentication chains\n",
    "\n",
    "consumer_key='jQTzrkE7vlZbg2ntJu4LESCZs'\n",
    "consumer_secret='AS4B8YLOWXMcrHjJyZ8stWcm9Cp2qh0rCdIjiWaPBaTTc22tnO'\n",
    "access_key='902474996-b1ltSFx5Y2EdJfi2s63pghsULdjLTF1lkW6oHBvj'\n",
    "access_secret='TrZr5nGmi2Q4RcAJJ3UHbwuWkAqjcNXOTfCHLm1eOzpnn'"
   ]
  },
  {
   "cell_type": "code",
   "execution_count": 3,
   "id": "eb7f7b26",
   "metadata": {},
   "outputs": [],
   "source": [
    "# authorize twitter, initialize tweepy\n",
    "\n",
    "auth = tweepy.OAuthHandler(consumer_key, consumer_secret)\n",
    "auth.set_access_token(access_key, access_secret)\n",
    "api = tweepy.API(auth, wait_on_rate_limit = True, wait_on_rate_limit_notify = True)"
   ]
  },
  {
   "cell_type": "markdown",
   "id": "68bea071",
   "metadata": {},
   "source": [
    "## Find tweets - Pablo Iglesias"
   ]
  },
  {
   "cell_type": "code",
   "execution_count": 4,
   "id": "9420943b",
   "metadata": {},
   "outputs": [],
   "source": [
    "import sys\n",
    "sys.path.append('../')\n",
    "\n",
    "from src.track_function import track"
   ]
  },
  {
   "cell_type": "code",
   "execution_count": 5,
   "id": "ea2bafe9",
   "metadata": {},
   "outputs": [],
   "source": [
    "df_piglesias = track ('@PabloIglesias', 250)"
   ]
  },
  {
   "cell_type": "code",
   "execution_count": 6,
   "id": "544d6e04",
   "metadata": {},
   "outputs": [
    {
     "name": "stdout",
     "output_type": "stream",
     "text": [
      "<class 'pandas.core.frame.DataFrame'>\n",
      "RangeIndex: 5 entries, 0 to 4\n",
      "Data columns (total 11 columns):\n",
      " #   Column                   Non-Null Count  Dtype         \n",
      "---  ------                   --------------  -----         \n",
      " 0   date                     5 non-null      datetime64[ns]\n",
      " 1   tweet_id                 5 non-null      int64         \n",
      " 2   tweet_text               5 non-null      object        \n",
      " 3   source                   5 non-null      object        \n",
      " 4   in_reply_to_screen_name  4 non-null      object        \n",
      " 5   user_name                5 non-null      object        \n",
      " 6   user_screen_name         5 non-null      object        \n",
      " 7   location                 5 non-null      object        \n",
      " 8   user_url                 5 non-null      object        \n",
      " 9   n_followers              5 non-null      int64         \n",
      " 10  verified                 5 non-null      bool          \n",
      "dtypes: bool(1), datetime64[ns](1), int64(2), object(7)\n",
      "memory usage: 533.0+ bytes\n"
     ]
    }
   ],
   "source": [
    "df_piglesias.info()"
   ]
  },
  {
   "cell_type": "markdown",
   "id": "de3eefbd",
   "metadata": {},
   "source": [
    "## Stream Tweet"
   ]
  },
  {
   "cell_type": "code",
   "execution_count": 7,
   "id": "9a6ebcc5",
   "metadata": {},
   "outputs": [],
   "source": [
    "# 4 authentication chains\n",
    "\n",
    "consumer_key='jQTzrkE7vlZbg2ntJu4LESCZs'\n",
    "consumer_secret='AS4B8YLOWXMcrHjJyZ8stWcm9Cp2qh0rCdIjiWaPBaTTc22tnO'\n",
    "access_key='902474996-b1ltSFx5Y2EdJfi2s63pghsULdjLTF1lkW6oHBvj'\n",
    "access_secret='TrZr5nGmi2Q4RcAJJ3UHbwuWkAqjcNXOTfCHLm1eOzpnn'\n",
    "\n",
    "# authorize twitter, initialize tweepy\n",
    "\n",
    "auth = tweepy.OAuthHandler(consumer_key, consumer_secret)\n",
    "auth.set_access_token(access_key, access_secret)\n",
    "api = tweepy.API(auth, wait_on_rate_limit = True, wait_on_rate_limit_notify = True)"
   ]
  },
  {
   "cell_type": "code",
   "execution_count": 8,
   "id": "60abbe59",
   "metadata": {},
   "outputs": [],
   "source": [
    "## Creating SQL Database"
   ]
  },
  {
   "cell_type": "code",
   "execution_count": 9,
   "id": "ef78ff83",
   "metadata": {},
   "outputs": [],
   "source": [
    "crea_db=conn.connect(host='localhost', user='root', passwd='123456')\n",
    "cursor=crea_db.cursor()\n",
    "cursor.execute('drop database if exists proyecto_final')\n",
    "cursor.execute('create database proyecto_final')"
   ]
  },
  {
   "cell_type": "code",
   "execution_count": 13,
   "id": "292cee04",
   "metadata": {},
   "outputs": [],
   "source": [
    "db=conn.connect(host='localhost', user='root', passwd='123456', database='proyecto_final')\n",
    "\n",
    "cursor=db.cursor()"
   ]
  },
  {
   "cell_type": "code",
   "execution_count": 37,
   "id": "0c3d1b24",
   "metadata": {},
   "outputs": [],
   "source": [
    "cursor.execute('drop table if exists pabloiglesias_tweets')   # borrar la tabla si existe"
   ]
  },
  {
   "cell_type": "code",
   "execution_count": 38,
   "id": "a004876e",
   "metadata": {},
   "outputs": [],
   "source": [
    "tabla= '''\n",
    "        create table pabloiglesias_tweets(\n",
    "            \n",
    "           tweet_id bigint,      \n",
    "           date varchar(500),\n",
    "           tweet_text varchar(500),\n",
    "           source varchar(500),\n",
    "           in_reply_to_screen_name varchar(500),\n",
    "           user_name varchar(500),\n",
    "           user_screen_name varchar(500),\n",
    "           location varchar(500),\n",
    "           user_url varchar(500),\n",
    "           n_followers int,\n",
    "           verified bool\n",
    "            \n",
    "        );\n",
    "'''\n",
    "\n",
    "cursor.execute (tabla)"
   ]
  },
  {
   "cell_type": "code",
   "execution_count": null,
   "id": "1ec1ffcf",
   "metadata": {},
   "outputs": [],
   "source": [
    "class TweetsListener(tweepy.StreamListener):\n",
    "    \n",
    "    \n",
    "    def __init__(self):\n",
    "        super(TweetsListener, self).__init__()\n",
    "\n",
    "\n",
    "    def on_connect(self):\n",
    "        print(\"Estoy conectado!\")\n",
    "\n",
    "    def on_status(self, status): # aquí es donde tiene que ir la base de datos si queremos guardarlo\n",
    "        \n",
    "        print (json.dumps(status._json,indent=2)) \n",
    "        \n",
    "        \n",
    "        created_at = [] #esta\n",
    "        id_tweet = [] #esta\n",
    "        full_text = [] # text\n",
    "        source = [] #esta\n",
    "        in_reply_to_screen_name = [] #esta\n",
    "        user_name = [] #esta\n",
    "        user_screen_name = [] #esta\n",
    "        user_location = [] #esta\n",
    "        user_url = [] #esta\n",
    "        user_followers_count = [] #esta\n",
    "        user_verified = [] #esta\n",
    "        user = [] # single-use\n",
    "        \n",
    "        # List Append\n",
    "        \n",
    "        created_at.append(status.created_at)\n",
    "        id_tweet.append(int(status.id_str))\n",
    "        full_text.append(status.text)\n",
    "        source.append(status.source)\n",
    "        in_reply_to_screen_name.append(status.in_reply_to_screen_name)\n",
    "        user.append(status.user)\n",
    "        \n",
    "        for i in user:\n",
    "        \n",
    "            name = i.name\n",
    "            screen_name = i.screen_name\n",
    "            location = i.location if i.location else ''\n",
    "            url = 'https://twitter.com/' + i.screen_name\n",
    "            followers_count = i.followers_count\n",
    "            verified = i.verified\n",
    "        \n",
    "        insert_query=\"insert into {} ({}) values {};\"\\\n",
    "                    .format('pabloiglesias_tweets', ','.join(['tweet_id','date',\n",
    "           'tweet_text','source','in_reply_to_screen_name','user_name',\n",
    "           'user_screen_name','location','user_url','n_followers','verified']), tuple([int(status.id_str),str(status.created_at),\n",
    "                                                                                    status.text,status.source,status.in_reply_to_screen_name,\n",
    "                                                                                    name, screen_name, location, url,\n",
    "                                                                                    followers_count, verified]))\n",
    "        cursor.execute(insert_query)\n",
    "    \n",
    "        db.commit()\n",
    "        \n",
    "\n",
    "    def on_error(self, status_code):\n",
    "        print(\"Error\", status_code)"
   ]
  },
  {
   "cell_type": "code",
   "execution_count": null,
   "id": "5ed77d2e",
   "metadata": {},
   "outputs": [],
   "source": [
    "while 1:\n",
    "    \n",
    "    try:\n",
    "        stream = TweetsListener()\n",
    "        streamingApi = tweepy.Stream(auth=api.auth, listener=stream)\n",
    "        streamingApi.filter(track=[\"@PabloIglesias\"])\n",
    "\n",
    "    except:\n",
    "        print ('Error')"
   ]
  },
  {
   "cell_type": "code",
   "execution_count": null,
   "id": "a6fb00a9",
   "metadata": {},
   "outputs": [],
   "source": [
    "stream = TweetsListener()\n",
    "        streamingApi = tweepy.Stream(auth=api.auth, listener=stream)\n",
    "        streamingApi.filter(track=[\"@PabloIglesias\"])\n"
   ]
  },
  {
   "cell_type": "code",
   "execution_count": 43,
   "id": "301b48a6",
   "metadata": {},
   "outputs": [
    {
     "ename": "InternalError",
     "evalue": "Unread result found",
     "output_type": "error",
     "traceback": [
      "\u001b[0;31m---------------------------------------------------------------------------\u001b[0m",
      "\u001b[0;31mInternalError\u001b[0m                             Traceback (most recent call last)",
      "\u001b[0;32m<ipython-input-43-90d719f9032b>\u001b[0m in \u001b[0;36m<module>\u001b[0;34m\u001b[0m\n\u001b[0;32m----> 1\u001b[0;31m \u001b[0mcursor\u001b[0m\u001b[0;34m.\u001b[0m\u001b[0mexecute\u001b[0m\u001b[0;34m(\u001b[0m\u001b[0;34m'SELECT * FROM pabloiglesias_tweets'\u001b[0m\u001b[0;34m)\u001b[0m\u001b[0;34m.\u001b[0m\u001b[0mfetchall\u001b[0m\u001b[0;34m(\u001b[0m\u001b[0;34m)\u001b[0m\u001b[0;34m\u001b[0m\u001b[0;34m\u001b[0m\u001b[0m\n\u001b[0m",
      "\u001b[0;32m~/opt/miniconda3/envs/clase/lib/python3.8/site-packages/mysql/connector/cursor.py\u001b[0m in \u001b[0;36mexecute\u001b[0;34m(self, operation, params, multi)\u001b[0m\n\u001b[1;32m    536\u001b[0m             \u001b[0;32mraise\u001b[0m \u001b[0merrors\u001b[0m\u001b[0;34m.\u001b[0m\u001b[0mProgrammingError\u001b[0m\u001b[0;34m(\u001b[0m\u001b[0;34m\"Cursor is not connected\"\u001b[0m\u001b[0;34m)\u001b[0m\u001b[0;34m\u001b[0m\u001b[0;34m\u001b[0m\u001b[0m\n\u001b[1;32m    537\u001b[0m \u001b[0;34m\u001b[0m\u001b[0m\n\u001b[0;32m--> 538\u001b[0;31m         \u001b[0mself\u001b[0m\u001b[0;34m.\u001b[0m\u001b[0m_connection\u001b[0m\u001b[0;34m.\u001b[0m\u001b[0mhandle_unread_result\u001b[0m\u001b[0;34m(\u001b[0m\u001b[0;34m)\u001b[0m\u001b[0;34m\u001b[0m\u001b[0;34m\u001b[0m\u001b[0m\n\u001b[0m\u001b[1;32m    539\u001b[0m \u001b[0;34m\u001b[0m\u001b[0m\n\u001b[1;32m    540\u001b[0m         \u001b[0mself\u001b[0m\u001b[0;34m.\u001b[0m\u001b[0m_reset_result\u001b[0m\u001b[0;34m(\u001b[0m\u001b[0;34m)\u001b[0m\u001b[0;34m\u001b[0m\u001b[0;34m\u001b[0m\u001b[0m\n",
      "\u001b[0;32m~/opt/miniconda3/envs/clase/lib/python3.8/site-packages/mysql/connector/connection.py\u001b[0m in \u001b[0;36mhandle_unread_result\u001b[0;34m(self)\u001b[0m\n\u001b[1;32m   1275\u001b[0m             \u001b[0mself\u001b[0m\u001b[0;34m.\u001b[0m\u001b[0mconsume_results\u001b[0m\u001b[0;34m(\u001b[0m\u001b[0;34m)\u001b[0m\u001b[0;34m\u001b[0m\u001b[0;34m\u001b[0m\u001b[0m\n\u001b[1;32m   1276\u001b[0m         \u001b[0;32melif\u001b[0m \u001b[0mself\u001b[0m\u001b[0;34m.\u001b[0m\u001b[0munread_result\u001b[0m\u001b[0;34m:\u001b[0m\u001b[0;34m\u001b[0m\u001b[0;34m\u001b[0m\u001b[0m\n\u001b[0;32m-> 1277\u001b[0;31m             \u001b[0;32mraise\u001b[0m \u001b[0merrors\u001b[0m\u001b[0;34m.\u001b[0m\u001b[0mInternalError\u001b[0m\u001b[0;34m(\u001b[0m\u001b[0;34m\"Unread result found\"\u001b[0m\u001b[0;34m)\u001b[0m\u001b[0;34m\u001b[0m\u001b[0;34m\u001b[0m\u001b[0m\n\u001b[0m",
      "\u001b[0;31mInternalError\u001b[0m: Unread result found"
     ]
    }
   ],
   "source": [
    "cursor.execute('SELECT * FROM pabloiglesias_tweets').fetchall()"
   ]
  },
  {
   "cell_type": "code",
   "execution_count": null,
   "id": "e6ea52f7",
   "metadata": {},
   "outputs": [],
   "source": []
  }
 ],
 "metadata": {
  "kernelspec": {
   "display_name": "clase",
   "language": "python",
   "name": "clase"
  },
  "language_info": {
   "codemirror_mode": {
    "name": "ipython",
    "version": 3
   },
   "file_extension": ".py",
   "mimetype": "text/x-python",
   "name": "python",
   "nbconvert_exporter": "python",
   "pygments_lexer": "ipython3",
   "version": "3.8.8"
  }
 },
 "nbformat": 4,
 "nbformat_minor": 5
}
