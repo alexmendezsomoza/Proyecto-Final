{
 "cells": [
  {
   "cell_type": "markdown",
   "id": "d44cc502",
   "metadata": {},
   "source": [
    "# Twitter PainBlock"
   ]
  },
  {
   "cell_type": "markdown",
   "id": "bffda25d",
   "metadata": {},
   "source": [
    "## Instalaciones y Librerias "
   ]
  },
  {
   "cell_type": "code",
   "execution_count": 3,
   "id": "2a85512e",
   "metadata": {},
   "outputs": [],
   "source": [
    "#!pip install tweepy"
   ]
  },
  {
   "cell_type": "code",
   "execution_count": 2,
   "id": "1028334b",
   "metadata": {},
   "outputs": [],
   "source": [
    "import json\n",
    "from pandas.io.json import json_normalize\n",
    "import pandas as pd\n",
    "import requests\n",
    "import tweepy\n",
    "import csv"
   ]
  },
  {
   "cell_type": "markdown",
   "id": "ed4fa705",
   "metadata": {},
   "source": [
    "## API Authentication"
   ]
  },
  {
   "cell_type": "code",
   "execution_count": 12,
   "id": "3e8b0726",
   "metadata": {},
   "outputs": [],
   "source": [
    "# 4 authentication chains"
   ]
  },
  {
   "cell_type": "code",
   "execution_count": 13,
   "id": "6b0c7c3b",
   "metadata": {},
   "outputs": [],
   "source": [
    "consumer_key='jQTzrkE7vlZbg2ntJu4LESCZs'\n",
    "consumer_secret='AS4B8YLOWXMcrHjJyZ8stWcm9Cp2qh0rCdIjiWaPBaTTc22tnO'\n",
    "access_key='902474996-b1ltSFx5Y2EdJfi2s63pghsULdjLTF1lkW6oHBvj'\n",
    "access_secret='TrZr5nGmi2Q4RcAJJ3UHbwuWkAqjcNXOTfCHLm1eOzpnn'"
   ]
  },
  {
   "cell_type": "code",
   "execution_count": 15,
   "id": "662e8a08",
   "metadata": {},
   "outputs": [],
   "source": [
    "# authorize twitter, initialize tweepy\n",
    "\n",
    "auth = tweepy.OAuthHandler(consumer_key, consumer_secret)\n",
    "auth.set_access_token(access_key, access_secret)\n",
    "api = tweepy.API(auth, wait_on_rate_limit = True, wait_on_rate_limit_notify = True)"
   ]
  },
  {
   "cell_type": "markdown",
   "id": "9626cab7",
   "metadata": {},
   "source": [
    "## Get info Pablo Iglesias"
   ]
  },
  {
   "cell_type": "markdown",
   "id": "679b96e0",
   "metadata": {},
   "source": [
    "pablo = api.get_user('PabloIglesias') #screen_name\n",
    "print (json.dumps(pablo._json,indent=2))"
   ]
  },
  {
   "cell_type": "markdown",
   "id": "4b73d3b6",
   "metadata": {},
   "source": [
    "## Get tweets from user - Pablo Iglesias"
   ]
  },
  {
   "cell_type": "markdown",
   "id": "f11048d4",
   "metadata": {},
   "source": [
    "for tweet in tweepy.Cursor(api.user_timeline,screen_name='PabloIglesias',tweet_mode = 'extented').items(1): #tweets,account, all tweets no matter lenght of the tweet / Show me just 1 tweet\n",
    "    print (json.dumps(tweet._json, indent=2))"
   ]
  },
  {
   "cell_type": "markdown",
   "id": "d1d72888",
   "metadata": {},
   "source": [
    "## Find tweets - Pablo Iglesias"
   ]
  },
  {
   "cell_type": "code",
   "execution_count": 113,
   "id": "f6a16292",
   "metadata": {},
   "outputs": [],
   "source": [
    "def track (user,number_tweets): \n",
    "    \n",
    "    #Parameters\n",
    "    searchQuery = user\n",
    "    retweet_filter='-filter:retweets'\n",
    "    q = searchQuery+retweet_filter\n",
    "    \n",
    "    #Lists\n",
    "    \n",
    "    created_at = []\n",
    "    id_tweet = []\n",
    "    full_text = []\n",
    "    source = []\n",
    "    in_reply_to_status_id = []\n",
    "    in_reply_to_screen_name = []\n",
    "    user_name = []\n",
    "    user_screen_name = []\n",
    "    user_location = []\n",
    "    user_url = []\n",
    "    user_followers_count = []\n",
    "    user_verified = []\n",
    "    user = [] # single-use\n",
    "    \n",
    "    for tweet in tweepy.Cursor(api.search, q, tweet_mode = 'extended').items(number_tweets):\n",
    "    \n",
    "        # List Append\n",
    "        created_at.append(tweet.created_at)\n",
    "        id_tweet.append(int(tweet.id_str))\n",
    "        full_text.append(tweet.full_text)\n",
    "        source.append(tweet.source)\n",
    "        in_reply_to_status_id.append(tweet.in_reply_to_status_id)\n",
    "        in_reply_to_screen_name.append(tweet.in_reply_to_screen_name)\n",
    "        user.append(tweet.user)\n",
    "    \n",
    "    for i in user:\n",
    "        \n",
    "        user_name.append(i.name)\n",
    "        user_screen_name.append(i.screen_name)\n",
    "        user_location.append(i.location)\n",
    "        user_url.append(i.url)\n",
    "        user_followers_count.append(i.followers_count)\n",
    "        user_verified.append(i.verified)\n",
    "\n",
    "    df = pd.DataFrame({'date':created_at,'tweet_id': id_tweet,'tweet_text':full_text,'source': source,\n",
    "                                 'in_reply_to_status_id': in_reply_to_status_id,'in_reply_to_screen_name':in_reply_to_screen_name,\n",
    "                                 'user_name':user_name,'user_screen_name': user_screen_name,'location':user_location,\n",
    "                                'user_url': user_url,'n_followers':user_followers_count,'verified':user_verified}) \n",
    "    \n",
    "    return df"
   ]
  },
  {
   "cell_type": "code",
   "execution_count": 114,
   "id": "c4dd53c6",
   "metadata": {},
   "outputs": [],
   "source": [
    "df_piglesias = track ('@pabloiglesias',5) # rename dataframe"
   ]
  },
  {
   "cell_type": "code",
   "execution_count": 118,
   "id": "f9a59be5",
   "metadata": {},
   "outputs": [
    {
     "data": {
      "text/plain": [
       "{'@CarmenRiolobos @Congreso_Es @pablocasado_ @TeoGarciaEgea @agarzon @sanchezcastejon @PabloIglesias Hahaha,si si,defendido,una defensa tan ardua,como la que presidentes pasados lograron,nada como todos los qué han hecho de lanluz,su puerta trasera después de vivir politicamente de todos,señora,tomese una infusión opiacea,hexese una siesta',\n",
       " '@fannyblama @AntonioMautor @milagros_andreu @PabloIglesias Ahora sería bueno para PODEMOS',\n",
       " '@juan_reboso @AnaJuradoR @PabloIglesias @antonlosada Qué es, lo que NO HAS ENTENDIDO DE MI RESPUESTA, Juan???',\n",
       " '@ribrel2 Y por añadido decir, k aquí el colega @tonimagadaleno , a el colectivo afectado aún no se ha disculpado, ni desbloqueado ni dado aún explicaciones. Las correctivas de la plebe a la casta van con el sueldo como diría @pabloiglesias .',\n",
       " 'Desde que se fue @PabloIglesias la que se está liando en A3media y @laSextaTV que están cambiando a todos los guiñoles.  #RepúblicaEsElegir'}"
      ]
     },
     "execution_count": 118,
     "metadata": {},
     "output_type": "execute_result"
    }
   ],
   "source": [
    "set(df_piglesias.tweet_text)"
   ]
  },
  {
   "cell_type": "code",
   "execution_count": 106,
   "id": "847436e9",
   "metadata": {},
   "outputs": [],
   "source": [
    "#id_tweet"
   ]
  },
  {
   "cell_type": "code",
   "execution_count": 107,
   "id": "f34d1197",
   "metadata": {},
   "outputs": [],
   "source": [
    "#full_text"
   ]
  },
  {
   "cell_type": "code",
   "execution_count": 109,
   "id": "dafcbdef",
   "metadata": {},
   "outputs": [],
   "source": [
    "#source"
   ]
  },
  {
   "cell_type": "code",
   "execution_count": 110,
   "id": "c202e5bb",
   "metadata": {},
   "outputs": [],
   "source": [
    "#in_reply_to_status_id"
   ]
  },
  {
   "cell_type": "code",
   "execution_count": 111,
   "id": "1afbfce1",
   "metadata": {},
   "outputs": [],
   "source": [
    "#in_reply_to_screen_name\n"
   ]
  },
  {
   "cell_type": "code",
   "execution_count": 112,
   "id": "148ee3c1",
   "metadata": {},
   "outputs": [],
   "source": [
    "#user_name\n"
   ]
  },
  {
   "cell_type": "code",
   "execution_count": 78,
   "id": "833bbde5",
   "metadata": {},
   "outputs": [
    {
     "data": {
      "text/plain": [
       "['ochentero_cat',\n",
       " 'ochentero_cat',\n",
       " 'szuazo',\n",
       " 'ochentero_cat',\n",
       " 'szuazo',\n",
       " 'sorguar',\n",
       " 'ochentero_cat',\n",
       " 'szuazo',\n",
       " 'sorguar',\n",
       " 'TriuTrau',\n",
       " 'ochentero_cat',\n",
       " 'szuazo',\n",
       " 'sorguar',\n",
       " 'TriuTrau',\n",
       " 'eparri1',\n",
       " 'ochentero_cat',\n",
       " 'szuazo',\n",
       " 'sorguar',\n",
       " 'TriuTrau',\n",
       " 'eparri1',\n",
       " 'fuvevavua',\n",
       " 'ochentero_cat',\n",
       " 'szuazo',\n",
       " 'sorguar',\n",
       " 'TriuTrau',\n",
       " 'eparri1',\n",
       " 'fuvevavua',\n",
       " 'manumerimm1',\n",
       " 'ochentero_cat',\n",
       " 'szuazo',\n",
       " 'sorguar',\n",
       " 'TriuTrau',\n",
       " 'eparri1',\n",
       " 'fuvevavua',\n",
       " 'manumerimm1',\n",
       " 'Alf_Cornejo',\n",
       " 'ochentero_cat',\n",
       " 'szuazo',\n",
       " 'sorguar',\n",
       " 'TriuTrau',\n",
       " 'eparri1',\n",
       " 'fuvevavua',\n",
       " 'manumerimm1',\n",
       " 'Alf_Cornejo',\n",
       " 'sergiogarnaiz',\n",
       " 'ochentero_cat',\n",
       " 'szuazo',\n",
       " 'sorguar',\n",
       " 'TriuTrau',\n",
       " 'eparri1',\n",
       " 'fuvevavua',\n",
       " 'manumerimm1',\n",
       " 'Alf_Cornejo',\n",
       " 'sergiogarnaiz',\n",
       " 'JGDLR_']"
      ]
     },
     "execution_count": 78,
     "metadata": {},
     "output_type": "execute_result"
    }
   ],
   "source": [
    "user_screen_name"
   ]
  },
  {
   "cell_type": "code",
   "execution_count": 79,
   "id": "67c862b7",
   "metadata": {},
   "outputs": [
    {
     "data": {
      "text/plain": [
       "[' ||*||',\n",
       " ' ||*||',\n",
       " 'Granada',\n",
       " ' ||*||',\n",
       " 'Granada',\n",
       " '',\n",
       " ' ||*||',\n",
       " 'Granada',\n",
       " '',\n",
       " 'Planet Earth',\n",
       " ' ||*||',\n",
       " 'Granada',\n",
       " '',\n",
       " 'Planet Earth',\n",
       " '',\n",
       " ' ||*||',\n",
       " 'Granada',\n",
       " '',\n",
       " 'Planet Earth',\n",
       " '',\n",
       " '',\n",
       " ' ||*||',\n",
       " 'Granada',\n",
       " '',\n",
       " 'Planet Earth',\n",
       " '',\n",
       " '',\n",
       " '',\n",
       " ' ||*||',\n",
       " 'Granada',\n",
       " '',\n",
       " 'Planet Earth',\n",
       " '',\n",
       " '',\n",
       " '',\n",
       " 'Madrid, Reino de España',\n",
       " ' ||*||',\n",
       " 'Granada',\n",
       " '',\n",
       " 'Planet Earth',\n",
       " '',\n",
       " '',\n",
       " '',\n",
       " 'Madrid, Reino de España',\n",
       " '',\n",
       " ' ||*||',\n",
       " 'Granada',\n",
       " '',\n",
       " 'Planet Earth',\n",
       " '',\n",
       " '',\n",
       " '',\n",
       " 'Madrid, Reino de España',\n",
       " '',\n",
       " 'Sevilla, España']"
      ]
     },
     "execution_count": 79,
     "metadata": {},
     "output_type": "execute_result"
    }
   ],
   "source": [
    "user_location"
   ]
  },
  {
   "cell_type": "code",
   "execution_count": 80,
   "id": "6c4d3956",
   "metadata": {},
   "outputs": [
    {
     "data": {
      "text/plain": [
       "[None,\n",
       " None,\n",
       " None,\n",
       " None,\n",
       " None,\n",
       " None,\n",
       " None,\n",
       " None,\n",
       " None,\n",
       " None,\n",
       " None,\n",
       " None,\n",
       " None,\n",
       " None,\n",
       " None,\n",
       " None,\n",
       " None,\n",
       " None,\n",
       " None,\n",
       " None,\n",
       " None,\n",
       " None,\n",
       " None,\n",
       " None,\n",
       " None,\n",
       " None,\n",
       " None,\n",
       " None,\n",
       " None,\n",
       " None,\n",
       " None,\n",
       " None,\n",
       " None,\n",
       " None,\n",
       " None,\n",
       " None,\n",
       " None,\n",
       " None,\n",
       " None,\n",
       " None,\n",
       " None,\n",
       " None,\n",
       " None,\n",
       " None,\n",
       " None,\n",
       " None,\n",
       " None,\n",
       " None,\n",
       " None,\n",
       " None,\n",
       " None,\n",
       " None,\n",
       " None,\n",
       " None,\n",
       " 'https://t.co/WqfarrrPng']"
      ]
     },
     "execution_count": 80,
     "metadata": {},
     "output_type": "execute_result"
    }
   ],
   "source": [
    "user_url\n"
   ]
  },
  {
   "cell_type": "code",
   "execution_count": 81,
   "id": "b59697ce",
   "metadata": {},
   "outputs": [
    {
     "data": {
      "text/plain": [
       "[208,\n",
       " 208,\n",
       " 2125,\n",
       " 208,\n",
       " 2125,\n",
       " 239,\n",
       " 208,\n",
       " 2125,\n",
       " 239,\n",
       " 1762,\n",
       " 208,\n",
       " 2125,\n",
       " 239,\n",
       " 1762,\n",
       " 102,\n",
       " 208,\n",
       " 2125,\n",
       " 239,\n",
       " 1762,\n",
       " 102,\n",
       " 2108,\n",
       " 208,\n",
       " 2125,\n",
       " 239,\n",
       " 1762,\n",
       " 102,\n",
       " 2108,\n",
       " 3830,\n",
       " 208,\n",
       " 2125,\n",
       " 239,\n",
       " 1762,\n",
       " 102,\n",
       " 2108,\n",
       " 3830,\n",
       " 1541,\n",
       " 208,\n",
       " 2125,\n",
       " 239,\n",
       " 1762,\n",
       " 102,\n",
       " 2108,\n",
       " 3830,\n",
       " 1541,\n",
       " 175,\n",
       " 208,\n",
       " 2125,\n",
       " 239,\n",
       " 1762,\n",
       " 102,\n",
       " 2108,\n",
       " 3830,\n",
       " 1541,\n",
       " 175,\n",
       " 517]"
      ]
     },
     "execution_count": 81,
     "metadata": {},
     "output_type": "execute_result"
    }
   ],
   "source": [
    "user_followers_count"
   ]
  },
  {
   "cell_type": "code",
   "execution_count": 82,
   "id": "97a636ad",
   "metadata": {},
   "outputs": [
    {
     "data": {
      "text/plain": [
       "[False,\n",
       " False,\n",
       " False,\n",
       " False,\n",
       " False,\n",
       " False,\n",
       " False,\n",
       " False,\n",
       " False,\n",
       " False,\n",
       " False,\n",
       " False,\n",
       " False,\n",
       " False,\n",
       " False,\n",
       " False,\n",
       " False,\n",
       " False,\n",
       " False,\n",
       " False,\n",
       " False,\n",
       " False,\n",
       " False,\n",
       " False,\n",
       " False,\n",
       " False,\n",
       " False,\n",
       " False,\n",
       " False,\n",
       " False,\n",
       " False,\n",
       " False,\n",
       " False,\n",
       " False,\n",
       " False,\n",
       " False,\n",
       " False,\n",
       " False,\n",
       " False,\n",
       " False,\n",
       " False,\n",
       " False,\n",
       " False,\n",
       " False,\n",
       " False,\n",
       " False,\n",
       " False,\n",
       " False,\n",
       " False,\n",
       " False,\n",
       " False,\n",
       " False,\n",
       " False,\n",
       " False,\n",
       " False]"
      ]
     },
     "execution_count": 82,
     "metadata": {},
     "output_type": "execute_result"
    }
   ],
   "source": [
    "user_verified"
   ]
  },
  {
   "cell_type": "markdown",
   "id": "fa714909",
   "metadata": {},
   "source": [
    "## Json to Pandas"
   ]
  },
  {
   "cell_type": "code",
   "execution_count": 47,
   "id": "0f78c006",
   "metadata": {},
   "outputs": [
    {
     "name": "stdout",
     "output_type": "stream",
     "text": [
      "{\n",
      "  \"created_at\": \"Thu Jun 17 08:51:04 +0000 2021\",\n",
      "  \"id\": 1405447895667589120,\n",
      "  \"id_str\": \"1405447895667589120\",\n",
      "  \"full_text\": \"@AntonioMautor Se cre\\u00edan que con la marcha de @PabloIglesias el puesto iba a quedar vacante... Y espera a que llegue al @Congreso_Es @_PabloFdez_ entonces ya los rapapolvos van a ser \\u00e9picos.\",\n",
      "  \"truncated\": false,\n",
      "  \"display_text_range\": [\n",
      "    15,\n",
      "    190\n",
      "  ],\n",
      "  \"entities\": {\n",
      "    \"hashtags\": [],\n",
      "    \"symbols\": [],\n",
      "    \"user_mentions\": [\n",
      "      {\n",
      "        \"screen_name\": \"AntonioMautor\",\n",
      "        \"name\": \"Antonio Mautor\",\n",
      "        \"id\": 1107036073,\n",
      "        \"id_str\": \"1107036073\",\n",
      "        \"indices\": [\n",
      "          0,\n",
      "          14\n",
      "        ]\n",
      "      },\n",
      "      {\n",
      "        \"screen_name\": \"PabloIglesias\",\n",
      "        \"name\": \"Pablo Iglesias \\ud83d\\udd3b\",\n",
      "        \"id\": 158342368,\n",
      "        \"id_str\": \"158342368\",\n",
      "        \"indices\": [\n",
      "          46,\n",
      "          60\n",
      "        ]\n",
      "      },\n",
      "      {\n",
      "        \"screen_name\": \"Congreso_Es\",\n",
      "        \"name\": \"Congreso\",\n",
      "        \"id\": 44091448,\n",
      "        \"id_str\": \"44091448\",\n",
      "        \"indices\": [\n",
      "          120,\n",
      "          132\n",
      "        ]\n",
      "      },\n",
      "      {\n",
      "        \"screen_name\": \"_PabloFdez_\",\n",
      "        \"name\": \"Pablo Fern\\u00e1ndez\",\n",
      "        \"id\": 221406410,\n",
      "        \"id_str\": \"221406410\",\n",
      "        \"indices\": [\n",
      "          133,\n",
      "          145\n",
      "        ]\n",
      "      }\n",
      "    ],\n",
      "    \"urls\": []\n",
      "  },\n",
      "  \"metadata\": {\n",
      "    \"iso_language_code\": \"es\",\n",
      "    \"result_type\": \"recent\"\n",
      "  },\n",
      "  \"source\": \"<a href=\\\"http://twitter.com/download/android\\\" rel=\\\"nofollow\\\">Twitter for Android</a>\",\n",
      "  \"in_reply_to_status_id\": 1405085952997998593,\n",
      "  \"in_reply_to_status_id_str\": \"1405085952997998593\",\n",
      "  \"in_reply_to_user_id\": 1107036073,\n",
      "  \"in_reply_to_user_id_str\": \"1107036073\",\n",
      "  \"in_reply_to_screen_name\": \"AntonioMautor\",\n",
      "  \"user\": {\n",
      "    \"id\": 410432896,\n",
      "    \"id_str\": \"410432896\",\n",
      "    \"name\": \"A\",\n",
      "    \"screen_name\": \"cancerberusanda\",\n",
      "    \"location\": \"Sevilla, Andaluc\\u00eda\",\n",
      "    \"description\": \"\",\n",
      "    \"url\": null,\n",
      "    \"entities\": {\n",
      "      \"description\": {\n",
      "        \"urls\": []\n",
      "      }\n",
      "    },\n",
      "    \"protected\": false,\n",
      "    \"followers_count\": 121,\n",
      "    \"friends_count\": 444,\n",
      "    \"listed_count\": 4,\n",
      "    \"created_at\": \"Sat Nov 12 03:02:20 +0000 2011\",\n",
      "    \"favourites_count\": 1246,\n",
      "    \"utc_offset\": null,\n",
      "    \"time_zone\": null,\n",
      "    \"geo_enabled\": false,\n",
      "    \"verified\": false,\n",
      "    \"statuses_count\": 657,\n",
      "    \"lang\": null,\n",
      "    \"contributors_enabled\": false,\n",
      "    \"is_translator\": false,\n",
      "    \"is_translation_enabled\": false,\n",
      "    \"profile_background_color\": \"C0DEED\",\n",
      "    \"profile_background_image_url\": \"http://abs.twimg.com/images/themes/theme1/bg.png\",\n",
      "    \"profile_background_image_url_https\": \"https://abs.twimg.com/images/themes/theme1/bg.png\",\n",
      "    \"profile_background_tile\": false,\n",
      "    \"profile_image_url\": \"http://pbs.twimg.com/profile_images/1378422478607953921/6Q9yMNte_normal.jpg\",\n",
      "    \"profile_image_url_https\": \"https://pbs.twimg.com/profile_images/1378422478607953921/6Q9yMNte_normal.jpg\",\n",
      "    \"profile_link_color\": \"1DA1F2\",\n",
      "    \"profile_sidebar_border_color\": \"C0DEED\",\n",
      "    \"profile_sidebar_fill_color\": \"DDEEF6\",\n",
      "    \"profile_text_color\": \"333333\",\n",
      "    \"profile_use_background_image\": true,\n",
      "    \"has_extended_profile\": false,\n",
      "    \"default_profile\": true,\n",
      "    \"default_profile_image\": false,\n",
      "    \"following\": false,\n",
      "    \"follow_request_sent\": false,\n",
      "    \"notifications\": false,\n",
      "    \"translator_type\": \"none\",\n",
      "    \"withheld_in_countries\": []\n",
      "  },\n",
      "  \"geo\": null,\n",
      "  \"coordinates\": null,\n",
      "  \"place\": null,\n",
      "  \"contributors\": null,\n",
      "  \"is_quote_status\": false,\n",
      "  \"retweet_count\": 0,\n",
      "  \"favorite_count\": 0,\n",
      "  \"favorited\": false,\n",
      "  \"retweeted\": false,\n",
      "  \"lang\": \"es\"\n",
      "}\n"
     ]
    }
   ],
   "source": [
    "print(json_tweets)"
   ]
  }
 ],
 "metadata": {
  "kernelspec": {
   "display_name": "clase",
   "language": "python",
   "name": "clase"
  },
  "language_info": {
   "codemirror_mode": {
    "name": "ipython",
    "version": 3
   },
   "file_extension": ".py",
   "mimetype": "text/x-python",
   "name": "python",
   "nbconvert_exporter": "python",
   "pygments_lexer": "ipython3",
   "version": "3.8.8"
  }
 },
 "nbformat": 4,
 "nbformat_minor": 5
}
