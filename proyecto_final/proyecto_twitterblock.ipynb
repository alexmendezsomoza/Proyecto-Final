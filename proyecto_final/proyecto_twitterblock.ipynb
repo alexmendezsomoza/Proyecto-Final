{
 "cells": [
  {
   "cell_type": "markdown",
   "id": "d44cc502",
   "metadata": {},
   "source": [
    "# Twitter PainBlock"
   ]
  },
  {
   "cell_type": "markdown",
   "id": "bffda25d",
   "metadata": {},
   "source": [
    "## Instalaciones y Librerias "
   ]
  },
  {
   "cell_type": "code",
   "execution_count": null,
   "id": "2a85512e",
   "metadata": {},
   "outputs": [],
   "source": [
    "#!pip install tweepy"
   ]
  },
  {
   "cell_type": "code",
   "execution_count": 3,
   "id": "1028334b",
   "metadata": {},
   "outputs": [],
   "source": [
    "import json\n",
    "from pandas.io.json import json_normalize\n",
    "import pandas as pd\n",
    "import requests\n",
    "import tweepy\n",
    "import csv\n",
    "import mysql.connector as conn"
   ]
  },
  {
   "cell_type": "markdown",
   "id": "ed4fa705",
   "metadata": {},
   "source": [
    "## API Authentication"
   ]
  },
  {
   "cell_type": "code",
   "execution_count": null,
   "id": "6b0c7c3b",
   "metadata": {},
   "outputs": [],
   "source": [
    "# 4 authentication chains\n",
    "\n",
    "consumer_key='jQTzrkE7vlZbg2ntJu4LESCZs'\n",
    "consumer_secret='AS4B8YLOWXMcrHjJyZ8stWcm9Cp2qh0rCdIjiWaPBaTTc22tnO'\n",
    "access_key='902474996-b1ltSFx5Y2EdJfi2s63pghsULdjLTF1lkW6oHBvj'\n",
    "access_secret='TrZr5nGmi2Q4RcAJJ3UHbwuWkAqjcNXOTfCHLm1eOzpnn'"
   ]
  },
  {
   "cell_type": "code",
   "execution_count": null,
   "id": "ef204722",
   "metadata": {},
   "outputs": [],
   "source": [
    "# authorize twitter, initialize tweepy\n",
    "\n",
    "auth = tweepy.OAuthHandler(consumer_key, consumer_secret)\n",
    "auth.set_access_token(access_key, access_secret)\n",
    "api = tweepy.API(auth, wait_on_rate_limit = True, wait_on_rate_limit_notify = True)"
   ]
  },
  {
   "cell_type": "markdown",
   "id": "72a93294",
   "metadata": {},
   "source": [
    "## Getting tweets - Pablo Iglesias"
   ]
  },
  {
   "cell_type": "code",
   "execution_count": null,
   "id": "ae99c9c2",
   "metadata": {},
   "outputs": [],
   "source": [
    "import sys\n",
    "sys.path.append('../')\n",
    "\n",
    "from src.track_function import track"
   ]
  },
  {
   "cell_type": "code",
   "execution_count": null,
   "id": "a6a8bd57",
   "metadata": {},
   "outputs": [],
   "source": [
    "df_piglesias = track ('@PabloIglesias', 450)"
   ]
  },
  {
   "cell_type": "code",
   "execution_count": null,
   "id": "c4eaad7f",
   "metadata": {},
   "outputs": [],
   "source": [
    "{'tweet_id','date', 'tweet_text', 'source',\n",
    "                       'in_reply_to_screen_name',\n",
    "                       'user_name', 'user_screen_name', 'location',\n",
    "                       'user_url', 'n_followers', 'verified'}"
   ]
  },
  {
   "cell_type": "markdown",
   "id": "fd0a1d75",
   "metadata": {},
   "source": [
    "## Dataframe to SQL - Pablo Iglesias"
   ]
  },
  {
   "cell_type": "code",
   "execution_count": 5,
   "id": "5b5da64d",
   "metadata": {},
   "outputs": [],
   "source": [
    "connection=conn.connect(host='localhost', user='root', passwd='123456')\n",
    "cursor=connection.cursor()"
   ]
  },
  {
   "cell_type": "code",
   "execution_count": null,
   "id": "bff6f34c",
   "metadata": {},
   "outputs": [],
   "source": [
    "# Insert DataFrame recrds one by one.\n",
    "\n",
    "for i,row in data.iterrows():\n",
    "    sql = \"INSERT INTO 'pabloiglesias_tweets' ('tweet_id','date','tweet_text','source','in_reply_to_screen_name','user_name','user_screen_name','location','user_url','n_followers','verified') VALUES (''tweet_id','date', 'tweet_text', 'source','in_reply_to_screen_name','user_name', 'user_screen_name', 'location','user_url', 'n_followers', 'verified')\"\n",
    "    \n",
    "    cursor.execute(sql, tuple(row))\n",
    "\n",
    "    # the connection is not autocommitted by default, so we must commit to save our changes\n",
    "    connection.commit()"
   ]
  },
  {
   "cell_type": "markdown",
   "id": "9bcb8937",
   "metadata": {},
   "source": [
    "## Getting tweets - Santi Abascal"
   ]
  },
  {
   "cell_type": "code",
   "execution_count": null,
   "id": "49d0701c",
   "metadata": {},
   "outputs": [],
   "source": [
    "df_sabascal = track ('@Santi_ABASCAL', 450)"
   ]
  },
  {
   "cell_type": "markdown",
   "id": "88aee595",
   "metadata": {},
   "source": [
    "## Dataframe to SQL - Santi Abascal"
   ]
  },
  {
   "cell_type": "code",
   "execution_count": 6,
   "id": "8485fa56",
   "metadata": {},
   "outputs": [],
   "source": [
    "connection=conn.connect(host='localhost', user='root', passwd='123456')\n",
    "cursor=connection.cursor()"
   ]
  },
  {
   "cell_type": "code",
   "execution_count": null,
   "id": "7341f9d4",
   "metadata": {},
   "outputs": [],
   "source": [
    "# Insert DataFrame recrds one by one.\n",
    "\n",
    "for i,row in data.iterrows():\n",
    "    sql = \"INSERT INTO 'pabloiglesias_tweets' ('tweet_id','date','tweet_text','source','in_reply_to_screen_name','user_name','user_screen_name','location','user_url','n_followers','verified') VALUES (''tweet_id','date', 'tweet_text', 'source','in_reply_to_screen_name','user_name', 'user_screen_name', 'location','user_url', 'n_followers', 'verified')\"\n",
    "    \n",
    "    cursor.execute(sql, tuple(row))\n",
    "\n",
    "    # the connection is not autocommitted by default, so we must commit to save our changes\n",
    "    connection.commit()"
   ]
  }
 ],
 "metadata": {
  "kernelspec": {
   "display_name": "clase",
   "language": "python",
   "name": "clase"
  },
  "language_info": {
   "codemirror_mode": {
    "name": "ipython",
    "version": 3
   },
   "file_extension": ".py",
   "mimetype": "text/x-python",
   "name": "python",
   "nbconvert_exporter": "python",
   "pygments_lexer": "ipython3",
   "version": "3.8.8"
  }
 },
 "nbformat": 4,
 "nbformat_minor": 5
}
