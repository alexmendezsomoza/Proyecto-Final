{
 "cells": [
  {
   "cell_type": "markdown",
   "id": "d44cc502",
   "metadata": {},
   "source": [
    "# Twitter PainBlock"
   ]
  },
  {
   "cell_type": "markdown",
   "id": "bffda25d",
   "metadata": {},
   "source": [
    "## Instalaciones y Librerias "
   ]
  },
  {
   "cell_type": "code",
   "execution_count": null,
   "id": "2a85512e",
   "metadata": {},
   "outputs": [],
   "source": [
    "#!pip install tweepy"
   ]
  },
  {
   "cell_type": "code",
   "execution_count": 7,
   "id": "1028334b",
   "metadata": {},
   "outputs": [],
   "source": [
    "import json\n",
    "from pandas.io.json import json_normalize\n",
    "import pandas as pd\n",
    "import requests\n",
    "import tweepy\n",
    "import csv\n",
    "import mysql.connector as conn"
   ]
  },
  {
   "cell_type": "markdown",
   "id": "ed4fa705",
   "metadata": {},
   "source": [
    "## API Authentication"
   ]
  },
  {
   "cell_type": "code",
   "execution_count": 9,
   "id": "6b0c7c3b",
   "metadata": {},
   "outputs": [],
   "source": [
    "# 4 authentication chains\n",
    "\n",
    "consumer_key='jQTzrkE7vlZbg2ntJu4LESCZs'\n",
    "consumer_secret='AS4B8YLOWXMcrHjJyZ8stWcm9Cp2qh0rCdIjiWaPBaTTc22tnO'\n",
    "access_key='902474996-b1ltSFx5Y2EdJfi2s63pghsULdjLTF1lkW6oHBvj'\n",
    "access_secret='TrZr5nGmi2Q4RcAJJ3UHbwuWkAqjcNXOTfCHLm1eOzpnn'"
   ]
  },
  {
   "cell_type": "code",
   "execution_count": 10,
   "id": "9fcf571b",
   "metadata": {},
   "outputs": [],
   "source": [
    "# authorize twitter, initialize tweepy\n",
    "\n",
    "auth = tweepy.OAuthHandler(consumer_key, consumer_secret)\n",
    "auth.set_access_token(access_key, access_secret)\n",
    "api = tweepy.API(auth, wait_on_rate_limit = True, wait_on_rate_limit_notify = True)"
   ]
  },
  {
   "cell_type": "markdown",
   "id": "268bbc1a",
   "metadata": {},
   "source": [
    "## Getting tweets - Pablo Iglesias"
   ]
  },
  {
   "cell_type": "code",
   "execution_count": 11,
   "id": "d62c5d35",
   "metadata": {},
   "outputs": [],
   "source": [
    "import sys\n",
    "sys.path.append('../')\n",
    "\n",
    "from src.track_function import track"
   ]
  },
  {
   "cell_type": "code",
   "execution_count": 12,
   "id": "28292d7a",
   "metadata": {},
   "outputs": [],
   "source": [
    "df_piglesias = track ('@PabloIglesias', 500)"
   ]
  },
  {
   "cell_type": "code",
   "execution_count": 18,
   "id": "2466564a",
   "metadata": {},
   "outputs": [
    {
     "data": {
      "text/plain": [
       "Index(['date', 'tweet_id', 'tweet_text', 'source', 'in_reply_to_screen_name',\n",
       "       'user_name', 'user_screen_name', 'location', 'user_url', 'n_followers',\n",
       "       'verified'],\n",
       "      dtype='object')"
      ]
     },
     "execution_count": 18,
     "metadata": {},
     "output_type": "execute_result"
    }
   ],
   "source": [
    "df_piglesias.columns"
   ]
  },
  {
   "cell_type": "code",
   "execution_count": 23,
   "id": "e6750531",
   "metadata": {},
   "outputs": [],
   "source": [
    "df_piglesias = df_piglesias[['tweet_id', 'date', 'tweet_text', 'source', 'in_reply_to_screen_name',\n",
    "       'user_name', 'user_screen_name', 'location', 'user_url', 'n_followers',\n",
    "       'verified']]"
   ]
  },
  {
   "cell_type": "code",
   "execution_count": 30,
   "id": "1c053971",
   "metadata": {},
   "outputs": [
    {
     "name": "stdout",
     "output_type": "stream",
     "text": [
      "<class 'pandas.core.frame.DataFrame'>\n",
      "RangeIndex: 500 entries, 0 to 499\n",
      "Data columns (total 11 columns):\n",
      " #   Column                   Non-Null Count  Dtype \n",
      "---  ------                   --------------  ----- \n",
      " 0   tweet_id                 500 non-null    int64 \n",
      " 1   date                     500 non-null    object\n",
      " 2   tweet_text               500 non-null    object\n",
      " 3   source                   500 non-null    object\n",
      " 4   in_reply_to_screen_name  418 non-null    object\n",
      " 5   user_name                500 non-null    object\n",
      " 6   user_screen_name         500 non-null    object\n",
      " 7   location                 500 non-null    object\n",
      " 8   user_url                 500 non-null    object\n",
      " 9   n_followers              500 non-null    int64 \n",
      " 10  verified                 500 non-null    bool  \n",
      "dtypes: bool(1), int64(2), object(8)\n",
      "memory usage: 39.7+ KB\n"
     ]
    }
   ],
   "source": [
    "df_piglesias.info()"
   ]
  },
  {
   "cell_type": "markdown",
   "id": "2f25df75",
   "metadata": {},
   "source": [
    "## Dataframe to SQL - Pablo Iglesias"
   ]
  },
  {
   "cell_type": "code",
   "execution_count": 34,
   "id": "c036c859",
   "metadata": {},
   "outputs": [],
   "source": [
    "connection=conn.connect(host='localhost', user='root', passwd='123456')\n",
    "cursor=connection.cursor()"
   ]
  },
  {
   "cell_type": "code",
   "execution_count": 42,
   "id": "950f7f24",
   "metadata": {},
   "outputs": [
    {
     "ename": "SyntaxError",
     "evalue": "unexpected character after line continuation character (<ipython-input-42-146ad1a85b61>, line 3)",
     "output_type": "error",
     "traceback": [
      "\u001b[0;36m  File \u001b[0;32m\"<ipython-input-42-146ad1a85b61>\"\u001b[0;36m, line \u001b[0;32m3\u001b[0m\n\u001b[0;31m    insert_query=\"insert into {} ({}) values {};\"\\.format('pabloiglesias_tweets',','.join(['tweet_id','date','tweet_text','source','in_reply_to_screen_name','user_name','user_screen_name','location','user_url','n_followers','verified']), tuple([tweet_id,date,tweet_text,source,in_reply_to_screen_name,user_name,user_screen_name,location,user_url,n_followers,verified]))\u001b[0m\n\u001b[0m                                                                                                                                                                                                                                                                                                                                                                                 ^\u001b[0m\n\u001b[0;31mSyntaxError\u001b[0m\u001b[0;31m:\u001b[0m unexpected character after line continuation character\n"
     ]
    }
   ],
   "source": [
    "# Insert DataFrame recrds one by one.\n",
    "\n",
    "        insert_query=\"insert into {} ({}) values {};\"\\\n",
    "                    .format('pabloiglesias_tweets', ','.join(['tweet_id','date',\n",
    "           'tweet_text','source','in_reply_to_screen_name','user_name',\n",
    "           'user_screen_name','location','user_url','n_followers','verified']), tuple([tweet_id,date,tweet_text,\n",
    "                                                                                      source, in_reply_to_screen_name,name,\n",
    "                                                                                      screen_name,location,url,followers_count,verified]))\n",
    "cursor.execute(insert_query)\n",
    "# the connection is not autocommitted by default, so we must commit to save our changes\n",
    "connection.commit()"
   ]
  },
  {
   "cell_type": "markdown",
   "id": "922661f1",
   "metadata": {},
   "source": [
    "## Getting tweets - Santi Abascal"
   ]
  },
  {
   "cell_type": "code",
   "execution_count": 43,
   "id": "4444d433",
   "metadata": {},
   "outputs": [],
   "source": [
    "df_sabascal = track ('@Santi_ABASCAL', 500)"
   ]
  },
  {
   "cell_type": "code",
   "execution_count": 44,
   "id": "228661c2",
   "metadata": {},
   "outputs": [
    {
     "data": {
      "text/html": [
       "<div>\n",
       "<style scoped>\n",
       "    .dataframe tbody tr th:only-of-type {\n",
       "        vertical-align: middle;\n",
       "    }\n",
       "\n",
       "    .dataframe tbody tr th {\n",
       "        vertical-align: top;\n",
       "    }\n",
       "\n",
       "    .dataframe thead th {\n",
       "        text-align: right;\n",
       "    }\n",
       "</style>\n",
       "<table border=\"1\" class=\"dataframe\">\n",
       "  <thead>\n",
       "    <tr style=\"text-align: right;\">\n",
       "      <th></th>\n",
       "      <th>date</th>\n",
       "      <th>tweet_id</th>\n",
       "      <th>tweet_text</th>\n",
       "      <th>source</th>\n",
       "      <th>in_reply_to_screen_name</th>\n",
       "      <th>user_name</th>\n",
       "      <th>user_screen_name</th>\n",
       "      <th>location</th>\n",
       "      <th>user_url</th>\n",
       "      <th>n_followers</th>\n",
       "      <th>verified</th>\n",
       "    </tr>\n",
       "  </thead>\n",
       "  <tbody>\n",
       "    <tr>\n",
       "      <th>0</th>\n",
       "      <td>2021-06-18 15:23:16</td>\n",
       "      <td>1405908984020754434</td>\n",
       "      <td>@Francis59108531 @Santi_ABASCAL Jamás podrán b...</td>\n",
       "      <td>Twitter for iPhone</td>\n",
       "      <td>Francis59108531</td>\n",
       "      <td>lokailo</td>\n",
       "      <td>lokailo</td>\n",
       "      <td>En la derecha de la vida</td>\n",
       "      <td>https://twitter.com/lokailo</td>\n",
       "      <td>336</td>\n",
       "      <td>False</td>\n",
       "    </tr>\n",
       "    <tr>\n",
       "      <th>1</th>\n",
       "      <td>2021-06-18 15:21:35</td>\n",
       "      <td>1405908560094040064</td>\n",
       "      <td>@Santi_ABASCAL Para Sánchez TODO es una mercan...</td>\n",
       "      <td>Twitter for iPhone</td>\n",
       "      <td>Santi_ABASCAL</td>\n",
       "      <td>Mdhumanes</td>\n",
       "      <td>mdhumanes</td>\n",
       "      <td></td>\n",
       "      <td>https://twitter.com/mdhumanes</td>\n",
       "      <td>1</td>\n",
       "      <td>False</td>\n",
       "    </tr>\n",
       "    <tr>\n",
       "      <th>2</th>\n",
       "      <td>2021-06-18 15:21:20</td>\n",
       "      <td>1405908496021962765</td>\n",
       "      <td>Sabemos que han elegido el 26 de junio para sa...</td>\n",
       "      <td>Twitter for Android</td>\n",
       "      <td>None</td>\n",
       "      <td>SpanishTaoist</td>\n",
       "      <td>SpanishTaoist</td>\n",
       "      <td></td>\n",
       "      <td>https://twitter.com/SpanishTaoist</td>\n",
       "      <td>236</td>\n",
       "      <td>False</td>\n",
       "    </tr>\n",
       "    <tr>\n",
       "      <th>3</th>\n",
       "      <td>2021-06-18 15:21:15</td>\n",
       "      <td>1405908476522549255</td>\n",
       "      <td>@Santi_ABASCAL https://t.co/KTBLUgKJdC</td>\n",
       "      <td>Twitter for Android</td>\n",
       "      <td>Santi_ABASCAL</td>\n",
       "      <td>CGR , Canario y Español 🇮🇨🇪🇸</td>\n",
       "      <td>CandidoGutierr9</td>\n",
       "      <td></td>\n",
       "      <td>https://twitter.com/CandidoGutierr9</td>\n",
       "      <td>594</td>\n",
       "      <td>False</td>\n",
       "    </tr>\n",
       "    <tr>\n",
       "      <th>4</th>\n",
       "      <td>2021-06-18 15:21:12</td>\n",
       "      <td>1405908461406363661</td>\n",
       "      <td>@melasudaoficial @NunezHuesca ¿Nunca has escuc...</td>\n",
       "      <td>Twitter for iPhone</td>\n",
       "      <td>melasudaoficial</td>\n",
       "      <td>Liberal Enfurruñada</td>\n",
       "      <td>MuyLiberal</td>\n",
       "      <td></td>\n",
       "      <td>https://twitter.com/MuyLiberal</td>\n",
       "      <td>37571</td>\n",
       "      <td>True</td>\n",
       "    </tr>\n",
       "  </tbody>\n",
       "</table>\n",
       "</div>"
      ],
      "text/plain": [
       "                 date             tweet_id  \\\n",
       "0 2021-06-18 15:23:16  1405908984020754434   \n",
       "1 2021-06-18 15:21:35  1405908560094040064   \n",
       "2 2021-06-18 15:21:20  1405908496021962765   \n",
       "3 2021-06-18 15:21:15  1405908476522549255   \n",
       "4 2021-06-18 15:21:12  1405908461406363661   \n",
       "\n",
       "                                          tweet_text               source  \\\n",
       "0  @Francis59108531 @Santi_ABASCAL Jamás podrán b...   Twitter for iPhone   \n",
       "1  @Santi_ABASCAL Para Sánchez TODO es una mercan...   Twitter for iPhone   \n",
       "2  Sabemos que han elegido el 26 de junio para sa...  Twitter for Android   \n",
       "3             @Santi_ABASCAL https://t.co/KTBLUgKJdC  Twitter for Android   \n",
       "4  @melasudaoficial @NunezHuesca ¿Nunca has escuc...   Twitter for iPhone   \n",
       "\n",
       "  in_reply_to_screen_name                     user_name user_screen_name  \\\n",
       "0         Francis59108531                       lokailo          lokailo   \n",
       "1           Santi_ABASCAL                     Mdhumanes        mdhumanes   \n",
       "2                    None                 SpanishTaoist    SpanishTaoist   \n",
       "3           Santi_ABASCAL  CGR , Canario y Español 🇮🇨🇪🇸  CandidoGutierr9   \n",
       "4         melasudaoficial           Liberal Enfurruñada       MuyLiberal   \n",
       "\n",
       "                    location                             user_url  \\\n",
       "0  En la derecha de la vida           https://twitter.com/lokailo   \n",
       "1                                   https://twitter.com/mdhumanes   \n",
       "2                               https://twitter.com/SpanishTaoist   \n",
       "3                             https://twitter.com/CandidoGutierr9   \n",
       "4                                  https://twitter.com/MuyLiberal   \n",
       "\n",
       "   n_followers  verified  \n",
       "0          336     False  \n",
       "1            1     False  \n",
       "2          236     False  \n",
       "3          594     False  \n",
       "4        37571      True  "
      ]
     },
     "execution_count": 44,
     "metadata": {},
     "output_type": "execute_result"
    }
   ],
   "source": [
    "df_sabascal.head()"
   ]
  },
  {
   "cell_type": "markdown",
   "id": "d1e97df2",
   "metadata": {},
   "source": [
    "## Dataframe to SQL - Santi Abascal"
   ]
  },
  {
   "cell_type": "code",
   "execution_count": 6,
   "id": "7a75cb36",
   "metadata": {},
   "outputs": [],
   "source": [
    "connection=conn.connect(host='localhost', user='root', passwd='123456')\n",
    "cursor=connection.cursor()"
   ]
  },
  {
   "cell_type": "code",
   "execution_count": null,
   "id": "29ca776c",
   "metadata": {},
   "outputs": [],
   "source": [
    "# Insert DataFrame recrds one by one.\n",
    "\n",
    "for i,row in data.iterrows():\n",
    "    sql = \"INSERT INTO 'pabloiglesias_tweets' ('tweet_id','date','tweet_text','source','in_reply_to_screen_name','user_name','user_screen_name','location','user_url','n_followers','verified') VALUES (''tweet_id','date', 'tweet_text', 'source','in_reply_to_screen_name','user_name', 'user_screen_name', 'location','user_url', 'n_followers', 'verified')\"\n",
    "    \n",
    "    cursor.execute(sql, tuple(row))\n",
    "\n",
    "    # the connection is not autocommitted by default, so we must commit to save our changes\n",
    "    connection.commit()"
   ]
  }
 ],
 "metadata": {
  "kernelspec": {
   "display_name": "clase",
   "language": "python",
   "name": "clase"
  },
  "language_info": {
   "codemirror_mode": {
    "name": "ipython",
    "version": 3
   },
   "file_extension": ".py",
   "mimetype": "text/x-python",
   "name": "python",
   "nbconvert_exporter": "python",
   "pygments_lexer": "ipython3",
   "version": "3.8.8"
  }
 },
 "nbformat": 4,
 "nbformat_minor": 5
}
