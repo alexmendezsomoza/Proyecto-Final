{
 "cells": [
  {
   "cell_type": "markdown",
   "id": "d44cc502",
   "metadata": {},
   "source": [
    "# Twitter PainBlock"
   ]
  },
  {
   "cell_type": "markdown",
   "id": "bffda25d",
   "metadata": {},
   "source": [
    "## Instalaciones y Librerias "
   ]
  },
  {
   "cell_type": "code",
   "execution_count": null,
   "id": "2a85512e",
   "metadata": {},
   "outputs": [],
   "source": [
    "#!pip install tweepy"
   ]
  },
  {
   "cell_type": "code",
   "execution_count": 2,
   "id": "1028334b",
   "metadata": {},
   "outputs": [],
   "source": [
    "import json\n",
    "from pandas.io.json import json_normalize\n",
    "import pandas as pd\n",
    "import requests\n",
    "import tweepy\n",
    "import csv\n",
    "import mysql.connector as conn"
   ]
  },
  {
   "cell_type": "markdown",
   "id": "da9480d2",
   "metadata": {},
   "source": [
    "## Stream Tweet"
   ]
  },
  {
   "cell_type": "code",
   "execution_count": 3,
   "id": "bfc48fbc",
   "metadata": {},
   "outputs": [],
   "source": [
    "# 4 authentication chains\n",
    "\n",
    "consumer_key='jQTzrkE7vlZbg2ntJu4LESCZs'\n",
    "consumer_secret='AS4B8YLOWXMcrHjJyZ8stWcm9Cp2qh0rCdIjiWaPBaTTc22tnO'\n",
    "access_key='902474996-b1ltSFx5Y2EdJfi2s63pghsULdjLTF1lkW6oHBvj'\n",
    "access_secret='TrZr5nGmi2Q4RcAJJ3UHbwuWkAqjcNXOTfCHLm1eOzpnn'\n",
    "\n",
    "# authorize twitter, initialize tweepy\n",
    "\n",
    "auth = tweepy.OAuthHandler(consumer_key, consumer_secret)\n",
    "auth.set_access_token(access_key, access_secret)\n",
    "api = tweepy.API(auth, wait_on_rate_limit = True, wait_on_rate_limit_notify = True)"
   ]
  },
  {
   "cell_type": "markdown",
   "id": "971fbdd6",
   "metadata": {},
   "source": [
    "## Creating SQL Database"
   ]
  },
  {
   "cell_type": "markdown",
   "id": "dcc11b9e",
   "metadata": {},
   "source": [
    "crea_db=conn.connect(host='localhost', user='root', passwd='123456')\n",
    "cursor=crea_db.cursor()\n",
    "cursor.execute('drop database if exists proyecto_final')\n",
    "cursor.execute('create database proyecto_final')"
   ]
  },
  {
   "cell_type": "code",
   "execution_count": 4,
   "id": "108a1204",
   "metadata": {},
   "outputs": [],
   "source": [
    "db=conn.connect(host='localhost', user='root', passwd='123456', database='proyecto_final')\n",
    "\n",
    "cursor=db.cursor()"
   ]
  },
  {
   "cell_type": "markdown",
   "id": "2e947494",
   "metadata": {},
   "source": [
    "cursor.execute('drop table if exists pabloiglesias_tweets')"
   ]
  },
  {
   "cell_type": "markdown",
   "id": "bfda65e5",
   "metadata": {},
   "source": [
    "tabla= '''\n",
    "        create table pabloiglesias_tweets(\n",
    "            \n",
    "           tweet_id bigint ,      \n",
    "           date varchar(500),\n",
    "           tweet_text varchar(500),\n",
    "           source varchar(500),\n",
    "           in_reply_to_screen_name varchar(500),\n",
    "           user_name varchar(500),\n",
    "           user_screen_name varchar(500),\n",
    "           location varchar(500),\n",
    "           user_url varchar(500),\n",
    "           n_followers int,\n",
    "           verified bool \n",
    "            \n",
    "        );\n",
    "'''\n",
    "\n",
    "cursor.execute (tabla)"
   ]
  },
  {
   "cell_type": "markdown",
   "id": "fd040fb6",
   "metadata": {},
   "source": [
    "## Tweet Streaming "
   ]
  },
  {
   "cell_type": "code",
   "execution_count": 5,
   "id": "65a35f57",
   "metadata": {},
   "outputs": [],
   "source": [
    "class TweetsListener(tweepy.StreamListener):\n",
    "    \n",
    "    \n",
    "    def __init__(self):\n",
    "        super(TweetsListener, self).__init__()\n",
    "\n",
    "\n",
    "    def on_connect(self):\n",
    "        print(\"Estoy conectado!\")\n",
    "\n",
    "    def on_status(self, status): # aquí es donde tiene que ir la base de datos si queremos guardarlo\n",
    "        \n",
    "        #print (json.dumps(status._json,indent=2)) \n",
    "        \n",
    "        \n",
    "        created_at = [] #esta\n",
    "        id_tweet = [] #esta\n",
    "        full_text = [] # text\n",
    "        source = [] #esta\n",
    "        in_reply_to_screen_name = [] #esta\n",
    "        user_name = [] #esta\n",
    "        user_screen_name = [] #esta\n",
    "        user_location = [] #esta\n",
    "        user_url = [] #esta\n",
    "        user_followers_count = [] #esta\n",
    "        user_verified = [] #esta\n",
    "        user = [] # single-use\n",
    "        \n",
    "        # List Append\n",
    "        \n",
    "        date = str(status.created_at)\n",
    "        tweet_id = int(status.id_str)\n",
    "        tweet_text = status.text \n",
    "        source = status.source\n",
    "        in_reply_to_screen_name = status.in_reply_to_screen_name if status.in_reply_to_screen_name else 'opinion'\n",
    "        user.append(status.user)\n",
    "        \n",
    "        for i in user:\n",
    "        \n",
    "            name = i.name\n",
    "            screen_name = i.screen_name\n",
    "            location = i.location if i.location else ''\n",
    "            url = 'https://twitter.com/' + i.screen_name\n",
    "            followers_count = i.followers_count\n",
    "            verified = i.verified\n",
    "        \n",
    "        insert_query=\"insert into {} ({}) values {};\"\\\n",
    "                    .format('pabloiglesias_tweets', ','.join(['tweet_id','date',\n",
    "           'tweet_text','source','in_reply_to_screen_name','user_name',\n",
    "           'user_screen_name','location','user_url','n_followers','verified']), tuple([tweet_id,date,tweet_text,\n",
    "                                                                                      source, in_reply_to_screen_name,name,\n",
    "                                                                                      screen_name,location,url,followers_count,verified]))\n",
    "        #print (insert_query)\n",
    "        \n",
    "        cursor.execute(insert_query)\n",
    "    \n",
    "        db.commit()\n",
    "        \n",
    "        print('Tweet Guardado')\n",
    "        \n",
    "\n",
    "    def on_error(self, status_code):\n",
    "        print(\"Error\", status_code)"
   ]
  },
  {
   "cell_type": "markdown",
   "id": "e9794d9f",
   "metadata": {},
   "source": [
    "stream = TweetsListener()\n",
    "streamingApi = tweepy.Stream(auth=api.auth, listener=stream)\n",
    "streamingApi.filter(track=[\"@PabloIglesias\"])"
   ]
  },
  {
   "cell_type": "code",
   "execution_count": null,
   "id": "efbc2830",
   "metadata": {},
   "outputs": [],
   "source": [
    "while 1:\n",
    "    \n",
    "    try:\n",
    "        stream = TweetsListener()\n",
    "        streamingApi = tweepy.Stream(auth=api.auth, listener=stream)\n",
    "        streamingApi.filter(track= [\"@PabloIglesias\"])\n",
    "\n",
    "    except:\n",
    "        print ('Error')"
   ]
  },
  {
   "cell_type": "markdown",
   "id": "4d164f7d",
   "metadata": {},
   "source": [
    "cursor.execute('SELECT * FROM pabloiglesias_tweets').fetchall()"
   ]
  },
  {
   "cell_type": "code",
   "execution_count": null,
   "id": "d726ea44",
   "metadata": {},
   "outputs": [],
   "source": []
  }
 ],
 "metadata": {
  "kernelspec": {
   "display_name": "clase",
   "language": "python",
   "name": "clase"
  },
  "language_info": {
   "codemirror_mode": {
    "name": "ipython",
    "version": 3
   },
   "file_extension": ".py",
   "mimetype": "text/x-python",
   "name": "python",
   "nbconvert_exporter": "python",
   "pygments_lexer": "ipython3",
   "version": "3.8.8"
  }
 },
 "nbformat": 4,
 "nbformat_minor": 5
}
