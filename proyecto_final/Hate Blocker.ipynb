{
 "cells": [
  {
   "cell_type": "markdown",
   "id": "e38bebac",
   "metadata": {},
   "source": [
    "# Hate Blocker\n",
    "##### ----------------------------------------------------------------------------------------------------------------------------------"
   ]
  },
  {
   "cell_type": "markdown",
   "id": "e7f22101",
   "metadata": {},
   "source": [
    "#### Una herramienta capaz de prevenir el ciberacoso en Twitter a través de un modelo NLP preparado para estudiar la situación de cada usuario."
   ]
  },
  {
   "cell_type": "markdown",
   "id": "bcd586f2",
   "metadata": {},
   "source": [
    "![title](images/facebook_cover_photo_2.png)"
   ]
  },
  {
   "cell_type": "markdown",
   "id": "1e06a788",
   "metadata": {},
   "source": [
    "# Libreria"
   ]
  },
  {
   "cell_type": "code",
   "execution_count": 1,
   "id": "746e76d1",
   "metadata": {},
   "outputs": [],
   "source": [
    "import sys\n",
    "sys.path.append('../')\n",
    "from src.track_function import *\n",
    "from IPython.display import Image"
   ]
  },
  {
   "cell_type": "markdown",
   "id": "9cb8ae5e",
   "metadata": {},
   "source": [
    "# Inicializar herramienta\n",
    "\n",
    "Analizaremos las menciones de mi cuenta @ironhackerMAD"
   ]
  },
  {
   "cell_type": "code",
   "execution_count": 2,
   "id": "76566450",
   "metadata": {},
   "outputs": [
    {
     "name": "stdout",
     "output_type": "stream",
     "text": [
      " \n",
      "Voy a bloquear a  enanasancas por el siguiente tweet: @BryanGilMVP @xinxinricardo @nanonandi @DelfinAsturiano ?\n",
      "¿Deseas bloquear a este usuario?No\n",
      "No\n",
      "Usuario no bloqueado. Guardado para entrenar\n",
      " \n",
      " \n",
      "Voy a bloquear a  BryanGilMVP por el siguiente tweet: @xinxinricardo @enanasancas @nanonandi @DelfinAsturiano cuál es la de ligar por Twitter?\n",
      "¿Deseas bloquear a este usuario?Para\n",
      "Para\n"
     ]
    }
   ],
   "source": [
    "usuario, texto = valoracion_block()"
   ]
  },
  {
   "cell_type": "markdown",
   "id": "046f4383",
   "metadata": {},
   "source": [
    "# Enviar informe por e-mail"
   ]
  },
  {
   "cell_type": "code",
   "execution_count": null,
   "id": "a8b13b42",
   "metadata": {},
   "outputs": [],
   "source": [
    "mail(usuario,texto)"
   ]
  },
  {
   "cell_type": "code",
   "execution_count": 3,
   "id": "43b429e0",
   "metadata": {},
   "outputs": [],
   "source": [
    "clf = modelo()"
   ]
  },
  {
   "cell_type": "code",
   "execution_count": 7,
   "id": "6622d91a",
   "metadata": {},
   "outputs": [
    {
     "data": {
      "text/plain": [
       "array([1])"
      ]
     },
     "execution_count": 7,
     "metadata": {},
     "output_type": "execute_result"
    }
   ],
   "source": [
    "clf.predict(['Eres que quiero que te vayas de mi casa'])"
   ]
  },
  {
   "cell_type": "markdown",
   "id": "95e00eab",
   "metadata": {},
   "source": [
    "![title](images/toni.png)"
   ]
  }
 ],
 "metadata": {
  "kernelspec": {
   "display_name": "clase",
   "language": "python",
   "name": "clase"
  },
  "language_info": {
   "codemirror_mode": {
    "name": "ipython",
    "version": 3
   },
   "file_extension": ".py",
   "mimetype": "text/x-python",
   "name": "python",
   "nbconvert_exporter": "python",
   "pygments_lexer": "ipython3",
   "version": "3.8.8"
  }
 },
 "nbformat": 4,
 "nbformat_minor": 5
}
