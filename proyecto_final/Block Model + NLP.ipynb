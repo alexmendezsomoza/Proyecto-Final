{
 "cells": [
  {
   "cell_type": "markdown",
   "id": "e38bebac",
   "metadata": {},
   "source": [
    "# Modelo NLP - Twitter"
   ]
  },
  {
   "cell_type": "code",
   "execution_count": 1,
   "id": "980d9312",
   "metadata": {},
   "outputs": [],
   "source": [
    "import pandas as pd\n",
    "from spacy import displacy\n",
    "import spacy\n",
    "import re\n",
    "import mysql.connector as conn"
   ]
  },
  {
   "cell_type": "code",
   "execution_count": 2,
   "id": "ae8b0f16",
   "metadata": {},
   "outputs": [],
   "source": [
    "from spacy.lang.es.stop_words import STOP_WORDS\n",
    "\n",
    "#Crear pdf report\n",
    "\n",
    "from io import BytesIO\n",
    "from reportlab.pdfgen import canvas\n",
    "from django.http import HttpResponse\n",
    "\n",
    "#Automatizar email\n",
    "\n",
    "import email, smtplib, ssl\n",
    "from email import encoders\n",
    "from email.mime.base import MIMEBase\n",
    "from email.mime.multipart import MIMEMultipart\n",
    "from email.mime.text import MIMEText"
   ]
  },
  {
   "cell_type": "markdown",
   "id": "2a5408ee",
   "metadata": {},
   "source": [
    "# Cargo Modelo NLP"
   ]
  },
  {
   "cell_type": "code",
   "execution_count": 3,
   "id": "625630ba",
   "metadata": {},
   "outputs": [],
   "source": [
    "import pickle\n",
    "import sys\n",
    "sys.path.append('../')\n",
    "\n",
    "from src.track_function import text_data_cleaning"
   ]
  },
  {
   "cell_type": "code",
   "execution_count": null,
   "id": "eec7acc8",
   "metadata": {},
   "outputs": [],
   "source": [
    "filename = 'modeloNLP_Twitter'"
   ]
  },
  {
   "cell_type": "code",
   "execution_count": null,
   "id": "13ca785d",
   "metadata": {},
   "outputs": [],
   "source": [
    "modelo = pickle.load(open(filename, 'rb'))"
   ]
  },
  {
   "cell_type": "code",
   "execution_count": null,
   "id": "7e07d974",
   "metadata": {},
   "outputs": [],
   "source": [
    "modelo.predict(['Estoy hasta los huevos'])"
   ]
  },
  {
   "cell_type": "code",
   "execution_count": null,
   "id": "a7e71471",
   "metadata": {},
   "outputs": [],
   "source": []
  },
  {
   "cell_type": "markdown",
   "id": "887db00c",
   "metadata": {},
   "source": [
    "# Cargo Funciones"
   ]
  },
  {
   "cell_type": "code",
   "execution_count": 4,
   "id": "5a58cf0e",
   "metadata": {},
   "outputs": [],
   "source": [
    "import sys\n",
    "sys.path.append('../')\n",
    "\n",
    "from src.track_function import *"
   ]
  },
  {
   "cell_type": "markdown",
   "id": "9b06cbd5",
   "metadata": {},
   "source": [
    "## Creo base de datos necesarias"
   ]
  },
  {
   "cell_type": "markdown",
   "id": "542a517c",
   "metadata": {},
   "source": [
    "### Creando SQL Database"
   ]
  },
  {
   "cell_type": "code",
   "execution_count": null,
   "id": "3e50c898",
   "metadata": {},
   "outputs": [],
   "source": [
    "db=conn.connect(host='localhost', user='root', passwd='123456', database='hate_blocker')\n",
    "\n",
    "cursor=db.cursor()"
   ]
  },
  {
   "cell_type": "markdown",
   "id": "56dead7c",
   "metadata": {},
   "source": [
    "cursor.execute('drop table if exists hate_blocker')"
   ]
  },
  {
   "cell_type": "markdown",
   "id": "8dd5c0c6",
   "metadata": {},
   "source": [
    "### Creando Tabla: Train Model\n",
    "\n",
    "El objetivo de este tabla es guardar los siguientes tweets:\n",
    "\n",
    "- Tweets correctos identificados como sentiment 1.\n",
    "\n",
    "- Tweets incorrectos identificados como sentiment 0.\n",
    "\n",
    "- Tweets correctos identificados como sentiment 0."
   ]
  },
  {
   "cell_type": "markdown",
   "id": "ad04c334",
   "metadata": {},
   "source": [
    "cursor.execute('drop table if exists train_model')"
   ]
  },
  {
   "cell_type": "code",
   "execution_count": null,
   "id": "3cb11d55",
   "metadata": {},
   "outputs": [],
   "source": [
    "tabla= '''\n",
    "        create table train_model(\n",
    "            \n",
    "           tweet_id bigint ,      \n",
    "           user bigint,\n",
    "           content varchar(500),\n",
    "           date varchar(500),\n",
    "           lang varchar(500),\n",
    "           sentiment bigint\n",
    "            \n",
    "        );\n",
    "'''\n",
    "\n",
    "cursor.execute (tabla)"
   ]
  },
  {
   "cell_type": "markdown",
   "id": "8434e9bd",
   "metadata": {},
   "source": [
    "### Creando Tabla: Listado Bullies"
   ]
  },
  {
   "cell_type": "markdown",
   "id": "f5252e60",
   "metadata": {},
   "source": [
    "cursor.execute('drop table if exists listado_bullies')"
   ]
  },
  {
   "cell_type": "code",
   "execution_count": null,
   "id": "848059ce",
   "metadata": {},
   "outputs": [],
   "source": [
    "tabla= '''\n",
    "        create table listado_bullies(\n",
    "            \n",
    "           \n",
    "           tweet_id bigint,\n",
    "           date varchar(500),      \n",
    "           account varchar(500),\n",
    "           tweet_text varchar(500),\n",
    "           URL_account varchar(500),\n",
    "           URL_tweet varchar(500)\n",
    "            \n",
    "        );\n",
    "'''\n",
    "\n",
    "\n",
    "cursor.execute (tabla)"
   ]
  },
  {
   "cell_type": "markdown",
   "id": "8b51ea4e",
   "metadata": {},
   "source": [
    "# Funcion PDF"
   ]
  },
  {
   "cell_type": "code",
   "execution_count": null,
   "id": "e6345235",
   "metadata": {},
   "outputs": [],
   "source": [
    "def drawMyRuler (pdf): #Plantilla\n",
    "    \n",
    "    pdf.drawString(100, 810, 'x100')\n",
    "    pdf.drawString(200, 810, 'x200')\n",
    "    pdf.drawString(300, 810, 'x300')\n",
    "    pdf.drawString(400, 810, 'x400')\n",
    "    pdf.drawString(500, 810, 'x500')\n",
    "    \n",
    "    pdf.drawString(10, 100, 'y100')\n",
    "    pdf.drawString(10, 200, 'y200')\n",
    "    pdf.drawString(10, 300, 'y300')\n",
    "    pdf.drawString(10, 400, 'y400')\n",
    "    pdf.drawString(10, 500, 'y500')\n",
    "    pdf.drawString(10, 600, 'y600')\n",
    "    pdf.drawString(10, 700, 'y700')\n",
    "    pdf.drawString(10, 800, 'y800')"
   ]
  },
  {
   "cell_type": "markdown",
   "id": "cbc373ba",
   "metadata": {},
   "source": [
    "# Funcion PDF"
   ]
  },
  {
   "cell_type": "code",
   "execution_count": null,
   "id": "8b88c206",
   "metadata": {},
   "outputs": [],
   "source": [
    "def pdf(usuario, texto):\n",
    "            \n",
    "        #name and create pdf\n",
    "\n",
    "        c = canvas.Canvas('hate_.pdf')\n",
    "        \n",
    "        #set background color (this color is yellow I do not recommend)\n",
    "\n",
    "        c.setFillColorRGB(0,0,0)\n",
    "\n",
    "        #Select font and font size\n",
    "\n",
    "        c.setFont('Helvetica', 12)\n",
    "\n",
    "        #create two text strings and set there position on the page\n",
    "\n",
    "        c.drawString(5, 660, 'Hemos bloqueado la cuenta' + usuario + 'por el siguiente tweet:' + texto)\n",
    "\n",
    "        #show page and save it\n",
    "\n",
    "        c.showPage()\n",
    "        c.save()\n",
    "          "
   ]
  },
  {
   "cell_type": "markdown",
   "id": "d9622957",
   "metadata": {},
   "source": [
    "# Función-Modelo"
   ]
  },
  {
   "cell_type": "code",
   "execution_count": 5,
   "id": "50a268f8",
   "metadata": {},
   "outputs": [],
   "source": [
    "import tweepy"
   ]
  },
  {
   "cell_type": "markdown",
   "id": "516cecf3",
   "metadata": {},
   "source": [
    "## Funcion de autentificacion"
   ]
  },
  {
   "cell_type": "code",
   "execution_count": null,
   "id": "b236b7f4",
   "metadata": {},
   "outputs": [],
   "source": [
    "# 4 authentication chains\n",
    "\n",
    "consumer_key='Qbxaw0OrPeZSFljKEp6SHI19M'\n",
    "consumer_secret='kva4UfB6cK2Z6P70MGV8LAM0MMOu3SAHjuUl5t7bWxpegkCHGl'\n",
    "access_key='902474996-eLIpuPP1uqYZoTWtprZuiL2FmehUURAZHT8ZBReU'\n",
    "access_secret='CkVPZlMz5Lk4EMYDZzmNM2zJQHGE0ze6CA0auHqnYtEhU'\n",
    "\n",
    "# authorize twitter, initialize tweepy\n",
    "\n",
    "auth = tweepy.OAuthHandler(consumer_key, consumer_secret)\n",
    "auth.set_access_token(access_key, access_secret)\n",
    "api = tweepy.API(auth, wait_on_rate_limit = True, wait_on_rate_limit_notify = True)"
   ]
  },
  {
   "cell_type": "markdown",
   "id": "641fb1a3",
   "metadata": {},
   "source": [
    "\n",
    "def insert(sentiment):\n",
    "    \n",
    "    insert_query=\"insert into {} ({}) values {};\"\\\n",
    "                        .format('train_model', ','.join(['tweet_id', 'user', 'content', 'date', 'lang', 'sentiment']), tuple([tweet.id_str, i.id,tweet.text, str(tweet.created_at), 'es', sentiment]))\n",
    "\n",
    "\n",
    "    cursor.execute(insert_query)\n",
    "\n",
    "    db.commit()\n",
    "\n",
    "    return"
   ]
  },
  {
   "cell_type": "markdown",
   "id": "a5c99a34",
   "metadata": {},
   "source": [
    "def bullies_to_sql():\n",
    "    \n",
    "    insert_query=\"insert into {} ({}) values {};\"\\\n",
    "                        .format('listado_bullies', ','.join(['tweet_id','date', 'account', 'tweet_text', 'URL_account','URL_tweet']), \n",
    "                                tuple([tweet.id_str, str(tweet.created_at), i.screen_name,tweet.text, 'https://twitter.com/' + i.screen_name, 'https://twitter.com/' + i.screen_name + '/status/' + tweet.id_str]))\n",
    "\n",
    "\n",
    "    cursor.execute(insert_query)\n",
    "\n",
    "    db.commit()\n",
    "\n",
    "    return"
   ]
  },
  {
   "cell_type": "code",
   "execution_count": null,
   "id": "a384da0c",
   "metadata": {},
   "outputs": [],
   "source": [
    "def valoracion_block():\n",
    "\n",
    "    users = []\n",
    "    users_url = []\n",
    "    tweets_url = []\n",
    "    usuario = []\n",
    "    texto = []\n",
    "\n",
    "\n",
    "    mentions = api.mentions_timeline(tweet_mode= 'extented')\n",
    "\n",
    "    for tweet in mentions: # Entran los tweets\n",
    "\n",
    "\n",
    "        users.append(tweet.user)\n",
    "\n",
    "        for i in users:\n",
    "\n",
    "            print(' ')\n",
    "\n",
    "        valoracion = clf.predict([tweet.text]) \n",
    "\n",
    "        if valoracion == 1: # Es positivo el tweet?\n",
    "\n",
    "            print ('No bloqueo al usuario. Guardado para entrenar.')\n",
    "\n",
    "            print (' ')\n",
    "\n",
    "            insert(1) # Mete en sql los tweets con etiqueta 1 para entrenar.\n",
    "\n",
    "\n",
    "        elif valoracion == 0: # Es negativo el tweet?\n",
    "\n",
    "            print('Voy a bloquear a ', tweet.user.screen_name, 'por el siguiente tweet:', tweet.text )\n",
    "\n",
    "            verif = input ('¿Deseas bloquear a este usuario?') # Estas seguro que quieres bloquear?\n",
    "\n",
    "            print (verif)\n",
    "\n",
    "            if verif == 'Si': # Si\n",
    "\n",
    "                api.create_block(tweet.user.screen_name)\n",
    "\n",
    "                insert(0) # Metelo en sql los tweets con etiqueta 0 para entrenar.\n",
    "\n",
    "                bullies_to_sql() # Metelo en el listado de bullies para enseñarlo al cliente.\n",
    "\n",
    "                print('Bloqueado. Guardado para entrenar.')\n",
    "\n",
    "                print('Guardado para enviar a cliente. ')\n",
    "\n",
    "                usuario.append(i.name)\n",
    "\n",
    "                texto.append(tweet.text)\n",
    "\n",
    "                #pdf(usuario, texto)\n",
    "\n",
    "\n",
    "\n",
    "            elif verif == 'No': # No\n",
    "\n",
    "                insert(1) # Mete en sql los tweets con etiqueta 1 para entrenar.\n",
    "\n",
    "                print ('Usuario no bloqueado. Guardado para entrenar')\n",
    "\n",
    "            elif verif == 'Para': # Para\n",
    "\n",
    "                break"
   ]
  },
  {
   "cell_type": "code",
   "execution_count": null,
   "id": "ec170a4f",
   "metadata": {},
   "outputs": [],
   "source": [
    "def mail():\n",
    "    \n",
    "    # assign key email aspects to variables for easier future editing\n",
    "    subject = \"Hater Report\"\n",
    "    body = 'Hola, te envío el resumen de los usuarios bloqueados: \\n'\n",
    "    for i in range (len(usuario)):\n",
    "\n",
    "        body += f\"- He bloqueado al usuario *{usuario[i]}* por el tweet: {texto[i]} \\n\" \n",
    "\n",
    "    sender_email = \"ironhack.trabajo.final@gmail.com\"\n",
    "    receiver_email = \"alexmendezsomoza@gmail.com\"\n",
    "    #file = \"automate_report.pdf\" # in the same directory as script\n",
    "    password = \"Ironhack2021\"\n",
    "\n",
    "    # Create the email head (sender, receiver, and subject)\n",
    "\n",
    "    email = MIMEMultipart()\n",
    "    email[\"From\"] = sender_email\n",
    "    email[\"To\"] = receiver_email \n",
    "    email[\"Subject\"] = subject\n",
    "\n",
    "    # Add body and attachment to email\n",
    "\n",
    "    email.attach(MIMEText(body, \"plain\"))\n",
    "\n",
    "    #attach_file = open(file, \"rb\") # open the file\n",
    "    #report = MIMEBase(\"application\", \"octate-stream\")\n",
    "    #report.set_payload((attach_file).read())\n",
    "    #encoders.encode_base64(report)\n",
    "\n",
    "    #add report header with the file name\n",
    "\n",
    "    #report.add_header(\"Content-Decomposition\", \"attachment\", filename = file)\n",
    "    #email.attach(report)\n",
    "\n",
    "    #Create SMTP session for sending the mail\n",
    "\n",
    "    session = smtplib.SMTP('smtp.gmail.com', 587) #use gmail with port\n",
    "    session.starttls() #enable security\n",
    "    session.login(sender_email, password) #login with mail_id and password\n",
    "    text = email.as_string()\n",
    "    session.sendmail(sender_email, receiver_email, text)\n",
    "    session.quit()\n",
    "    \n",
    "    return('Mail Sent')"
   ]
  },
  {
   "cell_type": "code",
   "execution_count": null,
   "id": "751fa6fb",
   "metadata": {},
   "outputs": [],
   "source": []
  },
  {
   "cell_type": "code",
   "execution_count": null,
   "id": "a4a4a21a",
   "metadata": {},
   "outputs": [],
   "source": []
  },
  {
   "cell_type": "code",
   "execution_count": null,
   "id": "a93fa075",
   "metadata": {},
   "outputs": [],
   "source": [
    "import sys\n",
    "sys.path.append('../')\n",
    "\n",
    "from src.track_function import text_data_cleaning"
   ]
  },
  {
   "cell_type": "code",
   "execution_count": null,
   "id": "f784c256",
   "metadata": {},
   "outputs": [],
   "source": [
    "text_data_cleaning('Estamos bailando en la fiesta. Alguien viene...')"
   ]
  },
  {
   "cell_type": "code",
   "execution_count": 6,
   "id": "599e35de",
   "metadata": {},
   "outputs": [
    {
     "name": "stdout",
     "output_type": "stream",
     "text": [
      " \n",
      "Voy a bloquear a  BryanGilMVP por el siguiente tweet: @xinxinricardo wow\n",
      "¿Deseas bloquear a este usuario?Si\n",
      "Si\n",
      "Bloqueado. Guardado para entrenar.\n",
      "Guardado para enviar a cliente. \n",
      " \n",
      " \n",
      "Voy a bloquear a  CarlosLarios96 por el siguiente tweet: @xinxinricardo Pf\n",
      "¿Deseas bloquear a este usuario?No\n",
      "No\n",
      "Usuario no bloqueado. Guardado para entrenar\n",
      " \n",
      " \n",
      " \n",
      "No bloqueo al usuario. Guardado para entrenar.\n",
      " \n",
      " \n",
      " \n",
      " \n",
      " \n",
      "Voy a bloquear a  BryanGilMVP por el siguiente tweet: @xinxinricardo DAME UN MES!!!!!\n",
      "¿Deseas bloquear a este usuario?Si\n",
      "Si\n",
      "Bloqueado. Guardado para entrenar.\n",
      "Guardado para enviar a cliente. \n",
      " \n",
      " \n",
      " \n",
      " \n",
      " \n",
      "Voy a bloquear a  alexseun874 por el siguiente tweet: @xinxinricardo @atletienglish Congratulations! You did it.\n",
      "¿Deseas bloquear a este usuario?Si\n",
      "Si\n",
      "Bloqueado. Guardado para entrenar.\n",
      "Guardado para enviar a cliente. \n",
      " \n",
      " \n",
      " \n",
      " \n",
      " \n",
      " \n",
      "Voy a bloquear a  alexseun874 por el siguiente tweet: @xinxinricardo @atletienglish 💪💪💙💙\n",
      "¿Deseas bloquear a este usuario?Parar\n",
      "Parar\n",
      " \n",
      " \n",
      " \n",
      " \n",
      " \n",
      " \n",
      " \n",
      "Voy a bloquear a  BryanGilMVP por el siguiente tweet: @xinxinricardo la deben llevar dos amorfos de cuidado@biwenger\n",
      "¿Deseas bloquear a este usuario?Para\n",
      "Para\n"
     ]
    },
    {
     "data": {
      "text/plain": [
       "(['Bryan the Insect 🦟',\n",
       "  'Bryan the Insect 🦟',\n",
       "  'Uncle Sam - EndPoliceBrutality'],\n",
       " ['@xinxinricardo wow',\n",
       "  '@xinxinricardo DAME UN MES!!!!!',\n",
       "  '@xinxinricardo @atletienglish Congratulations! You did it.'])"
      ]
     },
     "execution_count": 6,
     "metadata": {},
     "output_type": "execute_result"
    }
   ],
   "source": [
    "valoracion_block()"
   ]
  },
  {
   "cell_type": "code",
   "execution_count": 7,
   "id": "ce2acfc3",
   "metadata": {},
   "outputs": [
    {
     "name": "stdout",
     "output_type": "stream",
     "text": [
      " \n",
      "Voy a bloquear a  CarlosLarios96 por el siguiente tweet: @xinxinricardo Pf\n",
      "¿Deseas bloquear a este usuario?Si\n",
      "Si\n",
      "Bloqueado. Guardado para entrenar.\n",
      "Guardado para enviar a cliente. \n",
      " \n",
      " \n",
      "Voy a bloquear a  pedro_pescado por el siguiente tweet: @xinxinricardo https://t.co/uOyinG7VOz\n",
      "¿Deseas bloquear a este usuario?Si\n",
      "Si\n",
      "Bloqueado. Guardado para entrenar.\n",
      "Guardado para enviar a cliente. \n",
      " \n",
      " \n",
      " \n",
      "No bloqueo al usuario. Guardado para entrenar.\n",
      " \n",
      " \n",
      " \n",
      " \n",
      " \n",
      "No bloqueo al usuario. Guardado para entrenar.\n",
      " \n",
      " \n",
      " \n",
      " \n",
      " \n",
      " \n",
      "No bloqueo al usuario. Guardado para entrenar.\n",
      " \n",
      " \n",
      " \n",
      " \n",
      " \n",
      " \n",
      " \n",
      "No bloqueo al usuario. Guardado para entrenar.\n",
      " \n",
      " \n",
      " \n",
      " \n",
      " \n",
      " \n",
      " \n",
      " \n",
      "No bloqueo al usuario. Guardado para entrenar.\n",
      " \n",
      " \n",
      " \n",
      " \n",
      " \n",
      " \n",
      " \n",
      " \n",
      " \n",
      "No bloqueo al usuario. Guardado para entrenar.\n",
      " \n",
      " \n",
      " \n",
      " \n",
      " \n",
      " \n",
      " \n",
      " \n",
      " \n",
      " \n",
      "No bloqueo al usuario. Guardado para entrenar.\n",
      " \n",
      " \n",
      " \n",
      " \n",
      " \n",
      " \n",
      " \n",
      " \n",
      " \n",
      " \n",
      " \n",
      "Voy a bloquear a  Nicolas14859969 por el siguiente tweet: @elanonimoboss @ZizouBiwenger @aangelrp @biwenger @FarolilloTeam @PicaPlomo @futbol_fantasy @JornadaPerfecta @GuruBiwenger @DudasBiwenger 3\n",
      "¿Deseas bloquear a este usuario?Si\n",
      "Si\n",
      "Bloqueado. Guardado para entrenar.\n",
      "Guardado para enviar a cliente. \n",
      " \n",
      " \n",
      " \n",
      " \n",
      " \n",
      " \n",
      " \n",
      " \n",
      " \n",
      " \n",
      " \n",
      "No bloqueo al usuario. Guardado para entrenar.\n",
      " \n",
      " \n",
      " \n",
      " \n",
      " \n",
      " \n",
      " \n",
      " \n",
      " \n",
      " \n",
      " \n",
      " \n",
      " \n",
      "No bloqueo al usuario. Guardado para entrenar.\n",
      " \n",
      " \n",
      " \n",
      " \n",
      " \n",
      " \n",
      " \n",
      " \n",
      " \n",
      " \n",
      " \n",
      " \n",
      " \n",
      " \n",
      "No bloqueo al usuario. Guardado para entrenar.\n",
      " \n",
      " \n",
      " \n",
      " \n",
      " \n",
      " \n",
      " \n",
      " \n",
      " \n",
      " \n",
      " \n",
      " \n",
      " \n",
      " \n",
      " \n",
      "No bloqueo al usuario. Guardado para entrenar.\n",
      " \n",
      " \n",
      " \n",
      " \n",
      " \n",
      " \n",
      " \n",
      " \n",
      " \n",
      " \n",
      " \n",
      " \n",
      " \n",
      " \n",
      " \n",
      " \n",
      "No bloqueo al usuario. Guardado para entrenar.\n",
      " \n",
      " \n",
      " \n",
      " \n",
      " \n",
      " \n",
      " \n",
      " \n",
      " \n",
      " \n",
      " \n",
      " \n",
      " \n",
      " \n",
      " \n",
      " \n",
      " \n",
      "Voy a bloquear a  FeliOneLove10 por el siguiente tweet: @oTinie Yo conozco a estos 2 @CarlosLarios96 @elanonimoboss\n",
      "¿Deseas bloquear a este usuario?Para\n",
      "Para\n"
     ]
    }
   ],
   "source": [
    "usuario, texto = valoracion_block()"
   ]
  },
  {
   "cell_type": "code",
   "execution_count": 9,
   "id": "d9292d2a",
   "metadata": {},
   "outputs": [
    {
     "data": {
      "text/plain": [
       "['@xinxinricardo Pf',\n",
       " '@xinxinricardo https://t.co/uOyinG7VOz',\n",
       " '@elanonimoboss @ZizouBiwenger @aangelrp @biwenger @FarolilloTeam @PicaPlomo @futbol_fantasy @JornadaPerfecta @GuruBiwenger @DudasBiwenger 3']"
      ]
     },
     "execution_count": 9,
     "metadata": {},
     "output_type": "execute_result"
    }
   ],
   "source": []
  },
  {
   "cell_type": "code",
   "execution_count": 10,
   "id": "a7b3195a",
   "metadata": {},
   "outputs": [
    {
     "ename": "NameError",
     "evalue": "name 'MIMEMultipart' is not defined",
     "output_type": "error",
     "traceback": [
      "\u001b[0;31m---------------------------------------------------------------------------\u001b[0m",
      "\u001b[0;31mNameError\u001b[0m                                 Traceback (most recent call last)",
      "\u001b[0;32m<ipython-input-10-1ea3ff767177>\u001b[0m in \u001b[0;36m<module>\u001b[0;34m\u001b[0m\n\u001b[0;32m----> 1\u001b[0;31m \u001b[0mmail\u001b[0m\u001b[0;34m(\u001b[0m\u001b[0musuario\u001b[0m\u001b[0;34m,\u001b[0m\u001b[0mtexto\u001b[0m\u001b[0;34m)\u001b[0m\u001b[0;34m\u001b[0m\u001b[0;34m\u001b[0m\u001b[0m\n\u001b[0m",
      "\u001b[0;32m~/Desktop/Ironhack/Proyecto-Final/proyecto_final/src/track_function.py\u001b[0m in \u001b[0;36mmail\u001b[0;34m(usuario, texto)\u001b[0m\n\u001b[1;32m     54\u001b[0m     \u001b[0;31m# Create the email head (sender, receiver, and subject)\u001b[0m\u001b[0;34m\u001b[0m\u001b[0;34m\u001b[0m\u001b[0;34m\u001b[0m\u001b[0m\n\u001b[1;32m     55\u001b[0m \u001b[0;34m\u001b[0m\u001b[0m\n\u001b[0;32m---> 56\u001b[0;31m     \u001b[0memail\u001b[0m \u001b[0;34m=\u001b[0m \u001b[0mMIMEMultipart\u001b[0m\u001b[0;34m(\u001b[0m\u001b[0;34m)\u001b[0m\u001b[0;34m\u001b[0m\u001b[0;34m\u001b[0m\u001b[0m\n\u001b[0m\u001b[1;32m     57\u001b[0m     \u001b[0memail\u001b[0m\u001b[0;34m[\u001b[0m\u001b[0;34m\"From\"\u001b[0m\u001b[0;34m]\u001b[0m \u001b[0;34m=\u001b[0m \u001b[0msender_email\u001b[0m\u001b[0;34m\u001b[0m\u001b[0;34m\u001b[0m\u001b[0m\n\u001b[1;32m     58\u001b[0m     \u001b[0memail\u001b[0m\u001b[0;34m[\u001b[0m\u001b[0;34m\"To\"\u001b[0m\u001b[0;34m]\u001b[0m \u001b[0;34m=\u001b[0m \u001b[0mreceiver_email\u001b[0m\u001b[0;34m\u001b[0m\u001b[0;34m\u001b[0m\u001b[0m\n",
      "\u001b[0;31mNameError\u001b[0m: name 'MIMEMultipart' is not defined"
     ]
    }
   ],
   "source": [
    "mail(usuario,texto)"
   ]
  },
  {
   "cell_type": "code",
   "execution_count": 12,
   "id": "78e21b67",
   "metadata": {},
   "outputs": [
    {
     "data": {
      "text/plain": [
       "Pipeline(steps=[('tfidf',\n",
       "                 TfidfVectorizer(tokenizer=<function text_data_cleaning at 0x7fd11ed3b940>)),\n",
       "                ('clf', LinearSVC())])"
      ]
     },
     "execution_count": 12,
     "metadata": {},
     "output_type": "execute_result"
    }
   ],
   "source": [
    "modelo()"
   ]
  },
  {
   "cell_type": "code",
   "execution_count": null,
   "id": "2b1b44fd",
   "metadata": {},
   "outputs": [],
   "source": []
  }
 ],
 "metadata": {
  "kernelspec": {
   "display_name": "clase",
   "language": "python",
   "name": "clase"
  },
  "language_info": {
   "codemirror_mode": {
    "name": "ipython",
    "version": 3
   },
   "file_extension": ".py",
   "mimetype": "text/x-python",
   "name": "python",
   "nbconvert_exporter": "python",
   "pygments_lexer": "ipython3",
   "version": "3.8.8"
  }
 },
 "nbformat": 4,
 "nbformat_minor": 5
}
