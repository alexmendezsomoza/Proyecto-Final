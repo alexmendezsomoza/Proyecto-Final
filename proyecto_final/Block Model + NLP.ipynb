{
 "cells": [
  {
   "cell_type": "markdown",
   "id": "e38bebac",
   "metadata": {},
   "source": [
    "# Modelo NLP - Twitter"
   ]
  },
  {
   "cell_type": "code",
   "execution_count": 1,
   "id": "980d9312",
   "metadata": {},
   "outputs": [],
   "source": [
    "import pandas as pd\n",
    "from spacy import displacy\n",
    "import spacy\n",
    "import re\n",
    "import mysql.connector as conn"
   ]
  },
  {
   "cell_type": "code",
   "execution_count": 2,
   "id": "ae8b0f16",
   "metadata": {},
   "outputs": [],
   "source": [
    "from spacy.lang.es.stop_words import STOP_WORDS\n",
    "\n",
    "#Crear pdf report\n",
    "\n",
    "from io import BytesIO\n",
    "from reportlab.pdfgen import canvas\n",
    "from django.http import HttpResponse\n",
    "\n",
    "#Automatizar email\n",
    "\n",
    "import email, smtplib, ssl\n",
    "from email import encoders\n",
    "from email.mime.base import MIMEBase\n",
    "from email.mime.multipart import MIMEMultipart\n",
    "from email.mime.text import MIMEText"
   ]
  },
  {
   "cell_type": "markdown",
   "id": "01a57cc6",
   "metadata": {},
   "source": [
    "# Cargo Modelo NLP"
   ]
  },
  {
   "cell_type": "code",
   "execution_count": 3,
   "id": "560237a3",
   "metadata": {},
   "outputs": [],
   "source": [
    "import pickle\n",
    "import sys\n",
    "sys.path.append('../')\n",
    "\n",
    "from src.track_function import text_data_cleaning"
   ]
  },
  {
   "cell_type": "code",
   "execution_count": null,
   "id": "7e042344",
   "metadata": {},
   "outputs": [],
   "source": [
    "filename = 'modeloNLP_Twitter'"
   ]
  },
  {
   "cell_type": "code",
   "execution_count": null,
   "id": "1fd54d71",
   "metadata": {},
   "outputs": [],
   "source": [
    "modelo = pickle.load(open(filename, 'rb'))"
   ]
  },
  {
   "cell_type": "code",
   "execution_count": null,
   "id": "b9ba4911",
   "metadata": {},
   "outputs": [],
   "source": [
    "modelo.predict(['Estoy hasta los huevos'])"
   ]
  },
  {
   "cell_type": "code",
   "execution_count": null,
   "id": "17a764fc",
   "metadata": {},
   "outputs": [],
   "source": []
  },
  {
   "cell_type": "markdown",
   "id": "07b64f83",
   "metadata": {},
   "source": [
    "# Cargo Funciones"
   ]
  },
  {
   "cell_type": "code",
   "execution_count": 4,
   "id": "c9bcb5bc",
   "metadata": {},
   "outputs": [],
   "source": [
    "import sys\n",
    "sys.path.append('../')\n",
    "\n",
    "from src.track_function import *"
   ]
  },
  {
   "cell_type": "markdown",
   "id": "9b06cbd5",
   "metadata": {},
   "source": [
    "## Creo base de datos necesarias"
   ]
  },
  {
   "cell_type": "markdown",
   "id": "542a517c",
   "metadata": {},
   "source": [
    "### Creando SQL Database"
   ]
  },
  {
   "cell_type": "code",
   "execution_count": null,
   "id": "3e50c898",
   "metadata": {},
   "outputs": [],
   "source": [
    "db=conn.connect(host='localhost', user='root', passwd='123456', database='hate_blocker')\n",
    "\n",
    "cursor=db.cursor()"
   ]
  },
  {
   "cell_type": "markdown",
   "id": "56dead7c",
   "metadata": {},
   "source": [
    "cursor.execute('drop table if exists hate_blocker')"
   ]
  },
  {
   "cell_type": "markdown",
   "id": "8dd5c0c6",
   "metadata": {},
   "source": [
    "### Creando Tabla: Train Model\n",
    "\n",
    "El objetivo de este tabla es guardar los siguientes tweets:\n",
    "\n",
    "- Tweets correctos identificados como sentiment 1.\n",
    "\n",
    "- Tweets incorrectos identificados como sentiment 0.\n",
    "\n",
    "- Tweets correctos identificados como sentiment 0."
   ]
  },
  {
   "cell_type": "markdown",
   "id": "537d8140",
   "metadata": {},
   "source": [
    "cursor.execute('drop table if exists train_model')"
   ]
  },
  {
   "cell_type": "code",
   "execution_count": null,
   "id": "3cb11d55",
   "metadata": {},
   "outputs": [],
   "source": [
    "tabla= '''\n",
    "        create table train_model(\n",
    "            \n",
    "           tweet_id bigint ,      \n",
    "           user bigint,\n",
    "           content varchar(500),\n",
    "           date varchar(500),\n",
    "           lang varchar(500),\n",
    "           sentiment bigint\n",
    "            \n",
    "        );\n",
    "'''\n",
    "\n",
    "cursor.execute (tabla)"
   ]
  },
  {
   "cell_type": "markdown",
   "id": "81dd2ea9",
   "metadata": {},
   "source": [
    "### Creando Tabla: Listado Bullies"
   ]
  },
  {
   "cell_type": "markdown",
   "id": "fb4714a9",
   "metadata": {},
   "source": [
    "cursor.execute('drop table if exists listado_bullies')"
   ]
  },
  {
   "cell_type": "code",
   "execution_count": null,
   "id": "5175d00d",
   "metadata": {},
   "outputs": [],
   "source": [
    "tabla= '''\n",
    "        create table listado_bullies(\n",
    "            \n",
    "           \n",
    "           tweet_id bigint,\n",
    "           date varchar(500),      \n",
    "           account varchar(500),\n",
    "           tweet_text varchar(500),\n",
    "           URL_account varchar(500),\n",
    "           URL_tweet varchar(500)\n",
    "            \n",
    "        );\n",
    "'''\n",
    "\n",
    "\n",
    "cursor.execute (tabla)"
   ]
  },
  {
   "cell_type": "markdown",
   "id": "ef94973c",
   "metadata": {},
   "source": [
    "# Funcion PDF"
   ]
  },
  {
   "cell_type": "code",
   "execution_count": null,
   "id": "20934850",
   "metadata": {},
   "outputs": [],
   "source": [
    "def drawMyRuler (pdf): #Plantilla\n",
    "    \n",
    "    pdf.drawString(100, 810, 'x100')\n",
    "    pdf.drawString(200, 810, 'x200')\n",
    "    pdf.drawString(300, 810, 'x300')\n",
    "    pdf.drawString(400, 810, 'x400')\n",
    "    pdf.drawString(500, 810, 'x500')\n",
    "    \n",
    "    pdf.drawString(10, 100, 'y100')\n",
    "    pdf.drawString(10, 200, 'y200')\n",
    "    pdf.drawString(10, 300, 'y300')\n",
    "    pdf.drawString(10, 400, 'y400')\n",
    "    pdf.drawString(10, 500, 'y500')\n",
    "    pdf.drawString(10, 600, 'y600')\n",
    "    pdf.drawString(10, 700, 'y700')\n",
    "    pdf.drawString(10, 800, 'y800')"
   ]
  },
  {
   "cell_type": "markdown",
   "id": "214a60a9",
   "metadata": {},
   "source": [
    "# Funcion PDF"
   ]
  },
  {
   "cell_type": "code",
   "execution_count": null,
   "id": "effe24f8",
   "metadata": {},
   "outputs": [],
   "source": [
    "def pdf(usuario, texto):\n",
    "            \n",
    "        #name and create pdf\n",
    "\n",
    "        c = canvas.Canvas('hate_.pdf')\n",
    "        \n",
    "        #set background color (this color is yellow I do not recommend)\n",
    "\n",
    "        c.setFillColorRGB(0,0,0)\n",
    "\n",
    "        #Select font and font size\n",
    "\n",
    "        c.setFont('Helvetica', 12)\n",
    "\n",
    "        #create two text strings and set there position on the page\n",
    "\n",
    "        c.drawString(5, 660, 'Hemos bloqueado la cuenta' + usuario + 'por el siguiente tweet:' + texto)\n",
    "\n",
    "        #show page and save it\n",
    "\n",
    "        c.showPage()\n",
    "        c.save()\n",
    "          "
   ]
  },
  {
   "cell_type": "markdown",
   "id": "d9622957",
   "metadata": {},
   "source": [
    "# Función-Modelo"
   ]
  },
  {
   "cell_type": "code",
   "execution_count": null,
   "id": "50a268f8",
   "metadata": {},
   "outputs": [],
   "source": [
    "import tweepy"
   ]
  },
  {
   "cell_type": "markdown",
   "id": "30c15dfa",
   "metadata": {},
   "source": [
    "## Funcion de autentificacion"
   ]
  },
  {
   "cell_type": "code",
   "execution_count": null,
   "id": "b236b7f4",
   "metadata": {},
   "outputs": [],
   "source": [
    "# 4 authentication chains\n",
    "\n",
    "consumer_key='Qbxaw0OrPeZSFljKEp6SHI19M'\n",
    "consumer_secret='kva4UfB6cK2Z6P70MGV8LAM0MMOu3SAHjuUl5t7bWxpegkCHGl'\n",
    "access_key='902474996-eLIpuPP1uqYZoTWtprZuiL2FmehUURAZHT8ZBReU'\n",
    "access_secret='CkVPZlMz5Lk4EMYDZzmNM2zJQHGE0ze6CA0auHqnYtEhU'\n",
    "\n",
    "# authorize twitter, initialize tweepy\n",
    "\n",
    "auth = tweepy.OAuthHandler(consumer_key, consumer_secret)\n",
    "auth.set_access_token(access_key, access_secret)\n",
    "api = tweepy.API(auth, wait_on_rate_limit = True, wait_on_rate_limit_notify = True)"
   ]
  },
  {
   "cell_type": "markdown",
   "id": "8160b3cd",
   "metadata": {},
   "source": [
    "\n",
    "def insert(sentiment):\n",
    "    \n",
    "    insert_query=\"insert into {} ({}) values {};\"\\\n",
    "                        .format('train_model', ','.join(['tweet_id', 'user', 'content', 'date', 'lang', 'sentiment']), tuple([tweet.id_str, i.id,tweet.text, str(tweet.created_at), 'es', sentiment]))\n",
    "\n",
    "\n",
    "    cursor.execute(insert_query)\n",
    "\n",
    "    db.commit()\n",
    "\n",
    "    return"
   ]
  },
  {
   "cell_type": "markdown",
   "id": "d9f7fbd2",
   "metadata": {},
   "source": [
    "def bullies_to_sql():\n",
    "    \n",
    "    insert_query=\"insert into {} ({}) values {};\"\\\n",
    "                        .format('listado_bullies', ','.join(['tweet_id','date', 'account', 'tweet_text', 'URL_account','URL_tweet']), \n",
    "                                tuple([tweet.id_str, str(tweet.created_at), i.screen_name,tweet.text, 'https://twitter.com/' + i.screen_name, 'https://twitter.com/' + i.screen_name + '/status/' + tweet.id_str]))\n",
    "\n",
    "\n",
    "    cursor.execute(insert_query)\n",
    "\n",
    "    db.commit()\n",
    "\n",
    "    return"
   ]
  },
  {
   "cell_type": "code",
   "execution_count": null,
   "id": "ecc4071a",
   "metadata": {},
   "outputs": [],
   "source": [
    "def valoracion_block():\n",
    "\n",
    "    users = []\n",
    "    users_url = []\n",
    "    tweets_url = []\n",
    "    usuario = []\n",
    "    texto = []\n",
    "\n",
    "\n",
    "    mentions = api.mentions_timeline(tweet_mode= 'extented')\n",
    "\n",
    "    for tweet in mentions: # Entran los tweets\n",
    "\n",
    "\n",
    "        users.append(tweet.user)\n",
    "\n",
    "        for i in users:\n",
    "\n",
    "            print(' ')\n",
    "\n",
    "        valoracion = clf.predict([tweet.text]) \n",
    "\n",
    "        if valoracion == 1: # Es positivo el tweet?\n",
    "\n",
    "            print ('No bloqueo al usuario. Guardado para entrenar.')\n",
    "\n",
    "            print (' ')\n",
    "\n",
    "            insert(1) # Mete en sql los tweets con etiqueta 1 para entrenar.\n",
    "\n",
    "\n",
    "        elif valoracion == 0: # Es negativo el tweet?\n",
    "\n",
    "            print('Voy a bloquear a ', tweet.user.screen_name, 'por el siguiente tweet:', tweet.text )\n",
    "\n",
    "            verif = input ('¿Deseas bloquear a este usuario?') # Estas seguro que quieres bloquear?\n",
    "\n",
    "            print (verif)\n",
    "\n",
    "            if verif == 'Si': # Si\n",
    "\n",
    "                api.create_block(tweet.user.screen_name)\n",
    "\n",
    "                insert(0) # Metelo en sql los tweets con etiqueta 0 para entrenar.\n",
    "\n",
    "                bullies_to_sql() # Metelo en el listado de bullies para enseñarlo al cliente.\n",
    "\n",
    "                print('Bloqueado. Guardado para entrenar.')\n",
    "\n",
    "                print('Guardado para enviar a cliente. ')\n",
    "\n",
    "                usuario.append(i.name)\n",
    "\n",
    "                texto.append(tweet.text)\n",
    "\n",
    "                #pdf(usuario, texto)\n",
    "\n",
    "\n",
    "\n",
    "            elif verif == 'No': # No\n",
    "\n",
    "                insert(1) # Mete en sql los tweets con etiqueta 1 para entrenar.\n",
    "\n",
    "                print ('Usuario no bloqueado. Guardado para entrenar')\n",
    "\n",
    "            elif verif == 'Para': # Para\n",
    "\n",
    "                break"
   ]
  },
  {
   "cell_type": "code",
   "execution_count": null,
   "id": "7cd0e4ee",
   "metadata": {},
   "outputs": [],
   "source": [
    "def mail():\n",
    "    \n",
    "    # assign key email aspects to variables for easier future editing\n",
    "    subject = \"Hater Report\"\n",
    "    body = 'Hola, te envío el resumen de los usuarios bloqueados: \\n'\n",
    "    for i in range (len(usuario)):\n",
    "\n",
    "        body += f\"- He bloqueado al usuario *{usuario[i]}* por el tweet: {texto[i]} \\n\" \n",
    "\n",
    "    sender_email = \"ironhack.trabajo.final@gmail.com\"\n",
    "    receiver_email = \"alexmendezsomoza@gmail.com\"\n",
    "    #file = \"automate_report.pdf\" # in the same directory as script\n",
    "    password = \"Ironhack2021\"\n",
    "\n",
    "    # Create the email head (sender, receiver, and subject)\n",
    "\n",
    "    email = MIMEMultipart()\n",
    "    email[\"From\"] = sender_email\n",
    "    email[\"To\"] = receiver_email \n",
    "    email[\"Subject\"] = subject\n",
    "\n",
    "    # Add body and attachment to email\n",
    "\n",
    "    email.attach(MIMEText(body, \"plain\"))\n",
    "\n",
    "    #attach_file = open(file, \"rb\") # open the file\n",
    "    #report = MIMEBase(\"application\", \"octate-stream\")\n",
    "    #report.set_payload((attach_file).read())\n",
    "    #encoders.encode_base64(report)\n",
    "\n",
    "    #add report header with the file name\n",
    "\n",
    "    #report.add_header(\"Content-Decomposition\", \"attachment\", filename = file)\n",
    "    #email.attach(report)\n",
    "\n",
    "    #Create SMTP session for sending the mail\n",
    "\n",
    "    session = smtplib.SMTP('smtp.gmail.com', 587) #use gmail with port\n",
    "    session.starttls() #enable security\n",
    "    session.login(sender_email, password) #login with mail_id and password\n",
    "    text = email.as_string()\n",
    "    session.sendmail(sender_email, receiver_email, text)\n",
    "    session.quit()\n",
    "    \n",
    "    return('Mail Sent')"
   ]
  },
  {
   "cell_type": "code",
   "execution_count": null,
   "id": "2ea5e80c",
   "metadata": {},
   "outputs": [],
   "source": []
  },
  {
   "cell_type": "code",
   "execution_count": null,
   "id": "1beb23b8",
   "metadata": {},
   "outputs": [],
   "source": []
  },
  {
   "cell_type": "code",
   "execution_count": null,
   "id": "fde7e869",
   "metadata": {},
   "outputs": [],
   "source": [
    "import sys\n",
    "sys.path.append('../')\n",
    "\n",
    "from src.track_function import text_data_cleaning"
   ]
  },
  {
   "cell_type": "code",
   "execution_count": null,
   "id": "5b1e5c38",
   "metadata": {},
   "outputs": [],
   "source": [
    "text_data_cleaning('Estamos bailando en la fiesta. Alguien viene...')"
   ]
  },
  {
   "cell_type": "code",
   "execution_count": 5,
   "id": "31842127",
   "metadata": {},
   "outputs": [
    {
     "name": "stdout",
     "output_type": "stream",
     "text": [
      " \n",
      "Voy a bloquear a  FominayaG por el siguiente tweet: @ironhackerMAD limpia la mierda del ordenador\n",
      "¿Deseas bloquear a este usuario?Si\n",
      "Si\n",
      "Bloqueado. Guardado para entrenar.\n",
      "Guardado para enviar a cliente. \n",
      " \n",
      " \n",
      "Voy a bloquear a  FominayaG por el siguiente tweet: @ironhackerMAD Muy buen trabajo con el proyecto!!! TOOOOOPPP!!!\n",
      "¿Deseas bloquear a este usuario?Para\n",
      "Para\n"
     ]
    },
    {
     "data": {
      "text/plain": [
       "(['Sonia G. Fominaya'], ['@ironhackerMAD limpia la mierda del ordenador'])"
      ]
     },
     "execution_count": 5,
     "metadata": {},
     "output_type": "execute_result"
    }
   ],
   "source": [
    "valoracion_block()"
   ]
  },
  {
   "cell_type": "code",
   "execution_count": 6,
   "id": "e87b1983",
   "metadata": {},
   "outputs": [
    {
     "name": "stdout",
     "output_type": "stream",
     "text": [
      " \n",
      "Voy a bloquear a  javirando por el siguiente tweet: @xinxinricardo Vamooooo\n",
      "¿Deseas bloquear a este usuario?Si\n",
      "Si\n",
      "Bloqueado. Guardado para entrenar.\n",
      "Guardado para enviar a cliente. \n",
      " \n",
      " \n",
      "Voy a bloquear a  CreedMoreno por el siguiente tweet: @biwenger @xinxinricardo @CarlosLarios96\n",
      "¿Deseas bloquear a este usuario?Si\n",
      "Si\n",
      "Bloqueado. Guardado para entrenar.\n",
      "Guardado para enviar a cliente. \n",
      " \n",
      " \n",
      " \n",
      "Voy a bloquear a  CreedMoreno por el siguiente tweet: @xinxinricardo @PabloIglesias @PabloIglesias qsqtcqeup\n",
      "¿Deseas bloquear a este usuario?Para\n",
      "Para\n"
     ]
    }
   ],
   "source": [
    "usuario, texto = valoracion_block()"
   ]
  },
  {
   "cell_type": "code",
   "execution_count": 7,
   "id": "890686e5",
   "metadata": {},
   "outputs": [
    {
     "data": {
      "text/plain": [
       "'Mail Sent'"
      ]
     },
     "execution_count": 7,
     "metadata": {},
     "output_type": "execute_result"
    }
   ],
   "source": [
    "mail(usuario,texto)"
   ]
  },
  {
   "cell_type": "code",
   "execution_count": null,
   "id": "5593a0d7",
   "metadata": {},
   "outputs": [],
   "source": []
  }
 ],
 "metadata": {
  "kernelspec": {
   "display_name": "clase",
   "language": "python",
   "name": "clase"
  },
  "language_info": {
   "codemirror_mode": {
    "name": "ipython",
    "version": 3
   },
   "file_extension": ".py",
   "mimetype": "text/x-python",
   "name": "python",
   "nbconvert_exporter": "python",
   "pygments_lexer": "ipython3",
   "version": "3.8.8"
  }
 },
 "nbformat": 4,
 "nbformat_minor": 5
}
