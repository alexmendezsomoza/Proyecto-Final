{
 "cells": [
  {
   "cell_type": "markdown",
   "id": "e38bebac",
   "metadata": {},
   "source": [
    "# Modelo NLP - Twitter"
   ]
  },
  {
   "cell_type": "code",
   "execution_count": null,
   "id": "25f40ef2",
   "metadata": {},
   "outputs": [],
   "source": [
    "# Installs\n",
    "#!pip3 install scikit-learn\n",
    "#!pip3 install -U spacy\n",
    "#!python3 -m spacy download es\n",
    "#!python3 -m spacy download es_core_news_sm"
   ]
  },
  {
   "cell_type": "code",
   "execution_count": null,
   "id": "0fb4bcff",
   "metadata": {},
   "outputs": [],
   "source": [
    "#!pip install spacy"
   ]
  },
  {
   "cell_type": "code",
   "execution_count": null,
   "id": "3ebfb9b2",
   "metadata": {},
   "outputs": [],
   "source": [
    "#!pip install -U pip setuptools wheel\n",
    "#!pip install -U spacy\n",
    "#!python -m spacy download es_core_news_sm"
   ]
  },
  {
   "cell_type": "code",
   "execution_count": 1,
   "id": "980d9312",
   "metadata": {},
   "outputs": [],
   "source": [
    "import pandas as pd\n",
    "from spacy import displacy\n",
    "import spacy\n",
    "import re\n",
    "import mysql.connector as conn"
   ]
  },
  {
   "cell_type": "code",
   "execution_count": 2,
   "id": "ae8b0f16",
   "metadata": {},
   "outputs": [],
   "source": [
    "from spacy.lang.es.stop_words import STOP_WORDS\n",
    "\n",
    "#Crear pdf report\n",
    "\n",
    "from io import BytesIO\n",
    "from reportlab.pdfgen import canvas\n",
    "from django.http import HttpResponse\n",
    "\n",
    "#Automatizar email\n",
    "\n",
    "import email, smtplib, ssl\n",
    "from email import encoders\n",
    "from email.mime.base import MIMEBase\n",
    "from email.mime.multipart import MIMEMultipart\n",
    "from email.mime.text import MIMEText"
   ]
  },
  {
   "cell_type": "code",
   "execution_count": 20,
   "id": "b397bad0",
   "metadata": {},
   "outputs": [],
   "source": [
    "import spacy\n",
    "from spacy import displacy"
   ]
  },
  {
   "cell_type": "markdown",
   "id": "f320f92b",
   "metadata": {},
   "source": [
    "# Cargo Modelo NLP"
   ]
  },
  {
   "cell_type": "code",
   "execution_count": 64,
   "id": "ebd8e323",
   "metadata": {},
   "outputs": [],
   "source": [
    "import pickle"
   ]
  },
  {
   "cell_type": "code",
   "execution_count": 65,
   "id": "9a58416a",
   "metadata": {},
   "outputs": [],
   "source": [
    "clf = pickle.load(open(filename, 'rb'))"
   ]
  },
  {
   "cell_type": "code",
   "execution_count": 67,
   "id": "1c263e30",
   "metadata": {},
   "outputs": [
    {
     "data": {
      "text/plain": [
       "array([1])"
      ]
     },
     "execution_count": 67,
     "metadata": {},
     "output_type": "execute_result"
    }
   ],
   "source": [
    "clf.predict(['Estas muy guapa'])"
   ]
  },
  {
   "cell_type": "markdown",
   "id": "9b06cbd5",
   "metadata": {},
   "source": [
    "## Creo base de datos necesarias"
   ]
  },
  {
   "cell_type": "markdown",
   "id": "542a517c",
   "metadata": {},
   "source": [
    "### Creando SQL Database"
   ]
  },
  {
   "cell_type": "code",
   "execution_count": 68,
   "id": "3e50c898",
   "metadata": {},
   "outputs": [],
   "source": [
    "db=conn.connect(host='localhost', user='root', passwd='123456', database='hate_blocker')\n",
    "\n",
    "cursor=db.cursor()"
   ]
  },
  {
   "cell_type": "markdown",
   "id": "56dead7c",
   "metadata": {},
   "source": [
    "cursor.execute('drop table if exists hate_blocker')"
   ]
  },
  {
   "cell_type": "markdown",
   "id": "8dd5c0c6",
   "metadata": {},
   "source": [
    "### Creando Tabla: Train Model\n",
    "\n",
    "El objetivo de este tabla es guardar los siguientes tweets:\n",
    "\n",
    "- Tweets correctos identificados como sentiment 1.\n",
    "\n",
    "- Tweets incorrectos identificados como sentiment 0.\n",
    "\n",
    "- Tweets correctos identificados como sentiment 0."
   ]
  },
  {
   "cell_type": "markdown",
   "id": "ba07e83a",
   "metadata": {},
   "source": [
    "cursor.execute('drop table if exists train_model')"
   ]
  },
  {
   "cell_type": "code",
   "execution_count": null,
   "id": "3cb11d55",
   "metadata": {},
   "outputs": [],
   "source": [
    "tabla= '''\n",
    "        create table train_model(\n",
    "            \n",
    "           tweet_id bigint ,      \n",
    "           user bigint,\n",
    "           content varchar(500),\n",
    "           date varchar(500),\n",
    "           lang varchar(500),\n",
    "           sentiment bigint\n",
    "            \n",
    "        );\n",
    "'''\n",
    "\n",
    "cursor.execute (tabla)"
   ]
  },
  {
   "cell_type": "markdown",
   "id": "34fb4a0f",
   "metadata": {},
   "source": [
    "### Creando Tabla: Listado Bullies"
   ]
  },
  {
   "cell_type": "markdown",
   "id": "e8f2eaf5",
   "metadata": {},
   "source": [
    "cursor.execute('drop table if exists listado_bullies')"
   ]
  },
  {
   "cell_type": "code",
   "execution_count": null,
   "id": "73b1232a",
   "metadata": {},
   "outputs": [],
   "source": [
    "tabla= '''\n",
    "        create table listado_bullies(\n",
    "            \n",
    "           \n",
    "           tweet_id bigint,\n",
    "           date varchar(500),      \n",
    "           account varchar(500),\n",
    "           tweet_text varchar(500),\n",
    "           URL_account varchar(500),\n",
    "           URL_tweet varchar(500)\n",
    "            \n",
    "        );\n",
    "'''\n",
    "\n",
    "\n",
    "cursor.execute (tabla)"
   ]
  },
  {
   "cell_type": "markdown",
   "id": "12df883e",
   "metadata": {},
   "source": [
    "# Funcion PDF"
   ]
  },
  {
   "cell_type": "code",
   "execution_count": 46,
   "id": "04c891ea",
   "metadata": {},
   "outputs": [],
   "source": [
    "def drawMyRuler (pdf): #Plantilla\n",
    "    \n",
    "    pdf.drawString(100, 810, 'x100')\n",
    "    pdf.drawString(200, 810, 'x200')\n",
    "    pdf.drawString(300, 810, 'x300')\n",
    "    pdf.drawString(400, 810, 'x400')\n",
    "    pdf.drawString(500, 810, 'x500')\n",
    "    \n",
    "    pdf.drawString(10, 100, 'y100')\n",
    "    pdf.drawString(10, 200, 'y200')\n",
    "    pdf.drawString(10, 300, 'y300')\n",
    "    pdf.drawString(10, 400, 'y400')\n",
    "    pdf.drawString(10, 500, 'y500')\n",
    "    pdf.drawString(10, 600, 'y600')\n",
    "    pdf.drawString(10, 700, 'y700')\n",
    "    pdf.drawString(10, 800, 'y800')"
   ]
  },
  {
   "cell_type": "markdown",
   "id": "2812c72c",
   "metadata": {},
   "source": [
    "# Funcion PDF"
   ]
  },
  {
   "cell_type": "code",
   "execution_count": 47,
   "id": "3cbd2f4b",
   "metadata": {},
   "outputs": [],
   "source": [
    "def pdf(usuario, texto):\n",
    "            \n",
    "        #name and create pdf\n",
    "\n",
    "        c = canvas.Canvas('hate_.pdf')\n",
    "        \n",
    "        #set background color (this color is yellow I do not recommend)\n",
    "\n",
    "        c.setFillColorRGB(0,0,0)\n",
    "\n",
    "        #Select font and font size\n",
    "\n",
    "        c.setFont('Helvetica', 12)\n",
    "\n",
    "        #create two text strings and set there position on the page\n",
    "\n",
    "        c.drawString(5, 660, 'Hemos bloqueado la cuenta' + usuario + 'por el siguiente tweet:' + texto)\n",
    "\n",
    "        #show page and save it\n",
    "\n",
    "        c.showPage()\n",
    "        c.save()\n",
    "          "
   ]
  },
  {
   "cell_type": "markdown",
   "id": "d9622957",
   "metadata": {},
   "source": [
    "# Función-Modelo"
   ]
  },
  {
   "cell_type": "code",
   "execution_count": 59,
   "id": "50a268f8",
   "metadata": {},
   "outputs": [],
   "source": [
    "import tweepy"
   ]
  },
  {
   "cell_type": "code",
   "execution_count": 60,
   "id": "b236b7f4",
   "metadata": {},
   "outputs": [],
   "source": [
    "# 4 authentication chains\n",
    "\n",
    "consumer_key='Qbxaw0OrPeZSFljKEp6SHI19M'\n",
    "consumer_secret='kva4UfB6cK2Z6P70MGV8LAM0MMOu3SAHjuUl5t7bWxpegkCHGl'\n",
    "access_key='902474996-eLIpuPP1uqYZoTWtprZuiL2FmehUURAZHT8ZBReU'\n",
    "access_secret='CkVPZlMz5Lk4EMYDZzmNM2zJQHGE0ze6CA0auHqnYtEhU'\n",
    "\n",
    "# authorize twitter, initialize tweepy\n",
    "\n",
    "auth = tweepy.OAuthHandler(consumer_key, consumer_secret)\n",
    "auth.set_access_token(access_key, access_secret)\n",
    "api = tweepy.API(auth, wait_on_rate_limit = True, wait_on_rate_limit_notify = True)"
   ]
  },
  {
   "cell_type": "code",
   "execution_count": 61,
   "id": "5247714f",
   "metadata": {},
   "outputs": [],
   "source": [
    "\n",
    "def insert(sentiment):\n",
    "    \n",
    "    insert_query=\"insert into {} ({}) values {};\"\\\n",
    "                        .format('train_model', ','.join(['tweet_id', 'user', 'content', 'date', 'lang', 'sentiment']), tuple([tweet.id_str, i.id,tweet.text, str(tweet.created_at), 'es', sentiment]))\n",
    "\n",
    "\n",
    "    cursor.execute(insert_query)\n",
    "\n",
    "    db.commit()\n",
    "\n",
    "    return"
   ]
  },
  {
   "cell_type": "code",
   "execution_count": 62,
   "id": "574a1b39",
   "metadata": {},
   "outputs": [],
   "source": [
    "def bullies_to_sql():\n",
    "    \n",
    "    insert_query=\"insert into {} ({}) values {};\"\\\n",
    "                        .format('listado_bullies', ','.join(['tweet_id','date', 'account', 'tweet_text', 'URL_account','URL_tweet']), \n",
    "                                tuple([tweet.id_str, str(tweet.created_at), i.screen_name,tweet.text, 'https://twitter.com/' + i.screen_name, 'https://twitter.com/' + i.screen_name + '/status/' + tweet.id_str]))\n",
    "\n",
    "\n",
    "    cursor.execute(insert_query)\n",
    "\n",
    "    db.commit()\n",
    "\n",
    "    return"
   ]
  },
  {
   "cell_type": "code",
   "execution_count": 69,
   "id": "66fe8693",
   "metadata": {},
   "outputs": [
    {
     "name": "stdout",
     "output_type": "stream",
     "text": [
      " \n",
      "Voy a bloquear a  CreedMoreno por el siguiente tweet: @biwenger @xinxinricardo @CarlosLarios96\n"
     ]
    },
    {
     "ename": "KeyboardInterrupt",
     "evalue": "Interrupted by user",
     "output_type": "error",
     "traceback": [
      "\u001b[0;31m---------------------------------------------------------------------------\u001b[0m",
      "\u001b[0;31mKeyboardInterrupt\u001b[0m                         Traceback (most recent call last)",
      "\u001b[0;32m<ipython-input-69-809aeb2c5286>\u001b[0m in \u001b[0;36m<module>\u001b[0;34m\u001b[0m\n\u001b[1;32m     33\u001b[0m         \u001b[0mprint\u001b[0m\u001b[0;34m(\u001b[0m\u001b[0;34m'Voy a bloquear a '\u001b[0m\u001b[0;34m,\u001b[0m \u001b[0mtweet\u001b[0m\u001b[0;34m.\u001b[0m\u001b[0muser\u001b[0m\u001b[0;34m.\u001b[0m\u001b[0mscreen_name\u001b[0m\u001b[0;34m,\u001b[0m \u001b[0;34m'por el siguiente tweet:'\u001b[0m\u001b[0;34m,\u001b[0m \u001b[0mtweet\u001b[0m\u001b[0;34m.\u001b[0m\u001b[0mtext\u001b[0m \u001b[0;34m)\u001b[0m\u001b[0;34m\u001b[0m\u001b[0;34m\u001b[0m\u001b[0m\n\u001b[1;32m     34\u001b[0m \u001b[0;34m\u001b[0m\u001b[0m\n\u001b[0;32m---> 35\u001b[0;31m         \u001b[0mverif\u001b[0m \u001b[0;34m=\u001b[0m \u001b[0minput\u001b[0m \u001b[0;34m(\u001b[0m\u001b[0;34m'¿Deseas bloquear a este usuario?'\u001b[0m\u001b[0;34m)\u001b[0m \u001b[0;31m# Estas seguro que quieres bloquear?\u001b[0m\u001b[0;34m\u001b[0m\u001b[0;34m\u001b[0m\u001b[0m\n\u001b[0m\u001b[1;32m     36\u001b[0m \u001b[0;34m\u001b[0m\u001b[0m\n\u001b[1;32m     37\u001b[0m         \u001b[0mprint\u001b[0m \u001b[0;34m(\u001b[0m\u001b[0mverif\u001b[0m\u001b[0;34m)\u001b[0m\u001b[0;34m\u001b[0m\u001b[0;34m\u001b[0m\u001b[0m\n",
      "\u001b[0;32m~/opt/miniconda3/envs/clase/lib/python3.8/site-packages/ipykernel/kernelbase.py\u001b[0m in \u001b[0;36mraw_input\u001b[0;34m(self, prompt)\u001b[0m\n\u001b[1;32m    846\u001b[0m                 \u001b[0;34m\"raw_input was called, but this frontend does not support input requests.\"\u001b[0m\u001b[0;34m\u001b[0m\u001b[0;34m\u001b[0m\u001b[0m\n\u001b[1;32m    847\u001b[0m             )\n\u001b[0;32m--> 848\u001b[0;31m         return self._input_request(str(prompt),\n\u001b[0m\u001b[1;32m    849\u001b[0m             \u001b[0mself\u001b[0m\u001b[0;34m.\u001b[0m\u001b[0m_parent_ident\u001b[0m\u001b[0;34m,\u001b[0m\u001b[0;34m\u001b[0m\u001b[0;34m\u001b[0m\u001b[0m\n\u001b[1;32m    850\u001b[0m             \u001b[0mself\u001b[0m\u001b[0;34m.\u001b[0m\u001b[0m_parent_header\u001b[0m\u001b[0;34m,\u001b[0m\u001b[0;34m\u001b[0m\u001b[0;34m\u001b[0m\u001b[0m\n",
      "\u001b[0;32m~/opt/miniconda3/envs/clase/lib/python3.8/site-packages/ipykernel/kernelbase.py\u001b[0m in \u001b[0;36m_input_request\u001b[0;34m(self, prompt, ident, parent, password)\u001b[0m\n\u001b[1;32m    890\u001b[0m             \u001b[0;32mexcept\u001b[0m \u001b[0mKeyboardInterrupt\u001b[0m\u001b[0;34m:\u001b[0m\u001b[0;34m\u001b[0m\u001b[0;34m\u001b[0m\u001b[0m\n\u001b[1;32m    891\u001b[0m                 \u001b[0;31m# re-raise KeyboardInterrupt, to truncate traceback\u001b[0m\u001b[0;34m\u001b[0m\u001b[0;34m\u001b[0m\u001b[0;34m\u001b[0m\u001b[0m\n\u001b[0;32m--> 892\u001b[0;31m                 \u001b[0;32mraise\u001b[0m \u001b[0mKeyboardInterrupt\u001b[0m\u001b[0;34m(\u001b[0m\u001b[0;34m\"Interrupted by user\"\u001b[0m\u001b[0;34m)\u001b[0m \u001b[0;32mfrom\u001b[0m \u001b[0;32mNone\u001b[0m\u001b[0;34m\u001b[0m\u001b[0;34m\u001b[0m\u001b[0m\n\u001b[0m\u001b[1;32m    893\u001b[0m             \u001b[0;32mexcept\u001b[0m \u001b[0mException\u001b[0m \u001b[0;32mas\u001b[0m \u001b[0me\u001b[0m\u001b[0;34m:\u001b[0m\u001b[0;34m\u001b[0m\u001b[0;34m\u001b[0m\u001b[0m\n\u001b[1;32m    894\u001b[0m                 \u001b[0mself\u001b[0m\u001b[0;34m.\u001b[0m\u001b[0mlog\u001b[0m\u001b[0;34m.\u001b[0m\u001b[0mwarning\u001b[0m\u001b[0;34m(\u001b[0m\u001b[0;34m\"Invalid Message:\"\u001b[0m\u001b[0;34m,\u001b[0m \u001b[0mexc_info\u001b[0m\u001b[0;34m=\u001b[0m\u001b[0;32mTrue\u001b[0m\u001b[0;34m)\u001b[0m\u001b[0;34m\u001b[0m\u001b[0;34m\u001b[0m\u001b[0m\n",
      "\u001b[0;31mKeyboardInterrupt\u001b[0m: Interrupted by user"
     ]
    }
   ],
   "source": [
    "users = []\n",
    "users_url = []\n",
    "tweets_url = []\n",
    "\n",
    "usuario = []\n",
    "texto = []\n",
    "\n",
    "\n",
    "mentions = api.mentions_timeline(tweet_mode= 'extented')\n",
    "\n",
    "for tweet in mentions: # Entran los tweets\n",
    "    \n",
    "    \n",
    "    users.append(tweet.user)\n",
    "\n",
    "    for i in users:\n",
    "        \n",
    "        print(' ')\n",
    "    \n",
    "    valoracion = clf.predict([tweet.text]) \n",
    "    \n",
    "    if valoracion == 1: # Es positivo el tweet?\n",
    "        \n",
    "        print ('No bloqueo al usuario. Guardado para entrenar.')\n",
    "        \n",
    "        print (' ')\n",
    "        \n",
    "        insert(1) # Mete en sql los tweets con etiqueta 1 para entrenar.\n",
    "\n",
    "        \n",
    "    elif valoracion == 0: # Es negativo el tweet?\n",
    "        \n",
    "        print('Voy a bloquear a ', tweet.user.screen_name, 'por el siguiente tweet:', tweet.text )\n",
    "               \n",
    "        verif = input ('¿Deseas bloquear a este usuario?') # Estas seguro que quieres bloquear?\n",
    "        \n",
    "        print (verif)\n",
    "        \n",
    "        if verif == 'Si': # Si\n",
    "            \n",
    "            api.create_block(tweet.user.screen_name)\n",
    "            \n",
    "            insert(0) # Metelo en sql los tweets con etiqueta 0 para entrenar.\n",
    "            \n",
    "            bullies_to_sql() # Metelo en el listado de bullies para enseñarlo al cliente.\n",
    "            \n",
    "            print('Bloqueado. Guardado para entrenar.')\n",
    "            \n",
    "            print('Guardado para enviar a cliente. ')\n",
    "            \n",
    "            usuario.append(i.name)\n",
    "            \n",
    "            texto.append(tweet.text)\n",
    "            \n",
    "            #pdf(usuario, texto)\n",
    "            \n",
    "            \n",
    "            \n",
    "        elif verif == 'No': # No\n",
    "            \n",
    "            insert(1) # Mete en sql los tweets con etiqueta 1 para entrenar.\n",
    "            \n",
    "            print ('Usuario no bloqueado. Guardado para entrenar')"
   ]
  },
  {
   "cell_type": "code",
   "execution_count": null,
   "id": "ec72d311",
   "metadata": {},
   "outputs": [],
   "source": []
  }
 ],
 "metadata": {
  "kernelspec": {
   "display_name": "clase",
   "language": "python",
   "name": "clase"
  },
  "language_info": {
   "codemirror_mode": {
    "name": "ipython",
    "version": 3
   },
   "file_extension": ".py",
   "mimetype": "text/x-python",
   "name": "python",
   "nbconvert_exporter": "python",
   "pygments_lexer": "ipython3",
   "version": "3.8.8"
  }
 },
 "nbformat": 4,
 "nbformat_minor": 5
}
