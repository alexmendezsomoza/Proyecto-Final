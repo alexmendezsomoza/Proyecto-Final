{
 "cells": [
  {
   "cell_type": "code",
   "execution_count": 1,
   "id": "0d90619e",
   "metadata": {},
   "outputs": [],
   "source": [
    "import json\n",
    "from pandas.io.json import json_normalize\n",
    "import pandas as pd\n",
    "import requests\n",
    "import tweepy\n",
    "import csv\n",
    "import mysql.connector as conn"
   ]
  },
  {
   "cell_type": "code",
   "execution_count": 2,
   "id": "91943e8f",
   "metadata": {},
   "outputs": [],
   "source": [
    "# 4 authentication chains\n",
    "\n",
    "consumer_key='jQTzrkE7vlZbg2ntJu4LESCZs'\n",
    "consumer_secret='AS4B8YLOWXMcrHjJyZ8stWcm9Cp2qh0rCdIjiWaPBaTTc22tnO'\n",
    "access_key='902474996-b1ltSFx5Y2EdJfi2s63pghsULdjLTF1lkW6oHBvj'\n",
    "access_secret='TrZr5nGmi2Q4RcAJJ3UHbwuWkAqjcNXOTfCHLm1eOzpnn'\n",
    "\n",
    "# authorize twitter, initialize tweepy\n",
    "\n",
    "auth = tweepy.OAuthHandler(consumer_key, consumer_secret)\n",
    "auth.set_access_token(access_key, access_secret)\n",
    "api = tweepy.API(auth, wait_on_rate_limit = True, wait_on_rate_limit_notify = True)"
   ]
  },
  {
   "cell_type": "code",
   "execution_count": 3,
   "id": "3a75cc4a",
   "metadata": {},
   "outputs": [],
   "source": [
    "# Checkear menciones\n",
    "\n",
    "def check_mentions():\n",
    "    \n",
    "    mentions = api.mentions_timeline(tweet_mode= 'extented')\n",
    "    \n",
    "    for tweet in mentions:\n",
    "        \n",
    "        print(tweet)"
   ]
  },
  {
   "cell_type": "code",
   "execution_count": null,
   "id": "142cbd4d",
   "metadata": {},
   "outputs": [],
   "source": []
  }
 ],
 "metadata": {
  "kernelspec": {
   "display_name": "clase",
   "language": "python",
   "name": "clase"
  },
  "language_info": {
   "codemirror_mode": {
    "name": "ipython",
    "version": 3
   },
   "file_extension": ".py",
   "mimetype": "text/x-python",
   "name": "python",
   "nbconvert_exporter": "python",
   "pygments_lexer": "ipython3",
   "version": "3.8.8"
  }
 },
 "nbformat": 4,
 "nbformat_minor": 5
}
