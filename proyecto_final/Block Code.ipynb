{
 "cells": [
  {
   "cell_type": "code",
   "execution_count": 49,
   "id": "a5c0892c",
   "metadata": {},
   "outputs": [],
   "source": [
    "import json\n",
    "from pandas.io.json import json_normalize\n",
    "import pandas as pd\n",
    "import requests\n",
    "import tweepy\n",
    "import csv\n",
    "import mysql.connector as conn\n",
    "import joblib\n",
    "import pandas as pd\n",
    "from spacy import displacy\n",
    "import spacy\n",
    "from spacy.lang.es.stop_words import STOP_WORDS\n",
    "import pickle"
   ]
  },
  {
   "cell_type": "markdown",
   "id": "1d6da586",
   "metadata": {},
   "source": [
    "# Modelo NLP"
   ]
  },
  {
   "cell_type": "code",
   "execution_count": 51,
   "id": "2a164f1d",
   "metadata": {},
   "outputs": [],
   "source": [
    "#importar librería de vectorización\n",
    "from sklearn.svm import LinearSVC"
   ]
  },
  {
   "cell_type": "code",
   "execution_count": 52,
   "id": "000fa146",
   "metadata": {},
   "outputs": [
    {
     "ename": "NameError",
     "evalue": "name 'TfidfVectorizer' is not defined",
     "output_type": "error",
     "traceback": [
      "\u001b[0;31m---------------------------------------------------------------------------\u001b[0m",
      "\u001b[0;31mNameError\u001b[0m                                 Traceback (most recent call last)",
      "\u001b[0;32m<ipython-input-52-f4c6690e13b9>\u001b[0m in \u001b[0;36m<module>\u001b[0;34m\u001b[0m\n\u001b[1;32m      1\u001b[0m \u001b[0;31m#Definir la función de tokenizado y crear el clasificador lineal\u001b[0m\u001b[0;34m\u001b[0m\u001b[0;34m\u001b[0m\u001b[0;34m\u001b[0m\u001b[0m\n\u001b[0;32m----> 2\u001b[0;31m \u001b[0mtfidf\u001b[0m \u001b[0;34m=\u001b[0m \u001b[0mTfidfVectorizer\u001b[0m\u001b[0;34m(\u001b[0m\u001b[0mtokenizer\u001b[0m \u001b[0;34m=\u001b[0m \u001b[0mtext_data_cleaning\u001b[0m\u001b[0;34m)\u001b[0m\u001b[0;34m\u001b[0m\u001b[0;34m\u001b[0m\u001b[0m\n\u001b[0m\u001b[1;32m      3\u001b[0m \u001b[0mclassifier\u001b[0m \u001b[0;34m=\u001b[0m \u001b[0mLinearSVC\u001b[0m\u001b[0;34m(\u001b[0m\u001b[0;34m)\u001b[0m\u001b[0;34m\u001b[0m\u001b[0;34m\u001b[0m\u001b[0m\n",
      "\u001b[0;31mNameError\u001b[0m: name 'TfidfVectorizer' is not defined"
     ]
    }
   ],
   "source": [
    "#Definir la función de tokenizado y crear el clasificador lineal\n",
    "tfidf = TfidfVectorizer(tokenizer = text_data_cleaning)\n",
    "classifier = LinearSVC()"
   ]
  },
  {
   "cell_type": "code",
   "execution_count": null,
   "id": "f113b2fc",
   "metadata": {},
   "outputs": [],
   "source": []
  },
  {
   "cell_type": "code",
   "execution_count": null,
   "id": "2eb600c2",
   "metadata": {},
   "outputs": [],
   "source": []
  },
  {
   "cell_type": "code",
   "execution_count": null,
   "id": "3f30bbd0",
   "metadata": {},
   "outputs": [],
   "source": []
  },
  {
   "cell_type": "code",
   "execution_count": null,
   "id": "3474ca9c",
   "metadata": {},
   "outputs": [],
   "source": []
  },
  {
   "cell_type": "code",
   "execution_count": null,
   "id": "1b41da19",
   "metadata": {},
   "outputs": [],
   "source": []
  },
  {
   "cell_type": "markdown",
   "id": "94acf7c2",
   "metadata": {},
   "source": [
    "# API Función"
   ]
  },
  {
   "cell_type": "code",
   "execution_count": 2,
   "id": "2c6f7f0a",
   "metadata": {},
   "outputs": [],
   "source": [
    "# 4 authentication chains\n",
    "\n",
    "consumer_key='jQTzrkE7vlZbg2ntJu4LESCZs'\n",
    "consumer_secret='AS4B8YLOWXMcrHjJyZ8stWcm9Cp2qh0rCdIjiWaPBaTTc22tnO'\n",
    "access_key='902474996-b1ltSFx5Y2EdJfi2s63pghsULdjLTF1lkW6oHBvj'\n",
    "access_secret='TrZr5nGmi2Q4RcAJJ3UHbwuWkAqjcNXOTfCHLm1eOzpnn'\n",
    "\n",
    "# authorize twitter, initialize tweepy\n",
    "\n",
    "auth = tweepy.OAuthHandler(consumer_key, consumer_secret)\n",
    "auth.set_access_token(access_key, access_secret)\n",
    "api = tweepy.API(auth, wait_on_rate_limit = True, wait_on_rate_limit_notify = True)"
   ]
  },
  {
   "cell_type": "markdown",
   "id": "a8266cd8",
   "metadata": {},
   "source": [
    "Puedo sacar la URL del Tweet + ID"
   ]
  },
  {
   "cell_type": "code",
   "execution_count": 37,
   "id": "347e2beb",
   "metadata": {},
   "outputs": [],
   "source": [
    "# Checkear menciones\n",
    "\n",
    "def check_mentions():\n",
    "    \n",
    "    mentions = api.mentions_timeline(tweet_mode= 'extented')\n",
    "    \n",
    "    user = []\n",
    "    for tweet in mentions:\n",
    "        \n",
    "        print(tweet.created_at)\n",
    "        print(tweet.text)\n",
    "        print(tweet.source)\n",
    "        print(tweet.user.name)\n",
    "        \n",
    "        #user.append(tweet.User)\n",
    "        \n",
    "    #for i in tweet.user:\n",
    "        \n",
    "            #name = i.name\n",
    "            #screen_name = i.screen_name\n",
    "            #location = i.location if i.location else ''\n",
    "            #url = 'https://twitter.com/' + i.screen_name\n",
    "            #followers_count = i.followers_count\n",
    "            #verified = i.verified"
   ]
  },
  {
   "cell_type": "code",
   "execution_count": 38,
   "id": "57285896",
   "metadata": {
    "scrolled": true
   },
   "outputs": [
    {
     "name": "stdout",
     "output_type": "stream",
     "text": [
      "2021-06-22 10:24:44\n",
      "@ironhackerMAD que tal?\n",
      "Twitter for Android\n",
      "Ironhacker\n",
      "2021-06-19 19:39:18\n",
      "@xinxinricardo Vamooooo\n",
      "Twitter for iPhone\n",
      "Javi Rando\n",
      "2021-06-18 17:02:44\n",
      "@biwenger @xinxinricardo @CarlosLarios96\n",
      "Twitter for iPhone\n",
      "Creed Moreno\n",
      "2021-06-18 11:17:30\n",
      "@xinxinricardo @PabloIglesias @PabloIglesias qsqtcqeup\n",
      "Twitter for iPhone\n",
      "Creed Moreno\n",
      "2021-06-17 16:32:09\n",
      "@xinxinricardo wow\n",
      "Twitter for Android\n",
      "Bryan the Insect 🦟\n",
      "2021-06-17 15:55:05\n",
      "@xinxinricardo vas a cambiar el mundo?\n",
      "Twitter for Android\n",
      "Ironhacker\n",
      "2021-06-11 11:45:36\n",
      "@xinxinricardo Indúltame esta https://t.co/5OfyLy9V9R\n",
      "Twitter for iPhone\n",
      "Creed Moreno\n",
      "2021-06-11 11:43:23\n",
      "@xinxinricardo EL SEÑOR DE LA NOCHE ES MITAD HOMBRE MITAD ANIMAL\n",
      "Twitter for iPhone\n",
      "Creed Moreno\n",
      "2021-06-11 11:43:07\n",
      "@xinxinricardo After en casa del tio de barrron!!!\n",
      "Twitter for iPhone\n",
      "Creed Moreno\n",
      "2021-06-11 11:42:45\n",
      "@xinxinricardo Que si tio que eres un pipa\n",
      "Twitter for iPhone\n",
      "Creed Moreno\n",
      "2021-06-11 11:42:38\n",
      "@xinxinricardo Pf\n",
      "Twitter for Android\n",
      "Larios\n",
      "2021-06-11 11:42:22\n",
      "@xinxinricardo TE ESTÁS PASANDO DE LA RAYAAAAAAAAAA\n",
      "Twitter for Android\n",
      "Bryan the Insect 🦟\n",
      "2021-06-11 11:41:22\n",
      "@xinxinricardo APARECE!!\n",
      "Twitter for iPhone\n",
      "Creed Moreno\n",
      "2021-06-11 11:40:53\n",
      "@xinxinricardo eres capaz de detectar esto? HIJ0d3PuTa\n",
      "Twitter for iPhone\n",
      "Creed Moreno\n",
      "2021-06-11 11:40:32\n",
      "@xinxinricardo DAME UN MES!!!!!\n",
      "Twitter for Android\n",
      "Bryan the Insect 🦟\n",
      "2021-06-11 11:40:31\n",
      "@xinxinricardo Ggggggg iiiii liiii poooo yyyy aaaa ss\n",
      "Twitter for iPhone\n",
      "Creed Moreno\n",
      "2021-06-11 11:40:15\n",
      "@xinxinricardo Eh puto toy no te hablamos mas eh\n",
      "Twitter for iPhone\n",
      "Creed Moreno\n",
      "2021-06-11 11:39:59\n",
      "@xinxinricardo Farolo de mierda\n",
      "Twitter for iPhone\n",
      "Creed Moreno\n",
      "2021-05-22 19:32:49\n",
      "@xinxinricardo @atletienglish Congratulations! You did it.\n",
      "Twitter Web App\n",
      "Uncle Sam - EndPoliceBrutality\n"
     ]
    }
   ],
   "source": [
    "check_mentions()"
   ]
  },
  {
   "cell_type": "code",
   "execution_count": null,
   "id": "e44fdbea",
   "metadata": {},
   "outputs": [],
   "source": []
  }
 ],
 "metadata": {
  "kernelspec": {
   "display_name": "clase",
   "language": "python",
   "name": "clase"
  },
  "language_info": {
   "codemirror_mode": {
    "name": "ipython",
    "version": 3
   },
   "file_extension": ".py",
   "mimetype": "text/x-python",
   "name": "python",
   "nbconvert_exporter": "python",
   "pygments_lexer": "ipython3",
   "version": "3.8.8"
  }
 },
 "nbformat": 4,
 "nbformat_minor": 5
}
