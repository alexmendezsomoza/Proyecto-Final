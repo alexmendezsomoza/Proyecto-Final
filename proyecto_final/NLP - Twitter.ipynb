{
 "cells": [
  {
   "cell_type": "markdown",
   "id": "e38bebac",
   "metadata": {},
   "source": [
    "# Modelo NLP - Twitter"
   ]
  },
  {
   "cell_type": "code",
   "execution_count": null,
   "id": "25f40ef2",
   "metadata": {},
   "outputs": [],
   "source": [
    "# Installs\n",
    "#!pip3 install scikit-learn\n",
    "#!pip3 install -U spacy\n",
    "#!python3 -m spacy download es\n",
    "#!python3 -m spacy download es_core_news_sm"
   ]
  },
  {
   "cell_type": "code",
   "execution_count": null,
   "id": "0fb4bcff",
   "metadata": {},
   "outputs": [],
   "source": [
    "#!pip install spacy"
   ]
  },
  {
   "cell_type": "code",
   "execution_count": null,
   "id": "3ebfb9b2",
   "metadata": {},
   "outputs": [],
   "source": [
    "#!pip install -U pip setuptools wheel\n",
    "#!pip install -U spacy\n",
    "#!python -m spacy download es_core_news_sm"
   ]
  },
  {
   "cell_type": "code",
   "execution_count": 63,
   "id": "980d9312",
   "metadata": {},
   "outputs": [],
   "source": [
    "import pandas as pd\n",
    "from spacy import displacy\n",
    "import spacy\n",
    "import re\n",
    "import mysql.connector as conn"
   ]
  },
  {
   "cell_type": "code",
   "execution_count": 15,
   "id": "ae8b0f16",
   "metadata": {},
   "outputs": [],
   "source": [
    "from spacy.lang.es.stop_words import STOP_WORDS"
   ]
  },
  {
   "cell_type": "markdown",
   "id": "c787aabd",
   "metadata": {},
   "source": [
    "## Test Final"
   ]
  },
  {
   "cell_type": "code",
   "execution_count": 31,
   "id": "ce35aaa8",
   "metadata": {},
   "outputs": [],
   "source": [
    "final_final_final_resultado = pd.read_csv('final_final_resultado.csv')\n",
    "\n",
    "for line in final_final_final_resultado:\n",
    "\t#Reemplazar los caracteres unicode, no se dejaron tildes porque causan error\n",
    "    strtmp1 = line.replace('\\\\u00f1', 'ñ')\n",
    "    strtmp1 = strtmp1.replace('\\\\u00e1', 'a')\n",
    "    strtmp1 = strtmp1.replace('\\\\u00e9', 'e')\n",
    "    strtmp1 = strtmp1.replace('\\\\u00ed', 'i')\n",
    "    strtmp1 = strtmp1.replace('\\\\u00f3', 'o')\n",
    "    strtmp1 = strtmp1.replace('\\\\u00fa', 'u')\n",
    "    strtmp1 = strtmp1.replace('\\\\u00bf', '¿')\n",
    "    strtmp1 = strtmp1.replace('\\\\u00a1', '¡')\n",
    "    strtmp1 = strtmp1.replace('\\\\u00d1', 'Ñ')\n",
    "    strtmp1 = strtmp1.replace('\\\\u00c1', 'A')\n",
    "    strtmp1 = strtmp1.replace('\\\\u00c9', 'E')\n",
    "    strtmp1 = strtmp1.replace('\\\\u00cd', 'I')\n",
    "    strtmp1 = strtmp1.replace('\\\\u00d3', 'O')\n",
    "    strtmp1 = strtmp1.replace('\\\\u00da', 'U')\n",
    "    strtmp1 = strtmp1.replace('\\\\u00fc', 'ü')\n",
    "    strtmp1 = strtmp1.replace('\\\\u00b0', '')\n",
    "    #Quitar el inicio y el fin del json para dejar solo los tweets\n",
    "    strtmp1 = strtmp1.replace('{\"tweets\": {\"tweet\": ', '')\n",
    "    strtmp1 = strtmp1.replace(']}}', ']')\n",
    "    #Quitar el diccionario que contiene la polaridad y dejarla solo con su valor de sentimiento\n",
    "    strtmp1 = strtmp1.replace('\"sentiment\": {\"polarity\": {\"value\": ', '\"sentiment\": ')\n",
    "    strtmp1 = strtmp1.replace('\"NONE\"}}', '\"NONE\"')\n",
    "    #Asignamos al sentimiento positivo el valor de 1\n",
    "    strtmp1 = strtmp1.replace('\"P\"}}', '1')\n",
    "    strtmp1 = strtmp1.replace('\"NEU\"}}', '\"NEU\"')\n",
    "    #Asignamos al sentimiento negativo el valor de 0\n",
    "    strtmp1 = strtmp1.replace('\"N\"}}', '0')\n",
    "    #eliminación de puntuaciones\n",
    "    strtmp1 = re.sub('[¡!#$).;¿?&°]', '', strtmp1.lower())\n"
   ]
  },
  {
   "cell_type": "code",
   "execution_count": 32,
   "id": "e3b880ca",
   "metadata": {},
   "outputs": [
    {
     "data": {
      "text/html": [
       "<div>\n",
       "<style scoped>\n",
       "    .dataframe tbody tr th:only-of-type {\n",
       "        vertical-align: middle;\n",
       "    }\n",
       "\n",
       "    .dataframe tbody tr th {\n",
       "        vertical-align: top;\n",
       "    }\n",
       "\n",
       "    .dataframe thead th {\n",
       "        text-align: right;\n",
       "    }\n",
       "</style>\n",
       "<table border=\"1\" class=\"dataframe\">\n",
       "  <thead>\n",
       "    <tr style=\"text-align: right;\">\n",
       "      <th></th>\n",
       "      <th>tweetid</th>\n",
       "      <th>user</th>\n",
       "      <th>content</th>\n",
       "      <th>date</th>\n",
       "      <th>lang</th>\n",
       "      <th>sentiment</th>\n",
       "    </tr>\n",
       "  </thead>\n",
       "  <tbody>\n",
       "    <tr>\n",
       "      <th>0</th>\n",
       "      <td>768213567418036224</td>\n",
       "      <td>3429794128</td>\n",
       "      <td>@myendlesshazza a que puto mal escribo b me si...</td>\n",
       "      <td>2016-08-23 22:29:21+00:00</td>\n",
       "      <td>es</td>\n",
       "      <td>0</td>\n",
       "    </tr>\n",
       "    <tr>\n",
       "      <th>1</th>\n",
       "      <td>768221670255493120</td>\n",
       "      <td>396616007</td>\n",
       "      <td>quiero mogollon a @albabenito99 pero sobretodo...</td>\n",
       "      <td>2016-08-23 23:01:33+00:00</td>\n",
       "      <td>es</td>\n",
       "      <td>1</td>\n",
       "    </tr>\n",
       "    <tr>\n",
       "      <th>2</th>\n",
       "      <td>768221021300264960</td>\n",
       "      <td>2845050061</td>\n",
       "      <td>vale he visto la tia bebiendose su regla y me ...</td>\n",
       "      <td>2016-08-23 22:58:58+00:00</td>\n",
       "      <td>es</td>\n",
       "      <td>0</td>\n",
       "    </tr>\n",
       "    <tr>\n",
       "      <th>3</th>\n",
       "      <td>768220253730009088</td>\n",
       "      <td>442100979</td>\n",
       "      <td>@yulian_poe @guillermoterry1 ah mucho mas por ...</td>\n",
       "      <td>2016-08-23 22:55:55+00:00</td>\n",
       "      <td>es</td>\n",
       "      <td>1</td>\n",
       "    </tr>\n",
       "    <tr>\n",
       "      <th>4</th>\n",
       "      <td>768231229439311872</td>\n",
       "      <td>529648312</td>\n",
       "      <td>@toni_end seria mejor que dejasen de emitir es...</td>\n",
       "      <td>2016-08-23 23:39:32+00:00</td>\n",
       "      <td>es</td>\n",
       "      <td>0</td>\n",
       "    </tr>\n",
       "  </tbody>\n",
       "</table>\n",
       "</div>"
      ],
      "text/plain": [
       "              tweetid        user  \\\n",
       "0  768213567418036224  3429794128   \n",
       "1  768221670255493120   396616007   \n",
       "2  768221021300264960  2845050061   \n",
       "3  768220253730009088   442100979   \n",
       "4  768231229439311872   529648312   \n",
       "\n",
       "                                             content  \\\n",
       "0  @myendlesshazza a que puto mal escribo b me si...   \n",
       "1  quiero mogollon a @albabenito99 pero sobretodo...   \n",
       "2  vale he visto la tia bebiendose su regla y me ...   \n",
       "3  @yulian_poe @guillermoterry1 ah mucho mas por ...   \n",
       "4  @toni_end seria mejor que dejasen de emitir es...   \n",
       "\n",
       "                        date lang sentiment  \n",
       "0  2016-08-23 22:29:21+00:00   es         0  \n",
       "1  2016-08-23 23:01:33+00:00   es         1  \n",
       "2  2016-08-23 22:58:58+00:00   es         0  \n",
       "3  2016-08-23 22:55:55+00:00   es         1  \n",
       "4  2016-08-23 23:39:32+00:00   es         0  "
      ]
     },
     "execution_count": 32,
     "metadata": {},
     "output_type": "execute_result"
    }
   ],
   "source": [
    "#Quitar columnas sin clasificación de sentimiento \n",
    "indexNames = final_final_final_resultado[(final_final_final_resultado['sentiment'] == 'none') | (final_final_final_resultado['sentiment'] == 'neu')].index\n",
    "final_final_final_resultado.drop(indexNames , inplace=True)\n",
    "final_final_final_resultado.head()"
   ]
  },
  {
   "cell_type": "code",
   "execution_count": 33,
   "id": "7c62927d",
   "metadata": {},
   "outputs": [],
   "source": [
    "#Importar librerías de aprendizaje\n",
    "from sklearn.feature_extraction.text import TfidfVectorizer\n",
    "from sklearn.pipeline import Pipeline\n",
    "from sklearn.model_selection import train_test_split\n",
    "from sklearn.metrics import accuracy_score, classification_report, confusion_matrix"
   ]
  },
  {
   "cell_type": "code",
   "execution_count": 34,
   "id": "20390c21",
   "metadata": {},
   "outputs": [
    {
     "data": {
      "text/plain": [
       "0    2854\n",
       "1    1896\n",
       "Name: sentiment, dtype: int64"
      ]
     },
     "execution_count": 34,
     "metadata": {},
     "output_type": "execute_result"
    }
   ],
   "source": [
    "#Verificar frecuencias de cada categoría\n",
    "final_final_final_resultado['sentiment'].value_counts()"
   ]
  },
  {
   "cell_type": "code",
   "execution_count": 35,
   "id": "3f123234",
   "metadata": {},
   "outputs": [
    {
     "data": {
      "text/plain": [
       "tweetid      0\n",
       "user         0\n",
       "content      0\n",
       "date         0\n",
       "lang         0\n",
       "sentiment    0\n",
       "dtype: int64"
      ]
     },
     "execution_count": 35,
     "metadata": {},
     "output_type": "execute_result"
    }
   ],
   "source": [
    "#Verificar si hay datos nulos\n",
    "final_final_final_resultado.isnull().sum()"
   ]
  },
  {
   "cell_type": "markdown",
   "id": "801e219b",
   "metadata": {},
   "source": [
    "# Tokenización"
   ]
  },
  {
   "cell_type": "code",
   "execution_count": 36,
   "id": "13823587",
   "metadata": {},
   "outputs": [
    {
     "data": {
      "text/plain": [
       "'!\"#$%&\\'()*+,-./:;<=>?@[\\\\]^_`{|}~¡¿'"
      ]
     },
     "execution_count": 36,
     "metadata": {},
     "output_type": "execute_result"
    }
   ],
   "source": [
    "import string #Quita todos los simbolos\n",
    "puntua = string.punctuation + \"¡¿\"\n",
    "puntua"
   ]
  },
  {
   "cell_type": "code",
   "execution_count": 37,
   "id": "6de0d292",
   "metadata": {},
   "outputs": [],
   "source": [
    "#Función para limpieza de datos\n",
    "def text_data_cleaning(sentence):\n",
    "    doc = nlp(sentence)\n",
    "    \n",
    "    tokens = []\n",
    "    for token in doc:\n",
    "        if token.lemma_ != \"-PRON-\":\n",
    "            temp = token.lemma_.strip()\n",
    "        else:\n",
    "            temp = token\n",
    "        tokens.append(temp)\n",
    "    \n",
    "    clean_tokens = []\n",
    "    for token in tokens:\n",
    "        if token not in stopwords_spacy and token not in puntua:\n",
    "            clean_tokens.append(token)\n",
    "    \n",
    "    return clean_tokens"
   ]
  },
  {
   "cell_type": "code",
   "execution_count": 38,
   "id": "f7faaeea",
   "metadata": {},
   "outputs": [
    {
     "data": {
      "text/plain": [
       "['Hola', 'Te', 'gustar', 'meetup']"
      ]
     },
     "execution_count": 38,
     "metadata": {},
     "output_type": "execute_result"
    }
   ],
   "source": [
    "text_data_cleaning(\"¡Hola cómo estás!. ¿Te gusta el meetup?\")"
   ]
  },
  {
   "cell_type": "markdown",
   "id": "caa7da3d",
   "metadata": {},
   "source": [
    "# Vectorization Feature Engineering (TF-IDF)"
   ]
  },
  {
   "cell_type": "code",
   "execution_count": 39,
   "id": "bf79c925",
   "metadata": {},
   "outputs": [],
   "source": [
    "#importar librería de vectorización\n",
    "from sklearn.svm import LinearSVC"
   ]
  },
  {
   "cell_type": "code",
   "execution_count": 40,
   "id": "9c18f0f2",
   "metadata": {},
   "outputs": [],
   "source": [
    "#Definir la función de tokenizado y crear el clasificador lineal\n",
    "tfidf = TfidfVectorizer(tokenizer = text_data_cleaning)\n",
    "classifier = LinearSVC()"
   ]
  },
  {
   "cell_type": "code",
   "execution_count": 41,
   "id": "8c319f00",
   "metadata": {},
   "outputs": [],
   "source": [
    "#Crear los vectores de datos\n",
    "X = final_final_final_resultado['content']\n",
    "y = final_final_final_resultado['sentiment']"
   ]
  },
  {
   "cell_type": "code",
   "execution_count": 42,
   "id": "3f21f2ef",
   "metadata": {},
   "outputs": [
    {
     "data": {
      "text/plain": [
       "((3800,), (950,), (3800,), (950,))"
      ]
     },
     "execution_count": 42,
     "metadata": {},
     "output_type": "execute_result"
    }
   ],
   "source": [
    "#Crear el vector de entrenamiento como una porción de los datos y dejar el resto para pruebas\n",
    "X_train, X_test, y_train, y_test = train_test_split(X, y, test_size=0.2, random_state=42)\n",
    "X_train.shape, X_test.shape, y_train.shape, y_test.shape"
   ]
  },
  {
   "cell_type": "code",
   "execution_count": 43,
   "id": "4c9f140a",
   "metadata": {},
   "outputs": [],
   "source": [
    "#Crear un pipeline\n",
    "clf = Pipeline([('tfidf', tfidf), ('clf', classifier)])"
   ]
  },
  {
   "cell_type": "code",
   "execution_count": 44,
   "id": "389bf039",
   "metadata": {},
   "outputs": [],
   "source": [
    "#evitar que el formato se tome como unknown\n",
    "y_train = y_train.astype('int')\n",
    "y_test = y_test.astype('int')"
   ]
  },
  {
   "cell_type": "code",
   "execution_count": 45,
   "id": "c509811f",
   "metadata": {},
   "outputs": [
    {
     "data": {
      "text/plain": [
       "Pipeline(steps=[('tfidf',\n",
       "                 TfidfVectorizer(tokenizer=<function text_data_cleaning at 0x7fedfeb39670>)),\n",
       "                ('clf', LinearSVC())])"
      ]
     },
     "execution_count": 45,
     "metadata": {},
     "output_type": "execute_result"
    }
   ],
   "source": [
    "#Entrenar el clasificador\n",
    "clf.fit(X_train, y_train)"
   ]
  },
  {
   "cell_type": "code",
   "execution_count": 46,
   "id": "16315ddd",
   "metadata": {},
   "outputs": [],
   "source": [
    "#Crear el vectos de valores predichos a partir del clasificador\n",
    "y_pred = clf.predict(X_test)"
   ]
  },
  {
   "cell_type": "code",
   "execution_count": 47,
   "id": "0164c76a",
   "metadata": {},
   "outputs": [
    {
     "name": "stdout",
     "output_type": "stream",
     "text": [
      "              precision    recall  f1-score   support\n",
      "\n",
      "           0       0.87      0.90      0.88       578\n",
      "           1       0.84      0.78      0.81       372\n",
      "\n",
      "    accuracy                           0.86       950\n",
      "   macro avg       0.85      0.84      0.85       950\n",
      "weighted avg       0.86      0.86      0.85       950\n",
      "\n"
     ]
    }
   ],
   "source": [
    "#Ver la precisión obtenida\n",
    "print(classification_report(y_test, y_pred))"
   ]
  },
  {
   "cell_type": "code",
   "execution_count": 48,
   "id": "67e41ee6",
   "metadata": {},
   "outputs": [],
   "source": [
    "# 86% de 'efectividad'"
   ]
  },
  {
   "cell_type": "code",
   "execution_count": 49,
   "id": "94849b8e",
   "metadata": {},
   "outputs": [
    {
     "data": {
      "text/plain": [
       "array([[522,  56],\n",
       "       [ 81, 291]])"
      ]
     },
     "execution_count": 49,
     "metadata": {},
     "output_type": "execute_result"
    }
   ],
   "source": [
    "#Crear la matriz de confusión\n",
    "confusion_matrix(y_test, y_pred)"
   ]
  },
  {
   "cell_type": "markdown",
   "id": "863cc624",
   "metadata": {},
   "source": [
    "Me dan 82 falsos negativos"
   ]
  },
  {
   "cell_type": "code",
   "execution_count": null,
   "id": "0bba5182",
   "metadata": {},
   "outputs": [],
   "source": [
    "#Predecir algunas frases de prueba\n",
    "clf.predict(['Eres una calamidad'])"
   ]
  },
  {
   "cell_type": "markdown",
   "id": "9b06cbd5",
   "metadata": {},
   "source": [
    "## Creo base de datos necesarias"
   ]
  },
  {
   "cell_type": "markdown",
   "id": "542a517c",
   "metadata": {},
   "source": [
    "### Creando SQL Database"
   ]
  },
  {
   "cell_type": "code",
   "execution_count": 67,
   "id": "3e50c898",
   "metadata": {},
   "outputs": [],
   "source": [
    "db=conn.connect(host='localhost', user='root', passwd='123456', database='hate_blocker')\n",
    "\n",
    "cursor=db.cursor()"
   ]
  },
  {
   "cell_type": "markdown",
   "id": "56dead7c",
   "metadata": {},
   "source": [
    "cursor.execute('drop table if exists hate_blocker')"
   ]
  },
  {
   "cell_type": "markdown",
   "id": "8dd5c0c6",
   "metadata": {},
   "source": [
    "### Creando Tabla: Train Model\n",
    "\n",
    "El objetivo de este tabla es guardar los siguientes tweets:\n",
    "\n",
    "- Tweets correctos identificados como sentiment 1.\n",
    "\n",
    "- Tweets incorrectos identificados como sentiment 0.\n",
    "\n",
    "- Tweets correctos identificados como sentiment 0."
   ]
  },
  {
   "cell_type": "code",
   "execution_count": 68,
   "id": "3cb11d55",
   "metadata": {},
   "outputs": [],
   "source": [
    "tabla= '''\n",
    "        create table train_model(\n",
    "            \n",
    "           tweet_id bigint ,      \n",
    "           user bigint,\n",
    "           content varchar(500),\n",
    "           date varchar(500),\n",
    "           lang varchar(500),\n",
    "           sentiment bigint\n",
    "            \n",
    "        );\n",
    "'''\n",
    "\n",
    "cursor.execute (tabla)"
   ]
  },
  {
   "cell_type": "markdown",
   "id": "64e18c1e",
   "metadata": {},
   "source": [
    "### Creando Tabla: Listado Bullies"
   ]
  },
  {
   "cell_type": "code",
   "execution_count": null,
   "id": "a0b3b7c3",
   "metadata": {},
   "outputs": [],
   "source": [
    "tabla= '''\n",
    "        create table listado_bullies(\n",
    "            \n",
    "           \n",
    "           tweet_id bigint,\n",
    "           date varchar(500),      \n",
    "           name varchar(500),\n",
    "           account varchar(500),\n",
    "           tweet_text varchar(500),\n",
    "           URL_account varchar(500),\n",
    "           URL_tweet varchar(500)\n",
    "            \n",
    "        );\n",
    "'''\n",
    "\n",
    "\n",
    "cursor.execute (tabla)"
   ]
  },
  {
   "cell_type": "markdown",
   "id": "d9622957",
   "metadata": {},
   "source": [
    "# Función-Modelo"
   ]
  },
  {
   "cell_type": "code",
   "execution_count": 51,
   "id": "50a268f8",
   "metadata": {},
   "outputs": [],
   "source": [
    "import tweepy"
   ]
  },
  {
   "cell_type": "code",
   "execution_count": 59,
   "id": "b236b7f4",
   "metadata": {},
   "outputs": [],
   "source": [
    "# 4 authentication chains\n",
    "\n",
    "consumer_key='Qbxaw0OrPeZSFljKEp6SHI19M'\n",
    "consumer_secret='kva4UfB6cK2Z6P70MGV8LAM0MMOu3SAHjuUl5t7bWxpegkCHGl'\n",
    "access_key='902474996-eLIpuPP1uqYZoTWtprZuiL2FmehUURAZHT8ZBReU'\n",
    "access_secret='CkVPZlMz5Lk4EMYDZzmNM2zJQHGE0ze6CA0auHqnYtEhU'\n",
    "\n",
    "# authorize twitter, initialize tweepy\n",
    "\n",
    "auth = tweepy.OAuthHandler(consumer_key, consumer_secret)\n",
    "auth.set_access_token(access_key, access_secret)\n",
    "api = tweepy.API(auth, wait_on_rate_limit = True, wait_on_rate_limit_notify = True)"
   ]
  },
  {
   "cell_type": "code",
   "execution_count": 98,
   "id": "7f6a3962",
   "metadata": {},
   "outputs": [],
   "source": [
    "\n",
    "def insert(sentiment):\n",
    "    \n",
    "    insert_query=\"insert into {} ({}) values {};\"\\\n",
    "                        .format('train_model', ','.join(['tweet_id', 'user', 'content', 'date', 'lang', 'sentiment']), tuple([tweet.id_str, i.id,tweet.text, str(tweet.created_at), 'es', sentiment]))\n",
    "\n",
    "\n",
    "    cursor.execute(insert_query)\n",
    "\n",
    "    db.commit()\n",
    "\n",
    "    return"
   ]
  },
  {
   "cell_type": "code",
   "execution_count": 102,
   "id": "b4a268b2",
   "metadata": {},
   "outputs": [],
   "source": [
    "def bullies_to_sql():\n",
    "    \n",
    "    insert_query=\"insert into {} ({}) values {};\"\\\n",
    "                        .format('listado_bullies', ','.join(['tweet_id','date', 'name', 'account', 'tweet_text', 'URL_account','URL_tweet']), \n",
    "                                tuple([tweet.id_str, str(tweet.created_at), i.name, i.screen_name,tweet.text, 'https://twitter.com/' + i.screen_name, 'https://twitter.com/' + i.screen_name + '/status/' + tweet.id_str]))\n",
    "\n",
    "\n",
    "    cursor.execute(insert_query)\n",
    "\n",
    "    db.commit()\n",
    "\n",
    "    return"
   ]
  },
  {
   "cell_type": "code",
   "execution_count": 97,
   "id": "66fe8693",
   "metadata": {},
   "outputs": [
    {
     "name": "stdout",
     "output_type": "stream",
     "text": [
      "Status(_api=<tweepy.api.API object at 0x7fedff351580>, _json={'created_at': 'Sat Jun 19 19:39:18 +0000 2021', 'id': 1406335802897014796, 'id_str': '1406335802897014796', 'text': '@xinxinricardo Vamooooo', 'truncated': False, 'entities': {'hashtags': [], 'symbols': [], 'user_mentions': [{'screen_name': 'xinxinricardo', 'name': 'Esqueje (lo de la rama)', 'id': 902474996, 'id_str': '902474996', 'indices': [0, 14]}], 'urls': []}, 'source': '<a href=\"http://twitter.com/download/iphone\" rel=\"nofollow\">Twitter for iPhone</a>', 'in_reply_to_status_id': 1406333542448218115, 'in_reply_to_status_id_str': '1406333542448218115', 'in_reply_to_user_id': 902474996, 'in_reply_to_user_id_str': '902474996', 'in_reply_to_screen_name': 'xinxinricardo', 'user': {'id': 54359433, 'id_str': '54359433', 'name': 'Javi Rando', 'screen_name': 'javirando', 'location': 'Málaga', 'description': 'Creador y todo lo que se te ocurra en @JornadaPerfecta. CEO en Fantasy Content. Papá de Javi y Olivia', 'url': 'https://t.co/oUQmd1pq3x', 'entities': {'url': {'urls': [{'url': 'https://t.co/oUQmd1pq3x', 'expanded_url': 'http://fantasycontent.es', 'display_url': 'fantasycontent.es', 'indices': [0, 23]}]}, 'description': {'urls': []}}, 'protected': False, 'followers_count': 1666, 'friends_count': 507, 'listed_count': 28, 'created_at': 'Mon Jul 06 22:41:04 +0000 2009', 'favourites_count': 2927, 'utc_offset': None, 'time_zone': None, 'geo_enabled': True, 'verified': False, 'statuses_count': 10349, 'lang': None, 'contributors_enabled': False, 'is_translator': False, 'is_translation_enabled': False, 'profile_background_color': 'CCCCCC', 'profile_background_image_url': 'http://abs.twimg.com/images/themes/theme1/bg.png', 'profile_background_image_url_https': 'https://abs.twimg.com/images/themes/theme1/bg.png', 'profile_background_tile': False, 'profile_image_url': 'http://pbs.twimg.com/profile_images/1368707085416988672/rIgxyrnv_normal.jpg', 'profile_image_url_https': 'https://pbs.twimg.com/profile_images/1368707085416988672/rIgxyrnv_normal.jpg', 'profile_banner_url': 'https://pbs.twimg.com/profile_banners/54359433/1587825696', 'profile_link_color': '4A913C', 'profile_sidebar_border_color': 'BDDCAD', 'profile_sidebar_fill_color': 'DDFFCC', 'profile_text_color': '333333', 'profile_use_background_image': True, 'has_extended_profile': True, 'default_profile': False, 'default_profile_image': False, 'following': False, 'follow_request_sent': False, 'notifications': False, 'translator_type': 'none', 'withheld_in_countries': []}, 'geo': None, 'coordinates': None, 'place': None, 'contributors': None, 'is_quote_status': False, 'retweet_count': 0, 'favorite_count': 0, 'favorited': False, 'retweeted': False, 'lang': 'es'}, created_at=datetime.datetime(2021, 6, 19, 19, 39, 18), id=1406335802897014796, id_str='1406335802897014796', text='@xinxinricardo Vamooooo', truncated=False, entities={'hashtags': [], 'symbols': [], 'user_mentions': [{'screen_name': 'xinxinricardo', 'name': 'Esqueje (lo de la rama)', 'id': 902474996, 'id_str': '902474996', 'indices': [0, 14]}], 'urls': []}, source='Twitter for iPhone', source_url='http://twitter.com/download/iphone', in_reply_to_status_id=1406333542448218115, in_reply_to_status_id_str='1406333542448218115', in_reply_to_user_id=902474996, in_reply_to_user_id_str='902474996', in_reply_to_screen_name='xinxinricardo', author=User(_api=<tweepy.api.API object at 0x7fedff351580>, _json={'id': 54359433, 'id_str': '54359433', 'name': 'Javi Rando', 'screen_name': 'javirando', 'location': 'Málaga', 'description': 'Creador y todo lo que se te ocurra en @JornadaPerfecta. CEO en Fantasy Content. Papá de Javi y Olivia', 'url': 'https://t.co/oUQmd1pq3x', 'entities': {'url': {'urls': [{'url': 'https://t.co/oUQmd1pq3x', 'expanded_url': 'http://fantasycontent.es', 'display_url': 'fantasycontent.es', 'indices': [0, 23]}]}, 'description': {'urls': []}}, 'protected': False, 'followers_count': 1666, 'friends_count': 507, 'listed_count': 28, 'created_at': 'Mon Jul 06 22:41:04 +0000 2009', 'favourites_count': 2927, 'utc_offset': None, 'time_zone': None, 'geo_enabled': True, 'verified': False, 'statuses_count': 10349, 'lang': None, 'contributors_enabled': False, 'is_translator': False, 'is_translation_enabled': False, 'profile_background_color': 'CCCCCC', 'profile_background_image_url': 'http://abs.twimg.com/images/themes/theme1/bg.png', 'profile_background_image_url_https': 'https://abs.twimg.com/images/themes/theme1/bg.png', 'profile_background_tile': False, 'profile_image_url': 'http://pbs.twimg.com/profile_images/1368707085416988672/rIgxyrnv_normal.jpg', 'profile_image_url_https': 'https://pbs.twimg.com/profile_images/1368707085416988672/rIgxyrnv_normal.jpg', 'profile_banner_url': 'https://pbs.twimg.com/profile_banners/54359433/1587825696', 'profile_link_color': '4A913C', 'profile_sidebar_border_color': 'BDDCAD', 'profile_sidebar_fill_color': 'DDFFCC', 'profile_text_color': '333333', 'profile_use_background_image': True, 'has_extended_profile': True, 'default_profile': False, 'default_profile_image': False, 'following': False, 'follow_request_sent': False, 'notifications': False, 'translator_type': 'none', 'withheld_in_countries': []}, id=54359433, id_str='54359433', name='Javi Rando', screen_name='javirando', location='Málaga', description='Creador y todo lo que se te ocurra en @JornadaPerfecta. CEO en Fantasy Content. Papá de Javi y Olivia', url='https://t.co/oUQmd1pq3x', entities={'url': {'urls': [{'url': 'https://t.co/oUQmd1pq3x', 'expanded_url': 'http://fantasycontent.es', 'display_url': 'fantasycontent.es', 'indices': [0, 23]}]}, 'description': {'urls': []}}, protected=False, followers_count=1666, friends_count=507, listed_count=28, created_at=datetime.datetime(2009, 7, 6, 22, 41, 4), favourites_count=2927, utc_offset=None, time_zone=None, geo_enabled=True, verified=False, statuses_count=10349, lang=None, contributors_enabled=False, is_translator=False, is_translation_enabled=False, profile_background_color='CCCCCC', profile_background_image_url='http://abs.twimg.com/images/themes/theme1/bg.png', profile_background_image_url_https='https://abs.twimg.com/images/themes/theme1/bg.png', profile_background_tile=False, profile_image_url='http://pbs.twimg.com/profile_images/1368707085416988672/rIgxyrnv_normal.jpg', profile_image_url_https='https://pbs.twimg.com/profile_images/1368707085416988672/rIgxyrnv_normal.jpg', profile_banner_url='https://pbs.twimg.com/profile_banners/54359433/1587825696', profile_link_color='4A913C', profile_sidebar_border_color='BDDCAD', profile_sidebar_fill_color='DDFFCC', profile_text_color='333333', profile_use_background_image=True, has_extended_profile=True, default_profile=False, default_profile_image=False, following=False, follow_request_sent=False, notifications=False, translator_type='none', withheld_in_countries=[]), user=User(_api=<tweepy.api.API object at 0x7fedff351580>, _json={'id': 54359433, 'id_str': '54359433', 'name': 'Javi Rando', 'screen_name': 'javirando', 'location': 'Málaga', 'description': 'Creador y todo lo que se te ocurra en @JornadaPerfecta. CEO en Fantasy Content. Papá de Javi y Olivia', 'url': 'https://t.co/oUQmd1pq3x', 'entities': {'url': {'urls': [{'url': 'https://t.co/oUQmd1pq3x', 'expanded_url': 'http://fantasycontent.es', 'display_url': 'fantasycontent.es', 'indices': [0, 23]}]}, 'description': {'urls': []}}, 'protected': False, 'followers_count': 1666, 'friends_count': 507, 'listed_count': 28, 'created_at': 'Mon Jul 06 22:41:04 +0000 2009', 'favourites_count': 2927, 'utc_offset': None, 'time_zone': None, 'geo_enabled': True, 'verified': False, 'statuses_count': 10349, 'lang': None, 'contributors_enabled': False, 'is_translator': False, 'is_translation_enabled': False, 'profile_background_color': 'CCCCCC', 'profile_background_image_url': 'http://abs.twimg.com/images/themes/theme1/bg.png', 'profile_background_image_url_https': 'https://abs.twimg.com/images/themes/theme1/bg.png', 'profile_background_tile': False, 'profile_image_url': 'http://pbs.twimg.com/profile_images/1368707085416988672/rIgxyrnv_normal.jpg', 'profile_image_url_https': 'https://pbs.twimg.com/profile_images/1368707085416988672/rIgxyrnv_normal.jpg', 'profile_banner_url': 'https://pbs.twimg.com/profile_banners/54359433/1587825696', 'profile_link_color': '4A913C', 'profile_sidebar_border_color': 'BDDCAD', 'profile_sidebar_fill_color': 'DDFFCC', 'profile_text_color': '333333', 'profile_use_background_image': True, 'has_extended_profile': True, 'default_profile': False, 'default_profile_image': False, 'following': False, 'follow_request_sent': False, 'notifications': False, 'translator_type': 'none', 'withheld_in_countries': []}, id=54359433, id_str='54359433', name='Javi Rando', screen_name='javirando', location='Málaga', description='Creador y todo lo que se te ocurra en @JornadaPerfecta. CEO en Fantasy Content. Papá de Javi y Olivia', url='https://t.co/oUQmd1pq3x', entities={'url': {'urls': [{'url': 'https://t.co/oUQmd1pq3x', 'expanded_url': 'http://fantasycontent.es', 'display_url': 'fantasycontent.es', 'indices': [0, 23]}]}, 'description': {'urls': []}}, protected=False, followers_count=1666, friends_count=507, listed_count=28, created_at=datetime.datetime(2009, 7, 6, 22, 41, 4), favourites_count=2927, utc_offset=None, time_zone=None, geo_enabled=True, verified=False, statuses_count=10349, lang=None, contributors_enabled=False, is_translator=False, is_translation_enabled=False, profile_background_color='CCCCCC', profile_background_image_url='http://abs.twimg.com/images/themes/theme1/bg.png', profile_background_image_url_https='https://abs.twimg.com/images/themes/theme1/bg.png', profile_background_tile=False, profile_image_url='http://pbs.twimg.com/profile_images/1368707085416988672/rIgxyrnv_normal.jpg', profile_image_url_https='https://pbs.twimg.com/profile_images/1368707085416988672/rIgxyrnv_normal.jpg', profile_banner_url='https://pbs.twimg.com/profile_banners/54359433/1587825696', profile_link_color='4A913C', profile_sidebar_border_color='BDDCAD', profile_sidebar_fill_color='DDFFCC', profile_text_color='333333', profile_use_background_image=True, has_extended_profile=True, default_profile=False, default_profile_image=False, following=False, follow_request_sent=False, notifications=False, translator_type='none', withheld_in_countries=[]), geo=None, coordinates=None, place=None, contributors=None, is_quote_status=False, retweet_count=0, favorite_count=0, favorited=False, retweeted=False, lang='es')\n",
      "User(_api=<tweepy.api.API object at 0x7fedff351580>, _json={'id': 54359433, 'id_str': '54359433', 'name': 'Javi Rando', 'screen_name': 'javirando', 'location': 'Málaga', 'description': 'Creador y todo lo que se te ocurra en @JornadaPerfecta. CEO en Fantasy Content. Papá de Javi y Olivia', 'url': 'https://t.co/oUQmd1pq3x', 'entities': {'url': {'urls': [{'url': 'https://t.co/oUQmd1pq3x', 'expanded_url': 'http://fantasycontent.es', 'display_url': 'fantasycontent.es', 'indices': [0, 23]}]}, 'description': {'urls': []}}, 'protected': False, 'followers_count': 1666, 'friends_count': 507, 'listed_count': 28, 'created_at': 'Mon Jul 06 22:41:04 +0000 2009', 'favourites_count': 2927, 'utc_offset': None, 'time_zone': None, 'geo_enabled': True, 'verified': False, 'statuses_count': 10349, 'lang': None, 'contributors_enabled': False, 'is_translator': False, 'is_translation_enabled': False, 'profile_background_color': 'CCCCCC', 'profile_background_image_url': 'http://abs.twimg.com/images/themes/theme1/bg.png', 'profile_background_image_url_https': 'https://abs.twimg.com/images/themes/theme1/bg.png', 'profile_background_tile': False, 'profile_image_url': 'http://pbs.twimg.com/profile_images/1368707085416988672/rIgxyrnv_normal.jpg', 'profile_image_url_https': 'https://pbs.twimg.com/profile_images/1368707085416988672/rIgxyrnv_normal.jpg', 'profile_banner_url': 'https://pbs.twimg.com/profile_banners/54359433/1587825696', 'profile_link_color': '4A913C', 'profile_sidebar_border_color': 'BDDCAD', 'profile_sidebar_fill_color': 'DDFFCC', 'profile_text_color': '333333', 'profile_use_background_image': True, 'has_extended_profile': True, 'default_profile': False, 'default_profile_image': False, 'following': False, 'follow_request_sent': False, 'notifications': False, 'translator_type': 'none', 'withheld_in_countries': []}, id=54359433, id_str='54359433', name='Javi Rando', screen_name='javirando', location='Málaga', description='Creador y todo lo que se te ocurra en @JornadaPerfecta. CEO en Fantasy Content. Papá de Javi y Olivia', url='https://t.co/oUQmd1pq3x', entities={'url': {'urls': [{'url': 'https://t.co/oUQmd1pq3x', 'expanded_url': 'http://fantasycontent.es', 'display_url': 'fantasycontent.es', 'indices': [0, 23]}]}, 'description': {'urls': []}}, protected=False, followers_count=1666, friends_count=507, listed_count=28, created_at=datetime.datetime(2009, 7, 6, 22, 41, 4), favourites_count=2927, utc_offset=None, time_zone=None, geo_enabled=True, verified=False, statuses_count=10349, lang=None, contributors_enabled=False, is_translator=False, is_translation_enabled=False, profile_background_color='CCCCCC', profile_background_image_url='http://abs.twimg.com/images/themes/theme1/bg.png', profile_background_image_url_https='https://abs.twimg.com/images/themes/theme1/bg.png', profile_background_tile=False, profile_image_url='http://pbs.twimg.com/profile_images/1368707085416988672/rIgxyrnv_normal.jpg', profile_image_url_https='https://pbs.twimg.com/profile_images/1368707085416988672/rIgxyrnv_normal.jpg', profile_banner_url='https://pbs.twimg.com/profile_banners/54359433/1587825696', profile_link_color='4A913C', profile_sidebar_border_color='BDDCAD', profile_sidebar_fill_color='DDFFCC', profile_text_color='333333', profile_use_background_image=True, has_extended_profile=True, default_profile=False, default_profile_image=False, following=False, follow_request_sent=False, notifications=False, translator_type='none', withheld_in_countries=[])\n",
      "Voy a bloquear a  javirando por el siguiente tweet: @xinxinricardo Vamooooo\n"
     ]
    },
    {
     "ename": "KeyboardInterrupt",
     "evalue": "Interrupted by user",
     "output_type": "error",
     "traceback": [
      "\u001b[0;31m---------------------------------------------------------------------------\u001b[0m",
      "\u001b[0;31mKeyboardInterrupt\u001b[0m                         Traceback (most recent call last)",
      "\u001b[0;32m<ipython-input-97-3d7ea5cc102a>\u001b[0m in \u001b[0;36m<module>\u001b[0;34m\u001b[0m\n\u001b[1;32m     25\u001b[0m         \u001b[0mprint\u001b[0m\u001b[0;34m(\u001b[0m\u001b[0;34m'Voy a bloquear a '\u001b[0m\u001b[0;34m,\u001b[0m \u001b[0mtweet\u001b[0m\u001b[0;34m.\u001b[0m\u001b[0muser\u001b[0m\u001b[0;34m.\u001b[0m\u001b[0mscreen_name\u001b[0m\u001b[0;34m,\u001b[0m \u001b[0;34m'por el siguiente tweet:'\u001b[0m\u001b[0;34m,\u001b[0m \u001b[0mtweet\u001b[0m\u001b[0;34m.\u001b[0m\u001b[0mtext\u001b[0m \u001b[0;34m)\u001b[0m\u001b[0;34m\u001b[0m\u001b[0;34m\u001b[0m\u001b[0m\n\u001b[1;32m     26\u001b[0m \u001b[0;34m\u001b[0m\u001b[0m\n\u001b[0;32m---> 27\u001b[0;31m         \u001b[0mverif\u001b[0m \u001b[0;34m=\u001b[0m \u001b[0minput\u001b[0m \u001b[0;34m(\u001b[0m\u001b[0;34m'¿Deseas bloquear a este usuario?'\u001b[0m\u001b[0;34m)\u001b[0m \u001b[0;31m# Estas seguro que quieres bloquear?\u001b[0m\u001b[0;34m\u001b[0m\u001b[0;34m\u001b[0m\u001b[0m\n\u001b[0m\u001b[1;32m     28\u001b[0m \u001b[0;34m\u001b[0m\u001b[0m\n\u001b[1;32m     29\u001b[0m         \u001b[0mprint\u001b[0m \u001b[0;34m(\u001b[0m\u001b[0mverif\u001b[0m\u001b[0;34m)\u001b[0m\u001b[0;34m\u001b[0m\u001b[0;34m\u001b[0m\u001b[0m\n",
      "\u001b[0;32m~/opt/miniconda3/envs/clase/lib/python3.8/site-packages/ipykernel/kernelbase.py\u001b[0m in \u001b[0;36mraw_input\u001b[0;34m(self, prompt)\u001b[0m\n\u001b[1;32m    846\u001b[0m                 \u001b[0;34m\"raw_input was called, but this frontend does not support input requests.\"\u001b[0m\u001b[0;34m\u001b[0m\u001b[0;34m\u001b[0m\u001b[0m\n\u001b[1;32m    847\u001b[0m             )\n\u001b[0;32m--> 848\u001b[0;31m         return self._input_request(str(prompt),\n\u001b[0m\u001b[1;32m    849\u001b[0m             \u001b[0mself\u001b[0m\u001b[0;34m.\u001b[0m\u001b[0m_parent_ident\u001b[0m\u001b[0;34m,\u001b[0m\u001b[0;34m\u001b[0m\u001b[0;34m\u001b[0m\u001b[0m\n\u001b[1;32m    850\u001b[0m             \u001b[0mself\u001b[0m\u001b[0;34m.\u001b[0m\u001b[0m_parent_header\u001b[0m\u001b[0;34m,\u001b[0m\u001b[0;34m\u001b[0m\u001b[0;34m\u001b[0m\u001b[0m\n",
      "\u001b[0;32m~/opt/miniconda3/envs/clase/lib/python3.8/site-packages/ipykernel/kernelbase.py\u001b[0m in \u001b[0;36m_input_request\u001b[0;34m(self, prompt, ident, parent, password)\u001b[0m\n\u001b[1;32m    890\u001b[0m             \u001b[0;32mexcept\u001b[0m \u001b[0mKeyboardInterrupt\u001b[0m\u001b[0;34m:\u001b[0m\u001b[0;34m\u001b[0m\u001b[0;34m\u001b[0m\u001b[0m\n\u001b[1;32m    891\u001b[0m                 \u001b[0;31m# re-raise KeyboardInterrupt, to truncate traceback\u001b[0m\u001b[0;34m\u001b[0m\u001b[0;34m\u001b[0m\u001b[0;34m\u001b[0m\u001b[0m\n\u001b[0;32m--> 892\u001b[0;31m                 \u001b[0;32mraise\u001b[0m \u001b[0mKeyboardInterrupt\u001b[0m\u001b[0;34m(\u001b[0m\u001b[0;34m\"Interrupted by user\"\u001b[0m\u001b[0;34m)\u001b[0m \u001b[0;32mfrom\u001b[0m \u001b[0;32mNone\u001b[0m\u001b[0;34m\u001b[0m\u001b[0;34m\u001b[0m\u001b[0m\n\u001b[0m\u001b[1;32m    893\u001b[0m             \u001b[0;32mexcept\u001b[0m \u001b[0mException\u001b[0m \u001b[0;32mas\u001b[0m \u001b[0me\u001b[0m\u001b[0;34m:\u001b[0m\u001b[0;34m\u001b[0m\u001b[0;34m\u001b[0m\u001b[0m\n\u001b[1;32m    894\u001b[0m                 \u001b[0mself\u001b[0m\u001b[0;34m.\u001b[0m\u001b[0mlog\u001b[0m\u001b[0;34m.\u001b[0m\u001b[0mwarning\u001b[0m\u001b[0;34m(\u001b[0m\u001b[0;34m\"Invalid Message:\"\u001b[0m\u001b[0;34m,\u001b[0m \u001b[0mexc_info\u001b[0m\u001b[0;34m=\u001b[0m\u001b[0;32mTrue\u001b[0m\u001b[0;34m)\u001b[0m\u001b[0;34m\u001b[0m\u001b[0;34m\u001b[0m\u001b[0m\n",
      "\u001b[0;31mKeyboardInterrupt\u001b[0m: Interrupted by user"
     ]
    }
   ],
   "source": [
    "users = []\n",
    "users_url = []\n",
    "tweets_url = []\n",
    "\n",
    "mentions = api.mentions_timeline(tweet_mode= 'extented')\n",
    "\n",
    "for tweet in mentions: # Entran los tweets\n",
    "    \n",
    "    print(tweet)\n",
    "    users.append(tweet.user)\n",
    "\n",
    "    for i in users:\n",
    "        \n",
    "        print(i)\n",
    "\n",
    "    \n",
    "    \n",
    "    valoracion = clf.predict([tweet.text]) \n",
    "    \n",
    "    if valoracion == 1: # Es positivo el tweet?\n",
    "        \n",
    "        print ('Es buena gente')\n",
    "        \n",
    "        insert(1) # Mete en sql los tweets con etiqueta 1 para entrenar.\n",
    "\n",
    "        \n",
    "    elif valoracion == 0: # Es negativo el tweet?\n",
    "        \n",
    "        print('Voy a bloquear a ', tweet.user.screen_name, 'por el siguiente tweet:', tweet.text )\n",
    "               \n",
    "        verif = input ('¿Deseas bloquear a este usuario?') # Estas seguro que quieres bloquear?\n",
    "        \n",
    "        print (verif)\n",
    "        \n",
    "        if verif == 'Si': # Si\n",
    "            \n",
    "            api.create_block(tweet.user.screen_name)\n",
    "            \n",
    "            insert(0) # Mete en sql los tweets con etiqueta 0 para entrenar.\n",
    "            \n",
    "            print('Bloqueado.')\n",
    "\n",
    "            \n",
    "        elif verif == 'No': # No\n",
    "            \n",
    "            insert(1) # Mete en sql los tweets con etiqueta 1 para entrenar.\n",
    "            \n",
    "            print ('Perdón por las molestias. Tengo mucho que aprender.')"
   ]
  },
  {
   "cell_type": "code",
   "execution_count": 85,
   "id": "ecb2c562",
   "metadata": {},
   "outputs": [
    {
     "data": {
      "text/plain": [
       "tweepy.models.Status"
      ]
     },
     "execution_count": 85,
     "metadata": {},
     "output_type": "execute_result"
    }
   ],
   "source": [
    "type(tweet)"
   ]
  },
  {
   "cell_type": "code",
   "execution_count": null,
   "id": "9da95ebf",
   "metadata": {},
   "outputs": [],
   "source": [
    "insert_query=\"insert into {} ({}) values {};\"\\\n",
    "                    .format('pabloiglesias_tweets', ','.join(['tweet_id','date',\n",
    "           'tweet_text','source','in_reply_to_screen_name','user_name',\n",
    "           'user_screen_name','location','user_url','n_followers','verified']), tuple([tweet_id,date,tweet_text,\n",
    "                                                                                      source, in_reply_to_screen_name,name,\n",
    "                                                                                      screen_name,location,url,followers_count,verified]))\n",
    "        #print (insert_query)\n",
    "        \n",
    "        cursor.execute(insert_query)\n",
    "    \n",
    "        db.commit()"
   ]
  }
 ],
 "metadata": {
  "kernelspec": {
   "display_name": "clase",
   "language": "python",
   "name": "clase"
  },
  "language_info": {
   "codemirror_mode": {
    "name": "ipython",
    "version": 3
   },
   "file_extension": ".py",
   "mimetype": "text/x-python",
   "name": "python",
   "nbconvert_exporter": "python",
   "pygments_lexer": "ipython3",
   "version": "3.8.8"
  }
 },
 "nbformat": 4,
 "nbformat_minor": 5
}
